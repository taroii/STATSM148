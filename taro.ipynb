{
 "cells": [
  {
   "cell_type": "markdown",
   "metadata": {},
   "source": [
    "# Taro's STATSM148 Notebook"
   ]
  },
  {
   "cell_type": "markdown",
   "metadata": {},
   "source": [
    "### I. Data Cleaning and Feature Engineering"
   ]
  },
  {
   "cell_type": "code",
   "execution_count": 2,
   "metadata": {},
   "outputs": [],
   "source": [
    "import pandas as pd\n",
    "import numpy as np\n",
    "\n",
    "# Import initial data\n",
    "data = pd.read_csv('export.csv')\n",
    "event_defs = pd.read_csv('event_definitions.csv')"
   ]
  },
  {
   "cell_type": "code",
   "execution_count": 4,
   "metadata": {},
   "outputs": [],
   "source": [
    "# Merge export.csv with event_definitions.csv\n",
    "merged = pd.merge(data, event_defs, left_on='ed_id', right_on='event_definition_id', how='inner')"
   ]
  },
  {
   "cell_type": "code",
   "execution_count": 5,
   "metadata": {},
   "outputs": [],
   "source": [
    "# Convert timestamps to datetime\n",
    "merged['event_timestamp'] = pd.to_datetime(merged['event_timestamp'])"
   ]
  },
  {
   "cell_type": "code",
   "execution_count": 6,
   "metadata": {},
   "outputs": [],
   "source": [
    "# Drop duplicate columns\n",
    "merged = merged.drop(['event_name_x', 'event_definition_id'], axis=1)"
   ]
  },
  {
   "cell_type": "code",
   "execution_count": 7,
   "metadata": {},
   "outputs": [
    {
     "data": {
      "text/plain": [
       "1665623"
      ]
     },
     "execution_count": 7,
     "metadata": {},
     "output_type": "execute_result"
    }
   ],
   "source": [
    "# Notice how there are more account ids than customer ids\n",
    "# Indicates that each customer can have multiple accounts\n",
    "merged.customer_id.nunique()\n",
    "merged.account_id.nunique()"
   ]
  },
  {
   "cell_type": "code",
   "execution_count": 10,
   "metadata": {},
   "outputs": [],
   "source": [
    "# Organize dataset by customer\n",
    "merged = merged.sort_values(by='customer_id')"
   ]
  },
  {
   "cell_type": "code",
   "execution_count": 11,
   "metadata": {},
   "outputs": [],
   "source": [
    "# Add n_accounts column to represent the number of accounts each customer has\n",
    "account_counts = merged.groupby('customer_id').size().reset_index(name='n_accounts')\n",
    "\n",
    "merged_with_counts = pd.merge(merged, account_counts, on='customer_id')"
   ]
  },
  {
   "cell_type": "code",
   "execution_count": 12,
   "metadata": {},
   "outputs": [
    {
     "data": {
      "text/plain": [
       "count    1.665623e+06\n",
       "mean     3.385285e+01\n",
       "std      4.481940e+01\n",
       "min      1.000000e+00\n",
       "25%      8.000000e+00\n",
       "50%      2.100000e+01\n",
       "75%      4.200000e+01\n",
       "max      3.277000e+03\n",
       "Name: n_accounts, dtype: float64"
      ]
     },
     "execution_count": 12,
     "metadata": {},
     "output_type": "execute_result"
    }
   ],
   "source": [
    "# The distribution of n_accounts per customer (kinda crazy!)\n",
    "merged_with_counts.groupby('customer_id')['n_accounts'].mean().describe()"
   ]
  },
  {
   "cell_type": "code",
   "execution_count": 13,
   "metadata": {},
   "outputs": [
    {
     "data": {
      "text/plain": [
       "customer_id                               1995202696\n",
       "account_id                                 524425745\n",
       "ed_id                                              4\n",
       "event_timestamp            2021-09-30 15:37:24+00:00\n",
       "journey_steps_until_end                         2970\n",
       "event_name_y                         browse_products\n",
       "journey_id                                         1\n",
       "milestone_number                                 NaN\n",
       "stage                                 First Purchase\n",
       "n_accounts                                      3277\n",
       "Name: 54378282, dtype: object"
      ]
     },
     "execution_count": 13,
     "metadata": {},
     "output_type": "execute_result"
    }
   ],
   "source": [
    "# The customer with the most accounts info:\n",
    "merged_with_counts.iloc[merged_with_counts['n_accounts'].idxmax(), ]"
   ]
  },
  {
   "cell_type": "code",
   "execution_count": 19,
   "metadata": {},
   "outputs": [],
   "source": [
    "# We want to study how the Discover phase affects success rates\n",
    "# To do this, we first need to identify customers that have gone through this phase\n",
    "discover_customers = merged_with_counts.groupby('customer_id')['stage'].apply(lambda x: 'Discover' in x.values).reset_index(name='has_discover')\n",
    "\n",
    "merged_with_discover = pd.merge(merged_with_counts, discover_customers, on='customer_id')"
   ]
  },
  {
   "cell_type": "code",
   "execution_count": 20,
   "metadata": {},
   "outputs": [],
   "source": [
    "# Save csv cuz my laptop slow af\n",
    "merged_with_discover.to_csv('merged_with_discover.csv')"
   ]
  },
  {
   "cell_type": "code",
   "execution_count": null,
   "metadata": {},
   "outputs": [],
   "source": [
    "# Delete these giant memory hogs\n",
    "del merged, data, merged_with_counts"
   ]
  },
  {
   "cell_type": "code",
   "execution_count": null,
   "metadata": {},
   "outputs": [],
   "source": [
    "merged_with_discover.head()"
   ]
  },
  {
   "cell_type": "code",
   "execution_count": null,
   "metadata": {},
   "outputs": [],
   "source": [
    "merged_with_discover.describe()"
   ]
  },
  {
   "cell_type": "code",
   "execution_count": null,
   "metadata": {},
   "outputs": [],
   "source": []
  },
  {
   "cell_type": "code",
   "execution_count": null,
   "metadata": {},
   "outputs": [],
   "source": [
    "# We can repeat this for the 'First Purchase' stage to show which customers have made a purchase\n",
    "first_purchase_customers = merged_with_counts.groupby('customer_id')['stage'].apply(lambda x: 'First Purchase' in x.values).reset_index(name='has_first_purchase')\n",
    "\n",
    "merged_with_first_purchase = pd.merge(merged_with_counts, first_purchase_customers, on='customer_id')"
   ]
  },
  {
   "cell_type": "code",
   "execution_count": 18,
   "metadata": {},
   "outputs": [
    {
     "data": {
      "text/plain": [
       "array(['First Purchase', 'Apply for Credit', 'Prospecting', 'Discover',\n",
       "       'Downpayment', 'Order Shipped', 'Credit Account'], dtype=object)"
      ]
     },
     "execution_count": 18,
     "metadata": {},
     "output_type": "execute_result"
    }
   ],
   "source": [
    "merged_with_counts.stage.unique()"
   ]
  }
 ],
 "metadata": {
  "kernelspec": {
   "display_name": "minimal",
   "language": "python",
   "name": "python3"
  },
  "language_info": {
   "codemirror_mode": {
    "name": "ipython",
    "version": 3
   },
   "file_extension": ".py",
   "mimetype": "text/x-python",
   "name": "python",
   "nbconvert_exporter": "python",
   "pygments_lexer": "ipython3",
   "version": "3.10.8"
  }
 },
 "nbformat": 4,
 "nbformat_minor": 2
}

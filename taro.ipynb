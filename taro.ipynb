{
 "cells": [
  {
   "cell_type": "markdown",
   "metadata": {},
   "source": [
    "# Taro's STATSM148 Notebook"
   ]
  },
  {
   "cell_type": "code",
   "execution_count": 1,
   "metadata": {},
   "outputs": [],
   "source": [
    "import pandas as pd\n",
    "import numpy as np"
   ]
  },
  {
   "cell_type": "code",
   "execution_count": 2,
   "metadata": {},
   "outputs": [],
   "source": [
    "data = pd.read_csv('export.csv')"
   ]
  },
  {
   "cell_type": "code",
   "execution_count": 4,
   "metadata": {},
   "outputs": [
    {
     "data": {
      "text/html": [
       "<div>\n",
       "<style scoped>\n",
       "    .dataframe tbody tr th:only-of-type {\n",
       "        vertical-align: middle;\n",
       "    }\n",
       "\n",
       "    .dataframe tbody tr th {\n",
       "        vertical-align: top;\n",
       "    }\n",
       "\n",
       "    .dataframe thead th {\n",
       "        text-align: right;\n",
       "    }\n",
       "</style>\n",
       "<table border=\"1\" class=\"dataframe\">\n",
       "  <thead>\n",
       "    <tr style=\"text-align: right;\">\n",
       "      <th></th>\n",
       "      <th>customer_id</th>\n",
       "      <th>account_id</th>\n",
       "      <th>ed_id</th>\n",
       "      <th>event_name</th>\n",
       "      <th>event_timestamp</th>\n",
       "      <th>journey_steps_until_end</th>\n",
       "    </tr>\n",
       "  </thead>\n",
       "  <tbody>\n",
       "    <tr>\n",
       "      <th>0</th>\n",
       "      <td>-784961211</td>\n",
       "      <td>1773350293</td>\n",
       "      <td>12</td>\n",
       "      <td>application_web_approved</td>\n",
       "      <td>2023-03-22T08:45:22.000Z</td>\n",
       "      <td>1</td>\n",
       "    </tr>\n",
       "    <tr>\n",
       "      <th>1</th>\n",
       "      <td>-784961211</td>\n",
       "      <td>1773350293</td>\n",
       "      <td>19</td>\n",
       "      <td>application_web_view</td>\n",
       "      <td>2023-03-22T13:32:10.000Z</td>\n",
       "      <td>2</td>\n",
       "    </tr>\n",
       "    <tr>\n",
       "      <th>2</th>\n",
       "      <td>-784961211</td>\n",
       "      <td>1773350293</td>\n",
       "      <td>19</td>\n",
       "      <td>application_web_view</td>\n",
       "      <td>2023-03-22T13:32:10.000Z</td>\n",
       "      <td>3</td>\n",
       "    </tr>\n",
       "    <tr>\n",
       "      <th>3</th>\n",
       "      <td>-784961211</td>\n",
       "      <td>1773350293</td>\n",
       "      <td>19</td>\n",
       "      <td>application_web_view</td>\n",
       "      <td>2023-03-22T13:32:10.000Z</td>\n",
       "      <td>4</td>\n",
       "    </tr>\n",
       "    <tr>\n",
       "      <th>4</th>\n",
       "      <td>-784961211</td>\n",
       "      <td>1773350293</td>\n",
       "      <td>19</td>\n",
       "      <td>application_web_view</td>\n",
       "      <td>2023-03-22T13:32:10.000Z</td>\n",
       "      <td>5</td>\n",
       "    </tr>\n",
       "  </tbody>\n",
       "</table>\n",
       "</div>"
      ],
      "text/plain": [
       "   customer_id  account_id  ed_id                event_name  \\\n",
       "0   -784961211  1773350293     12  application_web_approved   \n",
       "1   -784961211  1773350293     19      application_web_view   \n",
       "2   -784961211  1773350293     19      application_web_view   \n",
       "3   -784961211  1773350293     19      application_web_view   \n",
       "4   -784961211  1773350293     19      application_web_view   \n",
       "\n",
       "            event_timestamp  journey_steps_until_end  \n",
       "0  2023-03-22T08:45:22.000Z                        1  \n",
       "1  2023-03-22T13:32:10.000Z                        2  \n",
       "2  2023-03-22T13:32:10.000Z                        3  \n",
       "3  2023-03-22T13:32:10.000Z                        4  \n",
       "4  2023-03-22T13:32:10.000Z                        5  "
      ]
     },
     "execution_count": 4,
     "metadata": {},
     "output_type": "execute_result"
    }
   ],
   "source": [
    "data.head()"
   ]
  }
 ],
 "metadata": {
  "kernelspec": {
   "display_name": "minimal",
   "language": "python",
   "name": "python3"
  },
  "language_info": {
   "codemirror_mode": {
    "name": "ipython",
    "version": 3
   },
   "file_extension": ".py",
   "mimetype": "text/x-python",
   "name": "python",
   "nbconvert_exporter": "python",
   "pygments_lexer": "ipython3",
   "version": "3.10.8"
  }
 },
 "nbformat": 4,
 "nbformat_minor": 2
}

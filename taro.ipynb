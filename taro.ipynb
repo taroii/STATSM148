{
 "cells": [
  {
   "cell_type": "markdown",
   "metadata": {},
   "source": [
    "# Taro's STATSM148 Notebook"
   ]
  },
  {
   "cell_type": "markdown",
   "metadata": {},
   "source": [
    "### I. Data Cleaning and Feature Engineering"
   ]
  },
  {
   "cell_type": "code",
   "execution_count": 1,
   "metadata": {},
   "outputs": [],
   "source": [
    "import pandas as pd\n",
    "import numpy as np"
   ]
  },
  {
   "cell_type": "code",
   "execution_count": 2,
   "metadata": {},
   "outputs": [],
   "source": [
    "data = pd.read_csv('export.csv')"
   ]
  },
  {
   "cell_type": "code",
   "execution_count": 3,
   "metadata": {},
   "outputs": [],
   "source": [
    "event_defs = pd.read_csv('event_definitions.csv')"
   ]
  },
  {
   "cell_type": "code",
   "execution_count": 6,
   "metadata": {},
   "outputs": [],
   "source": [
    "merged = pd.merge(data, event_defs, left_on='ed_id', right_on='event_definition_id', how='inner')"
   ]
  },
  {
   "cell_type": "code",
   "execution_count": 7,
   "metadata": {},
   "outputs": [],
   "source": [
    "merged['event_timestamp'] = pd.to_datetime(merged['event_timestamp'])"
   ]
  },
  {
   "cell_type": "code",
   "execution_count": 12,
   "metadata": {},
   "outputs": [],
   "source": [
    "merged = merged.drop(['event_name_x', 'event_definition_id'], axis=1)"
   ]
  },
  {
   "cell_type": "code",
   "execution_count": 9,
   "metadata": {},
   "outputs": [
    {
     "data": {
      "text/plain": [
       "1665623"
      ]
     },
     "execution_count": 9,
     "metadata": {},
     "output_type": "execute_result"
    }
   ],
   "source": [
    "merged.customer_id.nunique()"
   ]
  },
  {
   "cell_type": "code",
   "execution_count": 10,
   "metadata": {},
   "outputs": [
    {
     "data": {
      "text/plain": [
       "1735383"
      ]
     },
     "execution_count": 10,
     "metadata": {},
     "output_type": "execute_result"
    }
   ],
   "source": [
    "merged.account_id.nunique()"
   ]
  },
  {
   "cell_type": "code",
   "execution_count": 13,
   "metadata": {},
   "outputs": [
    {
     "data": {
      "text/html": [
       "<div>\n",
       "<style scoped>\n",
       "    .dataframe tbody tr th:only-of-type {\n",
       "        vertical-align: middle;\n",
       "    }\n",
       "\n",
       "    .dataframe tbody tr th {\n",
       "        vertical-align: top;\n",
       "    }\n",
       "\n",
       "    .dataframe thead th {\n",
       "        text-align: right;\n",
       "    }\n",
       "</style>\n",
       "<table border=\"1\" class=\"dataframe\">\n",
       "  <thead>\n",
       "    <tr style=\"text-align: right;\">\n",
       "      <th></th>\n",
       "      <th>customer_id</th>\n",
       "      <th>account_id</th>\n",
       "      <th>ed_id</th>\n",
       "      <th>event_timestamp</th>\n",
       "      <th>journey_steps_until_end</th>\n",
       "      <th>event_name_y</th>\n",
       "      <th>journey_id</th>\n",
       "      <th>milestone_number</th>\n",
       "      <th>stage</th>\n",
       "    </tr>\n",
       "  </thead>\n",
       "  <tbody>\n",
       "    <tr>\n",
       "      <th>0</th>\n",
       "      <td>-784961211</td>\n",
       "      <td>1773350293</td>\n",
       "      <td>12</td>\n",
       "      <td>2023-03-22 08:45:22+00:00</td>\n",
       "      <td>1</td>\n",
       "      <td>application_web_approved</td>\n",
       "      <td>1</td>\n",
       "      <td>1.0</td>\n",
       "      <td>Apply for Credit</td>\n",
       "    </tr>\n",
       "    <tr>\n",
       "      <th>1</th>\n",
       "      <td>15849251</td>\n",
       "      <td>383997507</td>\n",
       "      <td>12</td>\n",
       "      <td>2021-11-29 15:44:08+00:00</td>\n",
       "      <td>15</td>\n",
       "      <td>application_web_approved</td>\n",
       "      <td>1</td>\n",
       "      <td>1.0</td>\n",
       "      <td>Apply for Credit</td>\n",
       "    </tr>\n",
       "    <tr>\n",
       "      <th>2</th>\n",
       "      <td>155529381</td>\n",
       "      <td>1786111954</td>\n",
       "      <td>12</td>\n",
       "      <td>2023-07-24 22:41:12+00:00</td>\n",
       "      <td>2</td>\n",
       "      <td>application_web_approved</td>\n",
       "      <td>1</td>\n",
       "      <td>1.0</td>\n",
       "      <td>Apply for Credit</td>\n",
       "    </tr>\n",
       "    <tr>\n",
       "      <th>3</th>\n",
       "      <td>-1697747935</td>\n",
       "      <td>-1016455199</td>\n",
       "      <td>12</td>\n",
       "      <td>2021-03-30 16:51:15+00:00</td>\n",
       "      <td>9</td>\n",
       "      <td>application_web_approved</td>\n",
       "      <td>1</td>\n",
       "      <td>1.0</td>\n",
       "      <td>Apply for Credit</td>\n",
       "    </tr>\n",
       "    <tr>\n",
       "      <th>4</th>\n",
       "      <td>-986357645</td>\n",
       "      <td>1289564882</td>\n",
       "      <td>12</td>\n",
       "      <td>2023-03-29 21:31:14+00:00</td>\n",
       "      <td>1</td>\n",
       "      <td>application_web_approved</td>\n",
       "      <td>1</td>\n",
       "      <td>1.0</td>\n",
       "      <td>Apply for Credit</td>\n",
       "    </tr>\n",
       "  </tbody>\n",
       "</table>\n",
       "</div>"
      ],
      "text/plain": [
       "   customer_id  account_id  ed_id           event_timestamp  \\\n",
       "0   -784961211  1773350293     12 2023-03-22 08:45:22+00:00   \n",
       "1     15849251   383997507     12 2021-11-29 15:44:08+00:00   \n",
       "2    155529381  1786111954     12 2023-07-24 22:41:12+00:00   \n",
       "3  -1697747935 -1016455199     12 2021-03-30 16:51:15+00:00   \n",
       "4   -986357645  1289564882     12 2023-03-29 21:31:14+00:00   \n",
       "\n",
       "   journey_steps_until_end              event_name_y  journey_id  \\\n",
       "0                        1  application_web_approved           1   \n",
       "1                       15  application_web_approved           1   \n",
       "2                        2  application_web_approved           1   \n",
       "3                        9  application_web_approved           1   \n",
       "4                        1  application_web_approved           1   \n",
       "\n",
       "   milestone_number             stage  \n",
       "0               1.0  Apply for Credit  \n",
       "1               1.0  Apply for Credit  \n",
       "2               1.0  Apply for Credit  \n",
       "3               1.0  Apply for Credit  \n",
       "4               1.0  Apply for Credit  "
      ]
     },
     "execution_count": 13,
     "metadata": {},
     "output_type": "execute_result"
    }
   ],
   "source": [
    "merged.head()"
   ]
  },
  {
   "cell_type": "code",
   "execution_count": 15,
   "metadata": {},
   "outputs": [],
   "source": [
    "merged = merged.sort_values(by='customer_id')"
   ]
  },
  {
   "cell_type": "code",
   "execution_count": null,
   "metadata": {},
   "outputs": [],
   "source": []
  }
 ],
 "metadata": {
  "kernelspec": {
   "display_name": "minimal",
   "language": "python",
   "name": "python3"
  },
  "language_info": {
   "codemirror_mode": {
    "name": "ipython",
    "version": 3
   },
   "file_extension": ".py",
   "mimetype": "text/x-python",
   "name": "python",
   "nbconvert_exporter": "python",
   "pygments_lexer": "ipython3",
   "version": "3.10.8"
  }
 },
 "nbformat": 4,
 "nbformat_minor": 2
}

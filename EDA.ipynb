{
 "cells": [
  {
   "cell_type": "code",
   "execution_count": 1,
   "id": "9eb14a75",
   "metadata": {},
   "outputs": [
    {
     "name": "stderr",
     "output_type": "stream",
     "text": [
      "/opt/anaconda3/lib/python3.9/site-packages/pandas/core/computation/expressions.py:21: UserWarning: Pandas requires version '2.8.4' or newer of 'numexpr' (version '2.7.3' currently installed).\n",
      "  from pandas.core.computation.check import NUMEXPR_INSTALLED\n",
      "/opt/anaconda3/lib/python3.9/site-packages/pandas/core/arrays/masked.py:60: UserWarning: Pandas requires version '1.3.6' or newer of 'bottleneck' (version '1.3.2' currently installed).\n",
      "  from pandas.core import (\n"
     ]
    }
   ],
   "source": [
    "import numpy as np\n",
    "import pandas as pd\n",
    "import seaborn as sns\n",
    "import matplotlib.pyplot as plt"
   ]
  },
  {
   "cell_type": "code",
   "execution_count": 2,
   "id": "3705fe24",
   "metadata": {},
   "outputs": [],
   "source": [
    "df = pd.read_csv(\"export_n_20.csv\")"
   ]
  },
  {
   "cell_type": "code",
   "execution_count": 3,
   "id": "9748d21c",
   "metadata": {},
   "outputs": [
    {
     "data": {
      "text/html": [
       "<div>\n",
       "<style scoped>\n",
       "    .dataframe tbody tr th:only-of-type {\n",
       "        vertical-align: middle;\n",
       "    }\n",
       "\n",
       "    .dataframe tbody tr th {\n",
       "        vertical-align: top;\n",
       "    }\n",
       "\n",
       "    .dataframe thead th {\n",
       "        text-align: right;\n",
       "    }\n",
       "</style>\n",
       "<table border=\"1\" class=\"dataframe\">\n",
       "  <thead>\n",
       "    <tr style=\"text-align: right;\">\n",
       "      <th></th>\n",
       "      <th>customer_id</th>\n",
       "      <th>Unnamed: 1</th>\n",
       "      <th>num_journeys</th>\n",
       "      <th>max_journey</th>\n",
       "      <th>discover</th>\n",
       "      <th>number_accounts</th>\n",
       "      <th>one_more_journey</th>\n",
       "      <th>most_repeated_event</th>\n",
       "      <th>average_length_seq</th>\n",
       "      <th>approved_credit</th>\n",
       "      <th>...</th>\n",
       "      <th>downpayment_cleared</th>\n",
       "      <th>order_ships</th>\n",
       "      <th>max_milestone</th>\n",
       "      <th>has_prospecting</th>\n",
       "      <th>has_pre_application</th>\n",
       "      <th>initial_device</th>\n",
       "      <th>time_in_discover</th>\n",
       "      <th>time_in_apply</th>\n",
       "      <th>first_20_events</th>\n",
       "      <th>time_since_last_event</th>\n",
       "    </tr>\n",
       "  </thead>\n",
       "  <tbody>\n",
       "    <tr>\n",
       "      <th>0</th>\n",
       "      <td>708</td>\n",
       "      <td>0</td>\n",
       "      <td>2</td>\n",
       "      <td>91</td>\n",
       "      <td>False</td>\n",
       "      <td>2</td>\n",
       "      <td>True</td>\n",
       "      <td>4</td>\n",
       "      <td>60.5</td>\n",
       "      <td>True</td>\n",
       "      <td>...</td>\n",
       "      <td>True</td>\n",
       "      <td>True</td>\n",
       "      <td>6.0</td>\n",
       "      <td>True</td>\n",
       "      <td>False</td>\n",
       "      <td>2.0</td>\n",
       "      <td>0.0</td>\n",
       "      <td>2045.0</td>\n",
       "      <td>[12  4  4  4  4 24 29  4  4  4  4  4  4  4  4 ...</td>\n",
       "      <td>[0.000000e+00 1.100000e+03 2.851830e+05 4.5900...</td>\n",
       "    </tr>\n",
       "    <tr>\n",
       "      <th>1</th>\n",
       "      <td>3591</td>\n",
       "      <td>0</td>\n",
       "      <td>1</td>\n",
       "      <td>63</td>\n",
       "      <td>False</td>\n",
       "      <td>1</td>\n",
       "      <td>False</td>\n",
       "      <td>4</td>\n",
       "      <td>58.0</td>\n",
       "      <td>True</td>\n",
       "      <td>...</td>\n",
       "      <td>False</td>\n",
       "      <td>False</td>\n",
       "      <td>1.0</td>\n",
       "      <td>True</td>\n",
       "      <td>False</td>\n",
       "      <td>2.0</td>\n",
       "      <td>0.0</td>\n",
       "      <td>218.0</td>\n",
       "      <td>[12  4 11  5  5  4  4  4  4  4  4  4 11  4  4 ...</td>\n",
       "      <td>[  0. 218.  89.  20.  28.  24.  95.  75.  87. ...</td>\n",
       "    </tr>\n",
       "    <tr>\n",
       "      <th>2</th>\n",
       "      <td>5414</td>\n",
       "      <td>0</td>\n",
       "      <td>1</td>\n",
       "      <td>27</td>\n",
       "      <td>True</td>\n",
       "      <td>1</td>\n",
       "      <td>False</td>\n",
       "      <td>4</td>\n",
       "      <td>24.0</td>\n",
       "      <td>True</td>\n",
       "      <td>...</td>\n",
       "      <td>False</td>\n",
       "      <td>False</td>\n",
       "      <td>1.0</td>\n",
       "      <td>True</td>\n",
       "      <td>False</td>\n",
       "      <td>2.0</td>\n",
       "      <td>4544216.0</td>\n",
       "      <td>549.0</td>\n",
       "      <td>[21 12  4  2  4 11  4 11  5  4 11  4 11  5  4 ...</td>\n",
       "      <td>[0.000000e+00 1.783191e+06 5.490000e+02 2.1051...</td>\n",
       "    </tr>\n",
       "    <tr>\n",
       "      <th>3</th>\n",
       "      <td>6072</td>\n",
       "      <td>0</td>\n",
       "      <td>1</td>\n",
       "      <td>8</td>\n",
       "      <td>True</td>\n",
       "      <td>1</td>\n",
       "      <td>False</td>\n",
       "      <td>4</td>\n",
       "      <td>6.0</td>\n",
       "      <td>True</td>\n",
       "      <td>...</td>\n",
       "      <td>False</td>\n",
       "      <td>False</td>\n",
       "      <td>1.0</td>\n",
       "      <td>True</td>\n",
       "      <td>False</td>\n",
       "      <td>2.0</td>\n",
       "      <td>1089605.0</td>\n",
       "      <td>260.0</td>\n",
       "      <td>[12  4  2  4 24 21  0  0  0  0  0  0  0  0  0 ...</td>\n",
       "      <td>[0.000000e+00 2.600000e+02 6.630000e+03 1.0896...</td>\n",
       "    </tr>\n",
       "    <tr>\n",
       "      <th>4</th>\n",
       "      <td>8039</td>\n",
       "      <td>0</td>\n",
       "      <td>1</td>\n",
       "      <td>11</td>\n",
       "      <td>True</td>\n",
       "      <td>1</td>\n",
       "      <td>False</td>\n",
       "      <td>19</td>\n",
       "      <td>11.0</td>\n",
       "      <td>True</td>\n",
       "      <td>...</td>\n",
       "      <td>False</td>\n",
       "      <td>False</td>\n",
       "      <td>1.0</td>\n",
       "      <td>False</td>\n",
       "      <td>False</td>\n",
       "      <td>2.0</td>\n",
       "      <td>30400833.0</td>\n",
       "      <td>21684.0</td>\n",
       "      <td>[19 19 19 19 19  3 19 19 12  2  4  0  0  0  0 ...</td>\n",
       "      <td>[0.0000000e+00 5.8000000e+01 2.0000000e+00 3.0...</td>\n",
       "    </tr>\n",
       "  </tbody>\n",
       "</table>\n",
       "<p>5 rows × 23 columns</p>\n",
       "</div>"
      ],
      "text/plain": [
       "   customer_id  Unnamed: 1  num_journeys  max_journey  discover  \\\n",
       "0          708           0             2           91     False   \n",
       "1         3591           0             1           63     False   \n",
       "2         5414           0             1           27      True   \n",
       "3         6072           0             1            8      True   \n",
       "4         8039           0             1           11      True   \n",
       "\n",
       "   number_accounts  one_more_journey  most_repeated_event  average_length_seq  \\\n",
       "0                2              True                    4                60.5   \n",
       "1                1             False                    4                58.0   \n",
       "2                1             False                    4                24.0   \n",
       "3                1             False                    4                 6.0   \n",
       "4                1             False                   19                11.0   \n",
       "\n",
       "   approved_credit  ...  downpayment_cleared  order_ships  max_milestone  \\\n",
       "0             True  ...                 True         True            6.0   \n",
       "1             True  ...                False        False            1.0   \n",
       "2             True  ...                False        False            1.0   \n",
       "3             True  ...                False        False            1.0   \n",
       "4             True  ...                False        False            1.0   \n",
       "\n",
       "   has_prospecting  has_pre_application  initial_device  time_in_discover  \\\n",
       "0             True                False             2.0               0.0   \n",
       "1             True                False             2.0               0.0   \n",
       "2             True                False             2.0         4544216.0   \n",
       "3             True                False             2.0         1089605.0   \n",
       "4            False                False             2.0        30400833.0   \n",
       "\n",
       "   time_in_apply                                    first_20_events  \\\n",
       "0         2045.0  [12  4  4  4  4 24 29  4  4  4  4  4  4  4  4 ...   \n",
       "1          218.0  [12  4 11  5  5  4  4  4  4  4  4  4 11  4  4 ...   \n",
       "2          549.0  [21 12  4  2  4 11  4 11  5  4 11  4 11  5  4 ...   \n",
       "3          260.0  [12  4  2  4 24 21  0  0  0  0  0  0  0  0  0 ...   \n",
       "4        21684.0  [19 19 19 19 19  3 19 19 12  2  4  0  0  0  0 ...   \n",
       "\n",
       "                               time_since_last_event  \n",
       "0  [0.000000e+00 1.100000e+03 2.851830e+05 4.5900...  \n",
       "1  [  0. 218.  89.  20.  28.  24.  95.  75.  87. ...  \n",
       "2  [0.000000e+00 1.783191e+06 5.490000e+02 2.1051...  \n",
       "3  [0.000000e+00 2.600000e+02 6.630000e+03 1.0896...  \n",
       "4  [0.0000000e+00 5.8000000e+01 2.0000000e+00 3.0...  \n",
       "\n",
       "[5 rows x 23 columns]"
      ]
     },
     "execution_count": 3,
     "metadata": {},
     "output_type": "execute_result"
    }
   ],
   "source": [
    "df.head()"
   ]
  },
  {
   "cell_type": "code",
   "execution_count": 4,
   "id": "e65af816",
   "metadata": {},
   "outputs": [
    {
     "data": {
      "text/plain": [
       "Index(['customer_id', 'Unnamed: 1', 'num_journeys', 'max_journey', 'discover',\n",
       "       'number_accounts', 'one_more_journey', 'most_repeated_event',\n",
       "       'average_length_seq', 'approved_credit', 'first_purchase',\n",
       "       'account_activitation', 'downpayment_received', 'downpayment_cleared',\n",
       "       'order_ships', 'max_milestone', 'has_prospecting',\n",
       "       'has_pre_application', 'initial_device', 'time_in_discover',\n",
       "       'time_in_apply', 'first_20_events', 'time_since_last_event'],\n",
       "      dtype='object')"
      ]
     },
     "execution_count": 4,
     "metadata": {},
     "output_type": "execute_result"
    }
   ],
   "source": [
    "df.columns"
   ]
  },
  {
   "cell_type": "code",
   "execution_count": 5,
   "id": "29c0f1ac",
   "metadata": {},
   "outputs": [
    {
     "data": {
      "text/html": [
       "<div>\n",
       "<style scoped>\n",
       "    .dataframe tbody tr th:only-of-type {\n",
       "        vertical-align: middle;\n",
       "    }\n",
       "\n",
       "    .dataframe tbody tr th {\n",
       "        vertical-align: top;\n",
       "    }\n",
       "\n",
       "    .dataframe thead th {\n",
       "        text-align: right;\n",
       "    }\n",
       "</style>\n",
       "<table border=\"1\" class=\"dataframe\">\n",
       "  <thead>\n",
       "    <tr style=\"text-align: right;\">\n",
       "      <th></th>\n",
       "      <th>event_name</th>\n",
       "      <th>journey_id</th>\n",
       "      <th>event_definition_id</th>\n",
       "      <th>milestone_number</th>\n",
       "      <th>stage</th>\n",
       "    </tr>\n",
       "  </thead>\n",
       "  <tbody>\n",
       "    <tr>\n",
       "      <th>0</th>\n",
       "      <td>application_phone_approved</td>\n",
       "      <td>1</td>\n",
       "      <td>15</td>\n",
       "      <td>1.0</td>\n",
       "      <td>Apply for Credit</td>\n",
       "    </tr>\n",
       "    <tr>\n",
       "      <th>1</th>\n",
       "      <td>application_phone_declined</td>\n",
       "      <td>1</td>\n",
       "      <td>16</td>\n",
       "      <td>NaN</td>\n",
       "      <td>Apply for Credit</td>\n",
       "    </tr>\n",
       "    <tr>\n",
       "      <th>2</th>\n",
       "      <td>application_phone_pending</td>\n",
       "      <td>1</td>\n",
       "      <td>17</td>\n",
       "      <td>NaN</td>\n",
       "      <td>Apply for Credit</td>\n",
       "    </tr>\n",
       "    <tr>\n",
       "      <th>3</th>\n",
       "      <td>application_web_approved</td>\n",
       "      <td>1</td>\n",
       "      <td>12</td>\n",
       "      <td>1.0</td>\n",
       "      <td>Apply for Credit</td>\n",
       "    </tr>\n",
       "    <tr>\n",
       "      <th>4</th>\n",
       "      <td>application_web_declined</td>\n",
       "      <td>1</td>\n",
       "      <td>13</td>\n",
       "      <td>NaN</td>\n",
       "      <td>Apply for Credit</td>\n",
       "    </tr>\n",
       "  </tbody>\n",
       "</table>\n",
       "</div>"
      ],
      "text/plain": [
       "                   event_name  journey_id  event_definition_id  \\\n",
       "0  application_phone_approved           1                   15   \n",
       "1  application_phone_declined           1                   16   \n",
       "2   application_phone_pending           1                   17   \n",
       "3    application_web_approved           1                   12   \n",
       "4    application_web_declined           1                   13   \n",
       "\n",
       "   milestone_number             stage  \n",
       "0               1.0  Apply for Credit  \n",
       "1               NaN  Apply for Credit  \n",
       "2               NaN  Apply for Credit  \n",
       "3               1.0  Apply for Credit  \n",
       "4               NaN  Apply for Credit  "
      ]
     },
     "execution_count": 5,
     "metadata": {},
     "output_type": "execute_result"
    }
   ],
   "source": [
    "defs = pd.read_csv(\"Event_Definitions.csv\")\n",
    "defs.head()"
   ]
  },
  {
   "cell_type": "markdown",
   "id": "2784414a",
   "metadata": {},
   "source": [
    "# Order-Shipped Pie Chart"
   ]
  },
  {
   "cell_type": "code",
   "execution_count": 6,
   "id": "7a183459",
   "metadata": {},
   "outputs": [
    {
     "name": "stderr",
     "output_type": "stream",
     "text": [
      "/var/folders/hv/y5s5rkv130v_g87x7dg3dg3m0000gn/T/ipykernel_36061/1312763481.py:9: UserWarning: You have mixed positional and keyword arguments, some input may be discarded.\n",
      "  plt.legend(patches, labels=proportions.index, loc=\"best\", fontsize = 14)\n"
     ]
    },
    {
     "data": {
      "image/png": "[encoded data removed]",
      "text/plain": [
       "<Figure size 576x576 with 1 Axes>"
      ]
     },
     "metadata": {},
     "output_type": "display_data"
    }
   ],
   "source": [
    "# Calculate proportions\n",
    "proportions = df['order_ships'].value_counts(normalize=True) * 100\n",
    "\n",
    "# Plotting using a pie chart\n",
    "plt.figure(figsize=(8, 8))  \n",
    "patches, _, _ = plt.pie(proportions, labels=None, autopct='%1.1f%%', startangle=140)\n",
    "\n",
    "# Adding a legend\n",
    "plt.legend(patches, labels=proportions.index, loc=\"best\", fontsize = 14)\n",
    "\n",
    "# Adding a title\n",
    "plt.title('Proportion of Order Ships', fontsize = 18)\n",
    "\n",
    "# Save the plot as an image file\n",
    "plt.axis('equal')  # Equal aspect ratio ensures that pie is drawn as a circle.\n",
    "plt.savefig('order_ships_pie_chart.png')  # Save as PNG file\n",
    "plt.show()"
   ]
  },
  {
   "cell_type": "markdown",
   "id": "122f3681",
   "metadata": {},
   "source": [
    "# Max Journey Boxplot"
   ]
  },
  {
   "cell_type": "code",
   "execution_count": 15,
   "id": "ed933c24",
   "metadata": {},
   "outputs": [
    {
     "data": {
      "image/png": "[encoded data removed]",
      "text/plain": [
       "<Figure size 864x648 with 1 Axes>"
      ]
     },
     "metadata": {
      "needs_background": "light"
     },
     "output_type": "display_data"
    }
   ],
   "source": [
    "# Plotting using Seaborn with log scale\n",
    "plt.figure(figsize=(12, 9))  # Adjust the width and height as needed\n",
    "sns.histplot(df['max_journey'], bins=20, log_scale=True)  # Adjust bins as needed\n",
    "\n",
    "# Adding labels and title\n",
    "plt.xlabel('Max Journey Steps (Log Scale)', fontsize = 14)\n",
    "plt.ylabel('Frequency', fontsize = 14)\n",
    "plt.title('Histogram of Max Journey Steps (Log Scale)', fontsize = 18)\n",
    "\n",
    "# Show the plot\n",
    "plt.savefig('max_journey_histogram.png')\n",
    "plt.show()"
   ]
  },
  {
   "cell_type": "markdown",
   "id": "5568c8a6",
   "metadata": {},
   "source": [
    "# Discover vs Order_Ships"
   ]
  },
  {
   "cell_type": "code",
   "execution_count": 31,
   "id": "5f9ef30c",
   "metadata": {},
   "outputs": [
    {
     "data": {
      "image/png": "[encoded data removed]",
      "text/plain": [
       "<Figure size 576x432 with 1 Axes>"
      ]
     },
     "metadata": {},
     "output_type": "display_data"
    }
   ],
   "source": [
    "plot_df = df.copy()\n",
    "plot_df['discover'] = plot_df['discover'].astype(int)\n",
    "plot_df['order_ships'] = plot_df['order_ships'].astype(int)\n",
    "\n",
    "# Calculate proportions manually\n",
    "proportions = plot_df.groupby('discover')['order_ships'].value_counts(normalize=True).unstack().fillna(0)\n",
    "\n",
    "# Plotting using Seaborn\n",
    "plt.figure(figsize=(8, 6))  # Adjust the width and height as needed\n",
    "bottom_bar = sns.barplot(data=proportions, x=proportions.index, y=proportions[1], color='blue', label='Order Ships')\n",
    "sns.barplot(data=proportions, x=proportions.index, y=proportions[0], color='orange', bottom=proportions[1], label='No Order Ships')\n",
    "\n",
    "# Adding labels and title\n",
    "plt.xlabel('Discover', fontsize = 14)\n",
    "plt.ylabel('Proportion', fontsize = 14)\n",
    "plt.title('Relationship between Discover and Order Ships', fontsize = 18)\n",
    "\n",
    "# Show the legend with custom labels\n",
    "plt.legend(title='Order Status')\n",
    "\n",
    "# Set y-axis tick labels\n",
    "plt.xticks(ticks=[0, 1], labels=['False', 'True'])\n",
    "\n",
    "# Show the plot\n",
    "\n",
    "plt.savefig('relationship_discover_order_ships.png')\n",
    "plt.show()"
   ]
  }
 ],
 "metadata": {
  "kernelspec": {
   "display_name": "Python 3 (ipykernel)",
   "language": "python",
   "name": "python3"
  },
  "language_info": {
   "codemirror_mode": {
    "name": "ipython",
    "version": 3
   },
   "file_extension": ".py",
   "mimetype": "text/x-python",
   "name": "python",
   "nbconvert_exporter": "python",
   "pygments_lexer": "ipython3",
   "version": "3.9.7"
  }
 },
 "nbformat": 4,
 "nbformat_minor": 5
}

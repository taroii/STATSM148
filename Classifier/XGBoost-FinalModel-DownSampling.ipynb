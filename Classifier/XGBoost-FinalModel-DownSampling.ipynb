{
 "cells": [
  {
   "cell_type": "markdown",
   "metadata": {},
   "source": [
    "## Classifier Model for Succesful Journey Prediction (Downsampling approach)\n",
    "### Team Name : Data Crew\n",
    "\n",
    "**Contributions:**\n",
    "* Axel\n",
    "* Darren\n",
    "* Ryan\n",
    "* Taro\n",
    "* Dan\n",
    "\n",
    "This notebook was created in order to implement, train and test the classifier model for the prediction of the successful journey of the customers. We are going to make several testing approaches were the seed 2024 is fixed in order to make all the code and the predictions comparable, the testing approaches are:\n",
    "\n",
    "* Train test split\n",
    "* Cross Validation in a Stratifield KFold and KFold\n",
    "\n",
    "Additonally, as we are going to see further in the notebook, the data has a balancing problem and therefore we are going to use the following techniques in order to solve it:\n",
    "\n",
    "* SMOTE\n",
    "* ADASYN\n",
    "* Up Sampling\n",
    "* Down Sampling\n",
    "\n",
    "In the cases were the models were trained using the unbalanced data set we are going to use the f1-score in order to measure the performance of the model, and in the cases were the models were trained using the balanced data set we are going to use the accuracy metric instead.\n",
    "\n",
    "Finally it is worthwhile mentioning that in the case of the XGBoost model we used a hyperparameter optimization in order to find the best hyperparameters for the model with the Bayesian Optimization approach.\n",
    "\n",
    "Model proposal: \n",
    "* XGBoost\n",
    "* LGBM\n",
    "* LR\n",
    "* GB\n",
    "* ADABoost\n",
    "* Neural Network\n",
    "* Random Forest\n",
    "\n",
    "* Clustering for improving the accuracy of the models by looking at the errors\n",
    "* Boosting algotithms are performing better\n",
    "* Causationg learning\n",
    "* Discover variable\n",
    "* Analytics\n",
    "* Markov Chain"
   ]
  },
  {
   "cell_type": "code",
   "execution_count": 1,
   "metadata": {},
   "outputs": [],
   "source": [
    "# Basic Libraries\n",
    "import pandas as pd\n",
    "import numpy as np\n",
    "import matplotlib.pyplot as plt\n",
    "import seaborn as sns\n",
    "\n",
    "import warnings\n",
    "warnings.filterwarnings(\"ignore\")\n",
    "\n",
    "sns.set_style('whitegrid')\n",
    "\n",
    "# Librarie for Preprocessing (By Us)\n",
    "from utils import *\n",
    "\n",
    "# Model Libraries\n",
    "from xgboost import XGBClassifier\n",
    "from sklearn.ensemble import VotingClassifier\n",
    "from sklearn.linear_model import LogisticRegression\n",
    "from sklearn.naive_bayes import GaussianNB\n",
    "from sklearn.ensemble import RandomForestClassifier\n",
    "from xgboost import XGBClassifier\n",
    "from lightgbm import LGBMClassifier \n",
    "from sklearn.ensemble import GradientBoostingClassifier, AdaBoostClassifier\n",
    "from sklearn.tree import DecisionTreeClassifier\n",
    "\n",
    "# Model Selection and Metrics\n",
    "from sklearn.model_selection import train_test_split\n",
    "from sklearn.metrics import classification_report, confusion_matrix\n",
    "from sklearn.metrics import roc_curve, auc\n",
    "from sklearn.model_selection import StratifiedKFold\n",
    "\n",
    "# Optimización de hiperparámetros\n",
    "import optuna\n",
    "from skopt import BayesSearchCV\n",
    "from sklearn import datasets\n",
    "from sklearn.preprocessing import LabelEncoder\n",
    "\n",
    "# Reporting a progress bar\n",
    "from tqdm import tqdm\n",
    "\n",
    "# Downsample majority class\n",
    "from sklearn.utils import resample\n",
    "from sklearn.decomposition import PCA \n",
    "\n",
    "# standardize the data\n",
    "from sklearn.preprocessing import StandardScaler\n",
    "\n",
    "from keras.models import Model\n",
    "from keras.layers import Input, Dense, Concatenate\n",
    "from keras.optimizers import Adam\n",
    "from keras.losses import binary_crossentropy\n",
    "from sklearn.preprocessing import StandardScaler, OneHotEncoder\n",
    "\n",
    "from sklearn.utils.class_weight import compute_class_weight\n",
    "\n",
    "import tensorflow as tf\n",
    "from tensorflow.keras.models import Sequential\n",
    "from tensorflow.keras.layers import Dense, Dropout\n",
    "from keras.models import Sequential\n",
    "from keras.layers import Dense\n",
    "from keras.metrics import Precision, Recall\n",
    "from sklearn.metrics import f1_score\n",
    "from keras.callbacks import Callback\n",
    "\n",
    "from sklearn.metrics import accuracy_score, f1_score\n",
    "\n",
    "#random.seed(2024)\n",
    "np.random.seed(2024)"
   ]
  },
  {
   "cell_type": "markdown",
   "metadata": {},
   "source": [
    "## Data"
   ]
  },
  {
   "cell_type": "markdown",
   "metadata": {},
   "source": [
    "### Data Retrieval\n",
    "\n",
    "We retrieve the data from the original source, i.e. the one that is uncleaned and unprocessed. Also we retrive the event definition dataset:"
   ]
  },
  {
   "cell_type": "code",
   "execution_count": 2,
   "metadata": {},
   "outputs": [
    {
     "data": {
      "text/html": [
       "<div>\n",
       "<style scoped>\n",
       "    .dataframe tbody tr th:only-of-type {\n",
       "        vertical-align: middle;\n",
       "    }\n",
       "\n",
       "    .dataframe tbody tr th {\n",
       "        vertical-align: top;\n",
       "    }\n",
       "\n",
       "    .dataframe thead th {\n",
       "        text-align: right;\n",
       "    }\n",
       "</style>\n",
       "<table border=\"1\" class=\"dataframe\">\n",
       "  <thead>\n",
       "    <tr style=\"text-align: right;\">\n",
       "      <th></th>\n",
       "      <th>num_journeys</th>\n",
       "      <th>max_journey</th>\n",
       "      <th>discover</th>\n",
       "      <th>number_accounts</th>\n",
       "      <th>one_more_journey</th>\n",
       "      <th>most_repeated_event</th>\n",
       "      <th>average_length_seq</th>\n",
       "      <th>approved_credit</th>\n",
       "      <th>has_prospecting</th>\n",
       "      <th>has_pre_application</th>\n",
       "      <th>...</th>\n",
       "      <th>time_embd_1</th>\n",
       "      <th>time_embd_2</th>\n",
       "      <th>time_embd_3</th>\n",
       "      <th>time_embd_4</th>\n",
       "      <th>event_embd_0</th>\n",
       "      <th>event_embd_1</th>\n",
       "      <th>event_embd_2</th>\n",
       "      <th>event_embd_3</th>\n",
       "      <th>event_embd_4</th>\n",
       "      <th>order_ships</th>\n",
       "    </tr>\n",
       "  </thead>\n",
       "  <tbody>\n",
       "    <tr>\n",
       "      <th>0</th>\n",
       "      <td>2.0</td>\n",
       "      <td>91.0</td>\n",
       "      <td>0</td>\n",
       "      <td>2.0</td>\n",
       "      <td>1</td>\n",
       "      <td>4.0</td>\n",
       "      <td>60.5</td>\n",
       "      <td>1</td>\n",
       "      <td>1</td>\n",
       "      <td>0</td>\n",
       "      <td>...</td>\n",
       "      <td>0.0</td>\n",
       "      <td>0.0</td>\n",
       "      <td>0.291182</td>\n",
       "      <td>0.455151</td>\n",
       "      <td>0.0</td>\n",
       "      <td>0.0</td>\n",
       "      <td>0.0</td>\n",
       "      <td>0.097493</td>\n",
       "      <td>0.320596</td>\n",
       "      <td>1.0</td>\n",
       "    </tr>\n",
       "    <tr>\n",
       "      <th>1</th>\n",
       "      <td>1.0</td>\n",
       "      <td>63.0</td>\n",
       "      <td>0</td>\n",
       "      <td>1.0</td>\n",
       "      <td>0</td>\n",
       "      <td>4.0</td>\n",
       "      <td>58.0</td>\n",
       "      <td>1</td>\n",
       "      <td>1</td>\n",
       "      <td>0</td>\n",
       "      <td>...</td>\n",
       "      <td>0.0</td>\n",
       "      <td>0.0</td>\n",
       "      <td>0.158990</td>\n",
       "      <td>0.471587</td>\n",
       "      <td>0.0</td>\n",
       "      <td>0.0</td>\n",
       "      <td>0.0</td>\n",
       "      <td>0.115039</td>\n",
       "      <td>0.345468</td>\n",
       "      <td>0.0</td>\n",
       "    </tr>\n",
       "    <tr>\n",
       "      <th>2</th>\n",
       "      <td>1.0</td>\n",
       "      <td>27.0</td>\n",
       "      <td>1</td>\n",
       "      <td>1.0</td>\n",
       "      <td>0</td>\n",
       "      <td>4.0</td>\n",
       "      <td>24.0</td>\n",
       "      <td>1</td>\n",
       "      <td>1</td>\n",
       "      <td>0</td>\n",
       "      <td>...</td>\n",
       "      <td>0.0</td>\n",
       "      <td>0.0</td>\n",
       "      <td>0.135561</td>\n",
       "      <td>0.472970</td>\n",
       "      <td>0.0</td>\n",
       "      <td>0.0</td>\n",
       "      <td>0.0</td>\n",
       "      <td>0.117902</td>\n",
       "      <td>0.353426</td>\n",
       "      <td>0.0</td>\n",
       "    </tr>\n",
       "    <tr>\n",
       "      <th>3</th>\n",
       "      <td>1.0</td>\n",
       "      <td>8.0</td>\n",
       "      <td>1</td>\n",
       "      <td>1.0</td>\n",
       "      <td>0</td>\n",
       "      <td>4.0</td>\n",
       "      <td>6.0</td>\n",
       "      <td>1</td>\n",
       "      <td>1</td>\n",
       "      <td>0</td>\n",
       "      <td>...</td>\n",
       "      <td>0.0</td>\n",
       "      <td>0.0</td>\n",
       "      <td>0.048505</td>\n",
       "      <td>0.028250</td>\n",
       "      <td>0.0</td>\n",
       "      <td>0.0</td>\n",
       "      <td>0.0</td>\n",
       "      <td>0.019101</td>\n",
       "      <td>0.048565</td>\n",
       "      <td>0.0</td>\n",
       "    </tr>\n",
       "    <tr>\n",
       "      <th>4</th>\n",
       "      <td>1.0</td>\n",
       "      <td>11.0</td>\n",
       "      <td>1</td>\n",
       "      <td>1.0</td>\n",
       "      <td>0</td>\n",
       "      <td>19.0</td>\n",
       "      <td>11.0</td>\n",
       "      <td>1</td>\n",
       "      <td>0</td>\n",
       "      <td>0</td>\n",
       "      <td>...</td>\n",
       "      <td>0.0</td>\n",
       "      <td>0.0</td>\n",
       "      <td>0.059422</td>\n",
       "      <td>0.103953</td>\n",
       "      <td>0.0</td>\n",
       "      <td>0.0</td>\n",
       "      <td>0.0</td>\n",
       "      <td>0.043307</td>\n",
       "      <td>0.145620</td>\n",
       "      <td>0.0</td>\n",
       "    </tr>\n",
       "  </tbody>\n",
       "</table>\n",
       "<p>5 rows × 28 columns</p>\n",
       "</div>"
      ],
      "text/plain": [
       "   num_journeys  max_journey  discover  number_accounts  one_more_journey  \\\n",
       "0           2.0         91.0         0              2.0                 1   \n",
       "1           1.0         63.0         0              1.0                 0   \n",
       "2           1.0         27.0         1              1.0                 0   \n",
       "3           1.0          8.0         1              1.0                 0   \n",
       "4           1.0         11.0         1              1.0                 0   \n",
       "\n",
       "   most_repeated_event  average_length_seq  approved_credit  has_prospecting  \\\n",
       "0                  4.0                60.5                1                1   \n",
       "1                  4.0                58.0                1                1   \n",
       "2                  4.0                24.0                1                1   \n",
       "3                  4.0                 6.0                1                1   \n",
       "4                 19.0                11.0                1                0   \n",
       "\n",
       "   has_pre_application  ...  time_embd_1  time_embd_2  time_embd_3  \\\n",
       "0                    0  ...          0.0          0.0     0.291182   \n",
       "1                    0  ...          0.0          0.0     0.158990   \n",
       "2                    0  ...          0.0          0.0     0.135561   \n",
       "3                    0  ...          0.0          0.0     0.048505   \n",
       "4                    0  ...          0.0          0.0     0.059422   \n",
       "\n",
       "   time_embd_4  event_embd_0  event_embd_1  event_embd_2  event_embd_3  \\\n",
       "0     0.455151           0.0           0.0           0.0      0.097493   \n",
       "1     0.471587           0.0           0.0           0.0      0.115039   \n",
       "2     0.472970           0.0           0.0           0.0      0.117902   \n",
       "3     0.028250           0.0           0.0           0.0      0.019101   \n",
       "4     0.103953           0.0           0.0           0.0      0.043307   \n",
       "\n",
       "   event_embd_4  order_ships  \n",
       "0      0.320596          1.0  \n",
       "1      0.345468          0.0  \n",
       "2      0.353426          0.0  \n",
       "3      0.048565          0.0  \n",
       "4      0.145620          0.0  \n",
       "\n",
       "[5 rows x 28 columns]"
      ]
     },
     "execution_count": 2,
     "metadata": {},
     "output_type": "execute_result"
    }
   ],
   "source": [
    "# Reading the dataset\n",
    "new_dfx = pd.read_csv('../../1. Data/data_with_embeddings.csv')\n",
    "new_dfx.head()"
   ]
  },
  {
   "cell_type": "markdown",
   "metadata": {},
   "source": [
    "### Separating the columns by type\n",
    "\n",
    "In this subsection what we are doing is making a list of the columns that are going to be used for the model and then we are going to separate them by type, i.e. numericaL, categorical and boolean."
   ]
  },
  {
   "cell_type": "code",
   "execution_count": 3,
   "metadata": {},
   "outputs": [],
   "source": [
    "num_cols = ['num_journeys', 'max_journey', 'number_accounts', 'average_length_seq', \n",
    "            'time_in_discover', 'time_in_apply', 'time_max', 'time_mean', 'time_std', \n",
    "            'total_time_spent', 'event_embd_0', 'event_embd_1', 'event_embd_2', \n",
    "            'event_embd_3','event_embd_4', 'time_embd_0', 'time_embd_1', 'time_embd_2',\n",
    "            'time_embd_3', 'time_embd_4']\n",
    "\n",
    "categorical_cols = ['most_repeated_event', 'initial_device']\n",
    "boolean_cols = ['discover', 'one_more_journey', 'approved_credit', 'has_prospecting', 'has_pre_application']\n",
    "target = 'order_ships'"
   ]
  },
  {
   "cell_type": "markdown",
   "metadata": {},
   "source": [
    "### Balancing the data"
   ]
  },
  {
   "cell_type": "code",
   "execution_count": 8,
   "metadata": {},
   "outputs": [
    {
     "name": "stdout",
     "output_type": "stream",
     "text": [
      "Shape of majority class: (1344356, 28)\n",
      "Shape of minority class: (320626, 28)\n"
     ]
    }
   ],
   "source": [
    "# Separate majority and minority classes according to our target variable\n",
    "df_majority = new_dfx[new_dfx['order_ships'] == 0]\n",
    "df_minority = new_dfx[new_dfx['order_ships'] == 1]\n",
    "\n",
    "print('Shape of majority class:', df_majority.shape)\n",
    "print('Shape of minority class:', df_minority.shape)"
   ]
  },
  {
   "cell_type": "markdown",
   "metadata": {},
   "source": [
    "#### Downsampling the data"
   ]
  },
  {
   "cell_type": "markdown",
   "metadata": {},
   "source": [
    "* Random choice method"
   ]
  },
  {
   "cell_type": "code",
   "execution_count": 9,
   "metadata": {},
   "outputs": [],
   "source": [
    "# Downsample majority class\n",
    "df_downsampled = df_majority.sample(n=df_minority.shape[0], replace=False, random_state=2024)\n",
    "\n",
    "# Concatenate the minority class with the downsampled majority class\n",
    "df_sampled = pd.concat([df_downsampled, df_minority])\n",
    "\n",
    "#Dropping the indexes from the original dataset\n",
    "df_majoritie_excluded = df_majority.drop(index=df_downsampled.index)"
   ]
  },
  {
   "cell_type": "markdown",
   "metadata": {},
   "source": [
    "* Function method"
   ]
  },
  {
   "cell_type": "code",
   "execution_count": 10,
   "metadata": {},
   "outputs": [],
   "source": [
    "# Downsample majority class\n",
    "# df_majority_downsampled = resample(df_majority, \n",
    "#                                  replace=False,    # sample without replacement\n",
    "#                                  n_samples=df_minority.shape[0],     # to match minority class\n",
    "#                                  random_state=2024) # reproducible results\n",
    "\n",
    "# # Combine minority class with downsampled majority class\n",
    "# df_sampled = pd.concat([df_majority_downsampled, df_minority])\n",
    "\n",
    "# # Display new class counts\n",
    "# df_sampled['order_ships'].value_counts()"
   ]
  },
  {
   "cell_type": "markdown",
   "metadata": {},
   "source": [
    "### Separating the data and the target (only for cross validation models and neural network)\n",
    "\n",
    "In this case we want the target to be **order_ships** as this is how we are defining a customer journey as successful or not."
   ]
  },
  {
   "cell_type": "code",
   "execution_count": 11,
   "metadata": {},
   "outputs": [
    {
     "data": {
      "text/plain": [
       "order_ships\n",
       "0.0    320626\n",
       "1.0    320626\n",
       "Name: count, dtype: int64"
      ]
     },
     "execution_count": 11,
     "metadata": {},
     "output_type": "execute_result"
    }
   ],
   "source": [
    "# Setting the dataset we are using to train-test the model\n",
    "df_final = df_sampled\n",
    "df_final['order_ships'].value_counts()"
   ]
  },
  {
   "cell_type": "code",
   "execution_count": 12,
   "metadata": {},
   "outputs": [
    {
     "data": {
      "image/png": "[encoded data removed]",
      "text/plain": [
       "<Figure size 640x480 with 1 Axes>"
      ]
     },
     "metadata": {},
     "output_type": "display_data"
    }
   ],
   "source": [
    "# Separate input features (X) and target variable (y)\n",
    "y = df_final['order_ships'].to_numpy()\n",
    "X = df_final.drop(columns=['order_ships']).to_numpy()\n",
    "\n",
    "# Plotting the class proportion\n",
    "plt.pie(df_final['order_ships'].value_counts(), labels=df_final['order_ships'].value_counts().index, autopct='%1.1f%%')\n",
    "plt.title('Class Proportion Balanced')\n",
    "plt.show()"
   ]
  },
  {
   "cell_type": "markdown",
   "metadata": {},
   "source": [
    "* This code is only used if working with up or down sampled data"
   ]
  },
  {
   "cell_type": "code",
   "execution_count": 13,
   "metadata": {},
   "outputs": [],
   "source": [
    "## Our approach\n",
    "X_train, X_test, y_train, y_test = train_test_split(df_final.drop(columns=['order_ships']), \n",
    "                                                    df_final['order_ships'], \n",
    "                                                    test_size=0.2,\n",
    "                                                    stratify=y,\n",
    "                                                    random_state=2024)\n",
    "\n",
    "# Resetting the index\n",
    "X_train = X_train.reset_index(drop=True)\n",
    "X_test = X_test.reset_index(drop=True)\n",
    "y_train = y_train.reset_index(drop=True)\n",
    "y_test = y_test.reset_index(drop=True)\n",
    "\n",
    "numerical = X_train.loc[:,num_cols]\n",
    "\n",
    "scaler = StandardScaler()\n",
    "scaler.fit(numerical)\n",
    "numerical_tran = scaler.transform(numerical)\n",
    "numerical_test = scaler.transform(X_test[num_cols])\n",
    "\n",
    "# Concatenate the data to the final dataframe\n",
    "numerical_tr = pd.DataFrame(numerical_tran, columns=num_cols)\n",
    "numerical_ts = pd.DataFrame(numerical_test, columns=num_cols)\n",
    "\n",
    "X_train = pd.concat([numerical_tr, X_train[categorical_cols], X_train[boolean_cols]] , axis=1)\n",
    "X_test = pd.concat([numerical_ts, X_test[categorical_cols], X_test[boolean_cols]] , axis=1)"
   ]
  },
  {
   "cell_type": "markdown",
   "metadata": {},
   "source": [
    "## Neural Network Model"
   ]
  },
  {
   "cell_type": "markdown",
   "metadata": {},
   "source": [
    "* We first proceed by splitting the X_train and y_train into train and validation sets."
   ]
  },
  {
   "cell_type": "code",
   "execution_count": 14,
   "metadata": {},
   "outputs": [],
   "source": [
    "# Getting the validation set\n",
    "X_train_nn, X_val_nn, y_train_nn, y_val_nn = train_test_split(X_train, \n",
    "                                                              y_train, \n",
    "                                                              test_size=0.2,\n",
    "                                                              stratify=y_train,\n",
    "                                                              random_state=2024)"
   ]
  },
  {
   "cell_type": "markdown",
   "metadata": {},
   "source": [
    "* Then we compute the class weights in order to solve the unbalanced data problem while training our models"
   ]
  },
  {
   "cell_type": "code",
   "execution_count": 15,
   "metadata": {},
   "outputs": [
    {
     "name": "stdout",
     "output_type": "stream",
     "text": [
      "Class weights: {0: 1.0000019493177388, 1: 0.9999980506898608}\n"
     ]
    }
   ],
   "source": [
    "class_weights = compute_class_weight('balanced', classes=np.unique(y_train), y=y_train.values.reshape(-1))\n",
    "class_weights_dict = {i: class_weights[i] for i in range(len(class_weights))}\n",
    "\n",
    "print(\"Class weights:\", class_weights_dict)"
   ]
  },
  {
   "cell_type": "markdown",
   "metadata": {},
   "source": [
    "#### Model Architecture and Approach 1 (Best one so far)"
   ]
  },
  {
   "cell_type": "code",
   "execution_count": 16,
   "metadata": {},
   "outputs": [
    {
     "name": "stdout",
     "output_type": "stream",
     "text": [
      "Model: \"sequential\"\n",
      "_________________________________________________________________\n",
      " Layer (type)                Output Shape              Param #   \n",
      "=================================================================\n",
      " dense (Dense)               (None, 512)               14336     \n",
      "                                                                 \n",
      " dense_1 (Dense)             (None, 256)               131328    \n",
      "                                                                 \n",
      " dropout (Dropout)           (None, 256)               0         \n",
      "                                                                 \n",
      " dense_2 (Dense)             (None, 128)               32896     \n",
      "                                                                 \n",
      " dropout_1 (Dropout)         (None, 128)               0         \n",
      "                                                                 \n",
      " dense_3 (Dense)             (None, 64)                8256      \n",
      "                                                                 \n",
      " dropout_2 (Dropout)         (None, 64)                0         \n",
      "                                                                 \n",
      " dense_4 (Dense)             (None, 31)                2015      \n",
      "                                                                 \n",
      " dense_5 (Dense)             (None, 1)                 32        \n",
      "                                                                 \n",
      "=================================================================\n",
      "Total params: 188,863\n",
      "Trainable params: 188,863\n",
      "Non-trainable params: 0\n",
      "_________________________________________________________________\n"
     ]
    }
   ],
   "source": [
    "model_1 = Sequential([\n",
    "    Dense(512, activation='relu', input_shape=(27,)),\n",
    "    Dense(256, activation='relu', kernel_regularizer=tf.keras.regularizers.l2(0.001)),\n",
    "    Dropout(0.3),  # Dropout layer to prevent overfitting\n",
    "    Dense(128, activation='relu', kernel_regularizer=tf.keras.regularizers.l2(0.001)),\n",
    "    Dropout(0.5),  # Dropout layer to prevent overfitting\n",
    "    Dense(64, activation='relu', kernel_regularizer=tf.keras.regularizers.l2(0.01)),\n",
    "    Dropout(0.2),  # Dropout layer to prevent overfitting\n",
    "    Dense(31, activation='relu', kernel_regularizer=tf.keras.regularizers.l2(0.1)),\n",
    "    #Dropout(0.),  # Dropout layer to prevent overfitting\n",
    "    Dense(1, activation='sigmoid')\n",
    "])\n",
    "\n",
    "learning_rate = 0.001 \n",
    "optimizer = Adam(learning_rate=learning_rate)\n",
    "model_1.compile(optimizer=optimizer, loss='binary_crossentropy', metrics=['accuracy'])\n",
    "class_weights = {0: 0.6192491008699339, 1: 2.596451865684734} \n",
    "\n",
    "model_1.summary()"
   ]
  },
  {
   "cell_type": "code",
   "execution_count": 17,
   "metadata": {},
   "outputs": [
    {
     "name": "stdout",
     "output_type": "stream",
     "text": [
      "Epoch 1/5\n"
     ]
    },
    {
     "name": "stderr",
     "output_type": "stream",
     "text": [
      "2024-03-17 19:22:35.694420: W tensorflow/tsl/platform/profile_utils/cpu_utils.cc:128] Failed to get CPU frequency: 0 Hz\n"
     ]
    },
    {
     "name": "stdout",
     "output_type": "stream",
     "text": [
      "3207/3207 [==============================] - 11s 3ms/step - loss: 0.5824 - accuracy: 0.8147 - val_loss: 0.3759 - val_accuracy: 0.8508\n",
      "Epoch 2/5\n",
      "3207/3207 [==============================] - 11s 4ms/step - loss: 0.3747 - accuracy: 0.8522 - val_loss: 0.3569 - val_accuracy: 0.8584\n",
      "Epoch 3/5\n",
      "3207/3207 [==============================] - 11s 3ms/step - loss: 0.3613 - accuracy: 0.8575 - val_loss: 0.3587 - val_accuracy: 0.8541\n",
      "Epoch 4/5\n",
      "3207/3207 [==============================] - 11s 3ms/step - loss: 0.3544 - accuracy: 0.8602 - val_loss: 0.3390 - val_accuracy: 0.8653\n",
      "Epoch 5/5\n",
      "3207/3207 [==============================] - 11s 3ms/step - loss: 0.3487 - accuracy: 0.8624 - val_loss: 0.3464 - val_accuracy: 0.8615\n"
     ]
    }
   ],
   "source": [
    "# Fit the model\n",
    "history = model_1.fit(X_train_nn, y_train_nn, \n",
    "                    epochs=5, \n",
    "                    batch_size=128,\n",
    "                    validation_data=(X_val_nn, y_val_nn),\n",
    "                    class_weight=class_weights_dict)"
   ]
  },
  {
   "cell_type": "code",
   "execution_count": 18,
   "metadata": {},
   "outputs": [
    {
     "name": "stdout",
     "output_type": "stream",
     "text": [
      "4008/4008 [==============================] - 2s 510us/step\n",
      "Accuracy: 0.8638451162174174\n",
      "F1 Score: 0.8762332728509867\n"
     ]
    }
   ],
   "source": [
    "# Make predictions\n",
    "predictions = model_1.predict(X_test)\n",
    "\n",
    "# Convert predictions to binary labels\n",
    "binary_predictions = (predictions > 0.5).astype(int)\n",
    "\n",
    "# Accuracy\n",
    "accuracy = accuracy_score(y_test, binary_predictions.reshape(-1))\n",
    "print('Accuracy:', accuracy)\n",
    "\n",
    "f1 = f1_score(y_test, binary_predictions.reshape(-1))\n",
    "print('F1 Score:', f1)"
   ]
  },
  {
   "cell_type": "markdown",
   "metadata": {},
   "source": [
    "## XGBoost Model"
   ]
  },
  {
   "cell_type": "markdown",
   "metadata": {},
   "source": [
    "We can see that the class proportion is not balanced, but we are going to use the **scale_pos_weight** parameter in the XGBoost model in order to balance the classes. One quick rule of thumb to consider is that the scale_pos_weight should be equal to the ratio of the number of negative class to the positive class.\n",
    "\n",
    "$$scale\\_pos\\_weight = \\frac{negatives}{positives}$$\n",
    "\n",
    "and therefore:\n",
    "\n",
    "$$scale\\_pos\\_weight = \\frac{negatives}{positives} = \\frac{1344699}{320675} = 4.1933390504$$"
   ]
  },
  {
   "cell_type": "markdown",
   "metadata": {},
   "source": [
    "### Hyperparameter Fine-Tuning Function For XGBoost\n",
    "\n",
    "The next function is going to be used in order to fine-tune the hyperparameters of the XGBoost model by employing a strategy called Tree-structured Parzen Estimator (TPE). The TPE algorithm is a Bayesian optimization algorithm that explores the hyperparameter space efficiently."
   ]
  },
  {
   "cell_type": "code",
   "execution_count": 19,
   "metadata": {},
   "outputs": [],
   "source": [
    "from hyperopt import fmin, tpe, hp, STATUS_OK, Trials \n",
    "from sklearn.metrics import accuracy_score, roc_auc_score, f1_score\n",
    "from typing import Any, Dict, Union\n",
    "\n",
    "def hyperparameter_tuning(space: Dict[str, Union[float, int]], X_train: pd.DataFrame, y_train: pd.Series,\n",
    "                    X_test: pd.DataFrame, y_test: pd.Series,\n",
    "                    early_stopping_rounds: int=50,\n",
    "                    metric:callable=accuracy_score) -> Dict[str, Any]:\n",
    "    \"\"\"\n",
    "    Perform hyperparameter tuning for an XGBoost classifier.\n",
    "    This function takes a dictionary of hyperparameters, training\n",
    "    and test data, and an optional value for early stopping rounds,\n",
    "    and returns a dictionary with the loss and model resulting from\n",
    "    the tuning process. The model is trained using the training\n",
    "    data and evaluated on the test data. The loss is computed as\n",
    "    the negative of the accuracy score.\n",
    "    Parameters\n",
    "    ----------\n",
    "    space : Dict[str, Union[float, int]]\n",
    "        A dictionary of hyperparameters for the XGBoost classifier.\n",
    "    X_train : pd.DataFrame\n",
    "        The training data.\n",
    "    y_train : pd.Series\n",
    "        The training target.\n",
    "    X_test : pd.DataFrame\n",
    "        The test data.\n",
    "    y_test : pd.Series\n",
    "        The test target.\n",
    "    early_stopping_rounds : int, optional\n",
    "        The number of early stopping rounds to use. The default value\n",
    "        is 50.\n",
    "    metric : callable\n",
    "        Metric to maximize. Default is accuracy\n",
    "    Returns\n",
    "    -------\n",
    "    Dict[str, Any]\n",
    "        A dictionary with the loss and model resulting from the\n",
    "        tuning process. The loss is a float, and the model is an\n",
    "        XGBoost classifier.\n",
    "    \"\"\"\n",
    "    int_vals = ['max_depth', 'reg_alpha']\n",
    "    \n",
    "    space = {k: (int(val) if k in int_vals else val)\n",
    "             for k,val in space.items()}\n",
    "    \n",
    "    space['early_stopping_rounds'] = early_stopping_rounds\n",
    "    \n",
    "    model = XGBClassifier(**space)\n",
    "    evaluation = [(X_train, y_train),\n",
    "                    (X_test, y_test)]\n",
    "    model.fit(X_train, y_train,\n",
    "              eval_set=evaluation,\n",
    "              verbose=False)\n",
    "    \n",
    "    pred = model.predict(X_test)\n",
    "    score = f1_score(y_test, pred)\n",
    "    \n",
    "    return {'loss': -score, 'status': STATUS_OK, 'model': model}"
   ]
  },
  {
   "cell_type": "markdown",
   "metadata": {},
   "source": [
    "* Performing the hyperparameter optimization"
   ]
  },
  {
   "cell_type": "code",
   "execution_count": 20,
   "metadata": {},
   "outputs": [
    {
     "name": "stdout",
     "output_type": "stream",
     "text": [
      "  0%|          | 0/50 [00:00<?, ?trial/s, best loss=?]"
     ]
    },
    {
     "name": "stdout",
     "output_type": "stream",
     "text": [
      " 10%|█         | 5/50 [03:24<30:39, 40.88s/trial, best loss: -0.8347468684759917]\n"
     ]
    },
    {
     "data": {
      "text/plain": [
       "{'colsample_bytree': 0.8160391085532267,\n",
       " 'gamma': 3.3729382819292475,\n",
       " 'learning_rate': 0.0012945379813350084,\n",
       " 'max_depth': 27.0,\n",
       " 'min_child_weight': 0.08061245733567203,\n",
       " 'reg_alpha': 12.316489010667103,\n",
       " 'reg_lambda': 13.422357575253248,\n",
       " 'scale_pos_weight': 10.283626096716084,\n",
       " 'subsample': 0.5426117369954073}"
      ]
     },
     "execution_count": 20,
     "metadata": {},
     "output_type": "execute_result"
    }
   ],
   "source": [
    "# Hyperparameter space\n",
    "options = {'max_depth': hp.quniform('max_depth', 1, 30, 1), # tree\n",
    "           'min_child_weight': hp.loguniform('min_child_weight', -5, 5),\n",
    "           'subsample': hp.uniform('subsample', 0.5, 1), # stochastic\n",
    "           'colsample_bytree': hp.uniform('colsample_bytree', 0.5, 1),\n",
    "           'reg_alpha': hp.uniform('reg_alpha', 0, 15),\n",
    "           'reg_lambda': hp.uniform('reg_lambda', 1, 15),\n",
    "           'gamma': hp.loguniform('gamma', -10, 10), # regularization\n",
    "           'learning_rate': hp.loguniform('learning_rate', -7, 0), # boosting\n",
    "           'scale_pos_weight': hp.uniform('scale_pos_weight', 1, 50),\n",
    "           'random_state': 2024,\n",
    "}\n",
    "trials = Trials()\n",
    "best = fmin(fn=lambda space: hyperparameter_tuning(space,\n",
    "                                                   X_train,\n",
    "                                                   y_train,\n",
    "                                                   X_test,\n",
    "                                                   y_test,\n",
    "                                                   early_stopping_rounds=30),\n",
    "            space=options,\n",
    "            algo=tpe.suggest,\n",
    "            max_evals=50,\n",
    "            trials=trials,#)\n",
    "            timeout=60*3) # 20 minutos de tiempo de ejecución\n",
    "\n",
    "best"
   ]
  },
  {
   "cell_type": "markdown",
   "metadata": {},
   "source": [
    "* These are the best hyperparameters for the XGBoost model (we saved them so that we don't have to run the optimization again). These are the parameters obtained with the new_dfx dataset."
   ]
  },
  {
   "cell_type": "code",
   "execution_count": 21,
   "metadata": {},
   "outputs": [],
   "source": [
    "# best = {'colsample_bytree': 0.8160391085532267,\n",
    "#  'gamma': 3.3729382819292475,\n",
    "#  'learning_rate': 0.0012945379813350084,\n",
    "#  'max_depth': 27.0,\n",
    "#  'min_child_weight': 0.08061245733567203,\n",
    "#  'reg_alpha': 12.316489010667103,\n",
    "#  'reg_lambda': 13.422357575253248,\n",
    "#  'scale_pos_weight': 10.283626096716084,\n",
    "#  'subsample': 0.5426117369954073}\n",
    "\n",
    "#best['random_state'] = 2024"
   ]
  },
  {
   "cell_type": "code",
   "execution_count": 22,
   "metadata": {},
   "outputs": [
    {
     "name": "stdout",
     "output_type": "stream",
     "text": [
      "Metrics : \n",
      "              precision    recall  f1-score   support\n",
      "\n",
      "         0.0       1.00      0.61      0.75     64126\n",
      "         1.0       0.72      1.00      0.83     64125\n",
      "\n",
      "    accuracy                           0.80    128251\n",
      "   macro avg       0.86      0.80      0.79    128251\n",
      "weighted avg       0.86      0.80      0.79    128251\n",
      "\n"
     ]
    },
    {
     "data": {
      "image/png": "[encoded data removed]",
      "text/plain": [
       "<Figure size 640x480 with 2 Axes>"
      ]
     },
     "metadata": {},
     "output_type": "display_data"
    }
   ],
   "source": [
    "# Set the max_depth as an integer\n",
    "best['max_depth'] = int(best['max_depth'])\n",
    "\n",
    "# Train the model\n",
    "xgb = XGBClassifier(**best,\n",
    "                    n_estimators=100,\n",
    "                    random_state = 2024)\n",
    "xgb.fit(X_train, y_train)\n",
    "\n",
    "# Predictions\n",
    "y_pred = xgb.predict(X_test)\n",
    "\n",
    "# Evaluate the model\n",
    "print('Metrics : ')\n",
    "print(classification_report(y_test, y_pred))\n",
    "\n",
    "sns.heatmap(confusion_matrix(y_test, y_pred), annot=True, fmt='d', cmap='Blues')\n",
    "plt.title('Confusion Matrix')\n",
    "plt.show()"
   ]
  },
  {
   "cell_type": "code",
   "execution_count": 23,
   "metadata": {},
   "outputs": [
    {
     "name": "stdout",
     "output_type": "stream",
     "text": [
      "Metrics : \n",
      "0.8023563169098097\n",
      "0.8346445392513732\n"
     ]
    }
   ],
   "source": [
    "# Evaluate the model\n",
    "print('Metrics : ')\n",
    "print(accuracy_score(y_test, y_pred))\n",
    "print(f1_score(y_test, y_pred))"
   ]
  },
  {
   "cell_type": "code",
   "execution_count": 24,
   "metadata": {},
   "outputs": [],
   "source": [
    "# y_test_2 = df_majoritie_excluded['order_ships'].to_numpy()\n",
    "# X_test_2 = df_majoritie_excluded.drop(columns=['order_ships']).to_numpy()\n",
    "\n",
    "# y_pred2 = xgb.predict(X_test_2)\n",
    "# print(classification_report(y_test_2, y_pred2))\n",
    "# sns.heatmap(confusion_matrix(y_test_2, y_pred2), annot=True, fmt='d', cmap='Blues')"
   ]
  },
  {
   "cell_type": "markdown",
   "metadata": {},
   "source": [
    "### ROC Curve"
   ]
  },
  {
   "cell_type": "code",
   "execution_count": 25,
   "metadata": {},
   "outputs": [
    {
     "data": {
      "image/png": "[encoded data removed]",
      "text/plain": [
       "<Figure size 640x480 with 1 Axes>"
      ]
     },
     "metadata": {},
     "output_type": "display_data"
    }
   ],
   "source": [
    "# roc curve\n",
    "y_pred_proba = xgb.predict_proba(X_test)[:, 1]\n",
    "fpr, tpr, thresholds = roc_curve(y_test, y_pred_proba)\n",
    "roc_auc = auc(fpr, tpr)\n",
    "\n",
    "plt.figure()\n",
    "plt.plot(fpr, tpr, color='darkorange', lw=1, label='ROC curve (area = %0.2f)' % roc_auc)\n",
    "plt.plot([0, 1], [0, 1], color='navy', lw=1, linestyle='--')\n",
    "plt.xlim([0.0, 1.0])\n",
    "plt.ylim([0.0, 1.05])\n",
    "plt.xlabel('False Positive Rate')\n",
    "plt.ylabel('True Positive Rate')\n",
    "plt.title('Receiver Operating Characteristic Curve')\n",
    "plt.legend(loc='lower right')\n",
    "plt.show()"
   ]
  },
  {
   "cell_type": "markdown",
   "metadata": {},
   "source": [
    "### Most Important Features"
   ]
  },
  {
   "cell_type": "code",
   "execution_count": 26,
   "metadata": {},
   "outputs": [
    {
     "data": {
      "image/png": "[encoded data removed]",
      "text/plain": [
       "<Figure size 1000x600 with 1 Axes>"
      ]
     },
     "metadata": {},
     "output_type": "display_data"
    }
   ],
   "source": [
    "# Columns\n",
    "x = list(new_dfx.drop(columns=['order_ships']).columns)\n",
    "x = [str(x_i) for x_i in x]\n",
    "\n",
    "# Plot the feature importances\n",
    "plt.figure(figsize=(10, 6))\n",
    "plt.barh(x, xgb.feature_importances_)\n",
    "plt.xlabel('Feature Importance')\n",
    "plt.title('Feature Importances')\n",
    "plt.show()"
   ]
  },
  {
   "cell_type": "markdown",
   "metadata": {},
   "source": [
    "### Cross Validation"
   ]
  },
  {
   "cell_type": "markdown",
   "metadata": {},
   "source": [
    "For the original data set with the customers it takes approximately 12m 58s to run in my local machine."
   ]
  },
  {
   "cell_type": "code",
   "execution_count": 32,
   "metadata": {},
   "outputs": [],
   "source": [
    "# As we have that X is a numpy and not a dataframe we convert it to a dataframe\n",
    "X = pd.DataFrame(X, columns=new_dfx.drop(columns=['order_ships']).columns)\n",
    "y = pd.DataFrame(y, columns=['order_ships'])"
   ]
  },
  {
   "cell_type": "markdown",
   "metadata": {},
   "source": [
    "#### XGBoost"
   ]
  },
  {
   "cell_type": "code",
   "execution_count": 33,
   "metadata": {},
   "outputs": [
    {
     "name": "stdout",
     "output_type": "stream",
     "text": [
      "F1 Score: 0.8340921546652282\n",
      "F1 Score: 0.0008856022174736244\n",
      "Accuracy: 0.8015585145010554\n",
      "Accuracy: 0.0013051272261842292\n"
     ]
    }
   ],
   "source": [
    "# Model\n",
    "xgb = XGBClassifier(**best, \n",
    "                    n_estimators=100,\n",
    "                    random_state = 2024)\n",
    "\n",
    "cv = StratifiedKFold(n_splits=5, shuffle=True, random_state=2024)\n",
    "\n",
    "f1_scores = []\n",
    "accuracy_scores = []\n",
    "\n",
    "for train_index, test_index in cv.split(X, y):\n",
    "    \n",
    "    X_train, X_test = X.iloc[train_index,:], X.iloc[test_index,:]\n",
    "    y_train, y_test = y.iloc[train_index,:], y.iloc[test_index,:]\n",
    "\n",
    "    X_train = X_train.reset_index(drop=True)\n",
    "    X_test = X_test.reset_index(drop=True)\n",
    "    y_train = y_train.reset_index(drop=True)\n",
    "    y_test = y_test.reset_index(drop=True)\n",
    "\n",
    "    numerical = X_train.loc[:,num_cols]\n",
    "    scaler = StandardScaler()\n",
    "    scaler.fit(numerical)\n",
    "    \n",
    "    numerical_tran = scaler.transform(numerical)\n",
    "    numerical_test = scaler.transform(X_test[num_cols])\n",
    "\n",
    "    # Concatenate the data to the final dataframe\n",
    "    numerical_tr = pd.DataFrame(numerical_tran, columns=num_cols)\n",
    "    numerical_ts = pd.DataFrame(numerical_test, columns=num_cols)\n",
    "\n",
    "    X_train = pd.concat([numerical_tr, X_train[categorical_cols], X_train[boolean_cols]] , axis=1)\n",
    "    X_test = pd.concat([numerical_ts, X_test[categorical_cols], X_test[boolean_cols]] , axis=1)\n",
    "\n",
    "    xgb.fit(X_train, y_train)\n",
    "    y_pred = xgb.predict(X_test)\n",
    "    \n",
    "    f1_scores.append(f1_score(y_test, y_pred))\n",
    "    accuracy_scores.append(accuracy_score(y_test, y_pred))\n",
    "\n",
    "print('F1 Score mean:', np.mean(f1_scores))\n",
    "print('F1 Score std:', np.std(f1_scores))\n",
    "print('Accuracy mean:', np.mean(accuracy_scores))\n",
    "print('Accuracy std:', np.std(accuracy_scores))"
   ]
  },
  {
   "cell_type": "markdown",
   "metadata": {},
   "source": [
    "#### LogisticRegression"
   ]
  },
  {
   "cell_type": "code",
   "execution_count": 34,
   "metadata": {},
   "outputs": [
    {
     "name": "stdout",
     "output_type": "stream",
     "text": [
      "F1 Score: 0.7935319075244609\n",
      "Accuracy: 0.7768888888888889\n"
     ]
    }
   ],
   "source": [
    "lr = LogisticRegression(max_iter=1000, random_state=2024)\n",
    "lr.fit(X_train, y_train)\n",
    "y_pred = lr.predict(X_test)\n",
    "print('F1 Score:', f1_score(y_test, y_pred))\n",
    "print('Accuracy:', accuracy_score(y_test, y_pred))"
   ]
  },
  {
   "cell_type": "code",
   "execution_count": 35,
   "metadata": {},
   "outputs": [
    {
     "name": "stdout",
     "output_type": "stream",
     "text": [
      "F1 Score: 0.7925478867921821\n",
      "F1 Score: 0.0010096873143104039\n",
      "Accuracy: 0.7754876387969906\n",
      "Accuracy: 0.001351134547373215\n"
     ]
    }
   ],
   "source": [
    "# Model\n",
    "lr = LogisticRegression(max_iter=1000, random_state=2024)\n",
    "cv = StratifiedKFold(n_splits=5, shuffle=True, random_state=2024)\n",
    "\n",
    "f1_scores = []\n",
    "accuracy_scores = []\n",
    "\n",
    "for train_index, test_index in cv.split(X, y):\n",
    "    \n",
    "    X_train, X_test = X.iloc[train_index,:], X.iloc[test_index,:]\n",
    "    y_train, y_test = y.iloc[train_index,:], y.iloc[test_index,:]\n",
    "\n",
    "    X_train = X_train.reset_index(drop=True)\n",
    "    X_test = X_test.reset_index(drop=True)\n",
    "    y_train = y_train.reset_index(drop=True)\n",
    "    y_test = y_test.reset_index(drop=True)\n",
    "\n",
    "    numerical = X_train.loc[:,num_cols]\n",
    "    scaler = StandardScaler()\n",
    "    scaler.fit(numerical)\n",
    "    \n",
    "    numerical_tran = scaler.transform(numerical)\n",
    "    numerical_test = scaler.transform(X_test[num_cols])\n",
    "\n",
    "    # Concatenate the data to the final dataframe\n",
    "    numerical_tr = pd.DataFrame(numerical_tran, columns=num_cols)\n",
    "    numerical_ts = pd.DataFrame(numerical_test, columns=num_cols)\n",
    "\n",
    "    X_train = pd.concat([numerical_tr, X_train[categorical_cols], X_train[boolean_cols]] , axis=1)\n",
    "    X_test = pd.concat([numerical_ts, X_test[categorical_cols], X_test[boolean_cols]] , axis=1)\n",
    "\n",
    "    lr.fit(X_train, y_train)\n",
    "    y_pred = lr.predict(X_test)\n",
    "    \n",
    "    f1_scores.append(f1_score(y_test, y_pred))\n",
    "    accuracy_scores.append(accuracy_score(y_test, y_pred))\n",
    "\n",
    "print('F1 Score:', np.mean(f1_scores))\n",
    "print('F1 Score:', np.std(f1_scores))\n",
    "print('Accuracy:', np.mean(accuracy_scores))\n",
    "print('Accuracy:', np.std(accuracy_scores))"
   ]
  },
  {
   "cell_type": "markdown",
   "metadata": {},
   "source": [
    "#### GaussianNB"
   ]
  },
  {
   "cell_type": "code",
   "execution_count": 36,
   "metadata": {},
   "outputs": [
    {
     "name": "stdout",
     "output_type": "stream",
     "text": [
      "F1 Score: 0.2622430805631752\n",
      "Accuracy: 0.5575126705653022\n"
     ]
    }
   ],
   "source": [
    "gnb = GaussianNB()\n",
    "gnb.fit(X_train, y_train)\n",
    "\n",
    "y_pred = gnb.predict(X_test)\n",
    "print('F1 Score:', f1_score(y_test, y_pred))\n",
    "print('Accuracy:', accuracy_score(y_test, y_pred))"
   ]
  },
  {
   "cell_type": "code",
   "execution_count": 37,
   "metadata": {},
   "outputs": [
    {
     "name": "stdout",
     "output_type": "stream",
     "text": [
      "F1 Score: 0.26281233988778896\n",
      "F1 Score: 0.002957105227733549\n",
      "Accuracy: 0.5574968999310761\n",
      "Accuracy: 0.000935571962854272\n"
     ]
    }
   ],
   "source": [
    "# Model\n",
    "gnb = GaussianNB()\n",
    "cv = StratifiedKFold(n_splits=5, shuffle=True, random_state=2024)\n",
    "\n",
    "f1_scores = []\n",
    "accuracy_scores = []\n",
    "\n",
    "for train_index, test_index in cv.split(X, y):\n",
    "    \n",
    "    X_train, X_test = X.iloc[train_index,:], X.iloc[test_index,:]\n",
    "    y_train, y_test = y.iloc[train_index,:], y.iloc[test_index,:]\n",
    "\n",
    "    X_train = X_train.reset_index(drop=True)\n",
    "    X_test = X_test.reset_index(drop=True)\n",
    "    y_train = y_train.reset_index(drop=True)\n",
    "    y_test = y_test.reset_index(drop=True)\n",
    "\n",
    "    numerical = X_train.loc[:,num_cols]\n",
    "    scaler = StandardScaler()\n",
    "    scaler.fit(numerical)\n",
    "    \n",
    "    numerical_tran = scaler.transform(numerical)\n",
    "    numerical_test = scaler.transform(X_test[num_cols])\n",
    "\n",
    "    # Concatenate the data to the final dataframe\n",
    "    numerical_tr = pd.DataFrame(numerical_tran, columns=num_cols)\n",
    "    numerical_ts = pd.DataFrame(numerical_test, columns=num_cols)\n",
    "\n",
    "    X_train = pd.concat([numerical_tr, X_train[categorical_cols], X_train[boolean_cols]] , axis=1)\n",
    "    X_test = pd.concat([numerical_ts, X_test[categorical_cols], X_test[boolean_cols]] , axis=1)\n",
    "\n",
    "    gnb.fit(X_train, y_train)\n",
    "    y_pred = gnb.predict(X_test)\n",
    "    \n",
    "    f1_scores.append(f1_score(y_test, y_pred))\n",
    "    accuracy_scores.append(accuracy_score(y_test, y_pred))\n",
    "\n",
    "print('F1 Score:', np.mean(f1_scores))\n",
    "print('F1 Score:', np.std(f1_scores))\n",
    "print('Accuracy:', np.mean(accuracy_scores))\n",
    "print('Accuracy:', np.std(accuracy_scores))"
   ]
  },
  {
   "cell_type": "markdown",
   "metadata": {},
   "source": [
    "## Ensemble Model"
   ]
  },
  {
   "cell_type": "markdown",
   "metadata": {},
   "source": [
    "* This took 9 mins without the SVC model"
   ]
  },
  {
   "cell_type": "code",
   "execution_count": 38,
   "metadata": {},
   "outputs": [
    {
     "name": "stdout",
     "output_type": "stream",
     "text": [
      "[LightGBM] [Info] Number of positive: 256501, number of negative: 256501\n",
      "[LightGBM] [Info] Auto-choosing row-wise multi-threading, the overhead of testing was 0.015636 seconds.\n",
      "You can set `force_row_wise=true` to remove the overhead.\n",
      "And if memory is not enough, you can set `force_col_wise=true`.\n",
      "[LightGBM] [Info] Total Bins 4380\n",
      "[LightGBM] [Info] Number of data points in the train set: 513002, number of used features: 26\n",
      "[LightGBM] [Info] [binary:BoostFromScore]: pavg=0.500000 -> initscore=0.000000\n",
      "Metrics : \n",
      "              precision    recall  f1-score   support\n",
      "\n",
      "         0.0       0.92      0.81      0.86     64125\n",
      "         1.0       0.83      0.93      0.87     64125\n",
      "\n",
      "    accuracy                           0.87    128250\n",
      "   macro avg       0.87      0.87      0.87    128250\n",
      "weighted avg       0.87      0.87      0.87    128250\n",
      "\n"
     ]
    }
   ],
   "source": [
    "# create the individual models\n",
    "clf1 = LogisticRegression(random_state=2024)\n",
    "clf2 = RandomForestClassifier(random_state=2024)\n",
    "clf3 = GaussianNB()\n",
    "clf4 = XGBClassifier(**best, \n",
    "                     n_estimators=100,\n",
    "                     random_state=2024)\n",
    "clf5 = LGBMClassifier(random_state=2024)\n",
    "clf6 = GradientBoostingClassifier(random_state=2024)\n",
    "clf7 = AdaBoostClassifier(random_state=2024)\n",
    "clf6 = DecisionTreeClassifier(random_state=2024)\n",
    "\n",
    "# create the ensemble model\n",
    "eclf = VotingClassifier(\n",
    "    estimators=[('lr', clf1),\n",
    "                ('rf', clf2),\n",
    "                ('gnb', clf3),\n",
    "                ('xgb', clf4),\n",
    "                ('lgbm', clf5),\n",
    "                ('gbc', clf6),\n",
    "                ('abc', clf7),\n",
    "                ('dtc', clf6),],\n",
    "    voting='hard')\n",
    "\n",
    "# fit the ensemble model\n",
    "eclf = eclf.fit(X_train, y_train)\n",
    "\n",
    "# make predictions\n",
    "y_pred = eclf.predict(X_test)\n",
    "\n",
    "# evaluate the ensemble model\n",
    "print('Metrics : ')\n",
    "print(classification_report(y_test, y_pred))"
   ]
  },
  {
   "cell_type": "code",
   "execution_count": 39,
   "metadata": {},
   "outputs": [
    {
     "data": {
      "image/png": "[encoded data removed]",
      "text/plain": [
       "<Figure size 640x480 with 2 Axes>"
      ]
     },
     "metadata": {},
     "output_type": "display_data"
    }
   ],
   "source": [
    "sns.heatmap(confusion_matrix(y_test, y_pred), annot=True, fmt='d', cmap='Blues')\n",
    "plt.title('Confusion Matrix')\n",
    "plt.show()"
   ]
  },
  {
   "cell_type": "code",
   "execution_count": 40,
   "metadata": {},
   "outputs": [
    {
     "data": {
      "text/plain": [
       "0.8743654262128637"
      ]
     },
     "execution_count": 40,
     "metadata": {},
     "output_type": "execute_result"
    }
   ],
   "source": [
    "f1_score(y_test, y_pred)"
   ]
  },
  {
   "cell_type": "code",
   "execution_count": 41,
   "metadata": {},
   "outputs": [
    {
     "data": {
      "text/plain": [
       "0.8668538011695907"
      ]
     },
     "execution_count": 41,
     "metadata": {},
     "output_type": "execute_result"
    }
   ],
   "source": [
    "accuracy_score(y_test, y_pred)"
   ]
  }
 ],
 "metadata": {
  "kernelspec": {
   "display_name": "Kernelsote",
   "language": "python",
   "name": "python3"
  },
  "language_info": {
   "codemirror_mode": {
    "name": "ipython",
    "version": 3
   },
   "file_extension": ".py",
   "mimetype": "text/x-python",
   "name": "python",
   "nbconvert_exporter": "python",
   "pygments_lexer": "ipython3",
   "version": "3.11.0"
  }
 },
 "nbformat": 4,
 "nbformat_minor": 2
}

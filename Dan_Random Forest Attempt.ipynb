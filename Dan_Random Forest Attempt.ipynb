{
 "cells": [
  {
   "cell_type": "code",
   "execution_count": 2,
   "id": "3c14e55c",
   "metadata": {},
   "outputs": [
    {
     "name": "stderr",
     "output_type": "stream",
     "text": [
      "/opt/anaconda3/lib/python3.9/site-packages/pandas/core/computation/expressions.py:21: UserWarning: Pandas requires version '2.8.4' or newer of 'numexpr' (version '2.7.3' currently installed).\n",
      "  from pandas.core.computation.check import NUMEXPR_INSTALLED\n",
      "/opt/anaconda3/lib/python3.9/site-packages/pandas/core/arrays/masked.py:60: UserWarning: Pandas requires version '1.3.6' or newer of 'bottleneck' (version '1.3.2' currently installed).\n",
      "  from pandas.core import (\n"
     ]
    }
   ],
   "source": [
    "import pandas as pd\n",
    "from sklearn.ensemble import RandomForestClassifier\n",
    "from sklearn.model_selection import train_test_split\n",
    "from sklearn.metrics import accuracy_score"
   ]
  },
  {
   "cell_type": "code",
   "execution_count": 3,
   "id": "c18c707f",
   "metadata": {},
   "outputs": [],
   "source": [
    "df_emb = pd.read_csv(\"export_n_20.csv\")"
   ]
  },
  {
   "cell_type": "code",
   "execution_count": 4,
   "id": "620c1380",
   "metadata": {},
   "outputs": [
    {
     "data": {
      "text/html": [
       "<div>\n",
       "<style scoped>\n",
       "    .dataframe tbody tr th:only-of-type {\n",
       "        vertical-align: middle;\n",
       "    }\n",
       "\n",
       "    .dataframe tbody tr th {\n",
       "        vertical-align: top;\n",
       "    }\n",
       "\n",
       "    .dataframe thead th {\n",
       "        text-align: right;\n",
       "    }\n",
       "</style>\n",
       "<table border=\"1\" class=\"dataframe\">\n",
       "  <thead>\n",
       "    <tr style=\"text-align: right;\">\n",
       "      <th></th>\n",
       "      <th>customer_id</th>\n",
       "      <th>Unnamed: 1</th>\n",
       "      <th>num_journeys</th>\n",
       "      <th>max_journey</th>\n",
       "      <th>discover</th>\n",
       "      <th>number_accounts</th>\n",
       "      <th>one_more_journey</th>\n",
       "      <th>most_repeated_event</th>\n",
       "      <th>average_length_seq</th>\n",
       "      <th>approved_credit</th>\n",
       "      <th>...</th>\n",
       "      <th>downpayment_cleared</th>\n",
       "      <th>order_ships</th>\n",
       "      <th>max_milestone</th>\n",
       "      <th>has_prospecting</th>\n",
       "      <th>has_pre_application</th>\n",
       "      <th>initial_device</th>\n",
       "      <th>time_in_discover</th>\n",
       "      <th>time_in_apply</th>\n",
       "      <th>first_20_events</th>\n",
       "      <th>time_since_last_event</th>\n",
       "    </tr>\n",
       "  </thead>\n",
       "  <tbody>\n",
       "    <tr>\n",
       "      <th>0</th>\n",
       "      <td>708</td>\n",
       "      <td>0</td>\n",
       "      <td>2</td>\n",
       "      <td>91</td>\n",
       "      <td>False</td>\n",
       "      <td>2</td>\n",
       "      <td>True</td>\n",
       "      <td>4</td>\n",
       "      <td>60.5</td>\n",
       "      <td>True</td>\n",
       "      <td>...</td>\n",
       "      <td>True</td>\n",
       "      <td>True</td>\n",
       "      <td>6.0</td>\n",
       "      <td>True</td>\n",
       "      <td>False</td>\n",
       "      <td>2.0</td>\n",
       "      <td>0.0</td>\n",
       "      <td>2045.0</td>\n",
       "      <td>[12  4  4  4  4 24 29  4  4  4  4  4  4  4  4 ...</td>\n",
       "      <td>[0.000000e+00 1.100000e+03 2.851830e+05 4.5900...</td>\n",
       "    </tr>\n",
       "    <tr>\n",
       "      <th>1</th>\n",
       "      <td>3591</td>\n",
       "      <td>0</td>\n",
       "      <td>1</td>\n",
       "      <td>63</td>\n",
       "      <td>False</td>\n",
       "      <td>1</td>\n",
       "      <td>False</td>\n",
       "      <td>4</td>\n",
       "      <td>58.0</td>\n",
       "      <td>True</td>\n",
       "      <td>...</td>\n",
       "      <td>False</td>\n",
       "      <td>False</td>\n",
       "      <td>1.0</td>\n",
       "      <td>True</td>\n",
       "      <td>False</td>\n",
       "      <td>2.0</td>\n",
       "      <td>0.0</td>\n",
       "      <td>218.0</td>\n",
       "      <td>[12  4 11  5  5  4  4  4  4  4  4  4 11  4  4 ...</td>\n",
       "      <td>[  0. 218.  89.  20.  28.  24.  95.  75.  87. ...</td>\n",
       "    </tr>\n",
       "    <tr>\n",
       "      <th>2</th>\n",
       "      <td>5414</td>\n",
       "      <td>0</td>\n",
       "      <td>1</td>\n",
       "      <td>27</td>\n",
       "      <td>True</td>\n",
       "      <td>1</td>\n",
       "      <td>False</td>\n",
       "      <td>4</td>\n",
       "      <td>24.0</td>\n",
       "      <td>True</td>\n",
       "      <td>...</td>\n",
       "      <td>False</td>\n",
       "      <td>False</td>\n",
       "      <td>1.0</td>\n",
       "      <td>True</td>\n",
       "      <td>False</td>\n",
       "      <td>2.0</td>\n",
       "      <td>4544216.0</td>\n",
       "      <td>549.0</td>\n",
       "      <td>[21 12  4  2  4 11  4 11  5  4 11  4 11  5  4 ...</td>\n",
       "      <td>[0.000000e+00 1.783191e+06 5.490000e+02 2.1051...</td>\n",
       "    </tr>\n",
       "    <tr>\n",
       "      <th>3</th>\n",
       "      <td>6072</td>\n",
       "      <td>0</td>\n",
       "      <td>1</td>\n",
       "      <td>8</td>\n",
       "      <td>True</td>\n",
       "      <td>1</td>\n",
       "      <td>False</td>\n",
       "      <td>4</td>\n",
       "      <td>6.0</td>\n",
       "      <td>True</td>\n",
       "      <td>...</td>\n",
       "      <td>False</td>\n",
       "      <td>False</td>\n",
       "      <td>1.0</td>\n",
       "      <td>True</td>\n",
       "      <td>False</td>\n",
       "      <td>2.0</td>\n",
       "      <td>1089605.0</td>\n",
       "      <td>260.0</td>\n",
       "      <td>[12  4  2  4 24 21  0  0  0  0  0  0  0  0  0 ...</td>\n",
       "      <td>[0.000000e+00 2.600000e+02 6.630000e+03 1.0896...</td>\n",
       "    </tr>\n",
       "    <tr>\n",
       "      <th>4</th>\n",
       "      <td>8039</td>\n",
       "      <td>0</td>\n",
       "      <td>1</td>\n",
       "      <td>11</td>\n",
       "      <td>True</td>\n",
       "      <td>1</td>\n",
       "      <td>False</td>\n",
       "      <td>19</td>\n",
       "      <td>11.0</td>\n",
       "      <td>True</td>\n",
       "      <td>...</td>\n",
       "      <td>False</td>\n",
       "      <td>False</td>\n",
       "      <td>1.0</td>\n",
       "      <td>False</td>\n",
       "      <td>False</td>\n",
       "      <td>2.0</td>\n",
       "      <td>30400833.0</td>\n",
       "      <td>21684.0</td>\n",
       "      <td>[19 19 19 19 19  3 19 19 12  2  4  0  0  0  0 ...</td>\n",
       "      <td>[0.0000000e+00 5.8000000e+01 2.0000000e+00 3.0...</td>\n",
       "    </tr>\n",
       "  </tbody>\n",
       "</table>\n",
       "<p>5 rows × 23 columns</p>\n",
       "</div>"
      ],
      "text/plain": [
       "   customer_id  Unnamed: 1  num_journeys  max_journey  discover  \\\n",
       "0          708           0             2           91     False   \n",
       "1         3591           0             1           63     False   \n",
       "2         5414           0             1           27      True   \n",
       "3         6072           0             1            8      True   \n",
       "4         8039           0             1           11      True   \n",
       "\n",
       "   number_accounts  one_more_journey  most_repeated_event  average_length_seq  \\\n",
       "0                2              True                    4                60.5   \n",
       "1                1             False                    4                58.0   \n",
       "2                1             False                    4                24.0   \n",
       "3                1             False                    4                 6.0   \n",
       "4                1             False                   19                11.0   \n",
       "\n",
       "   approved_credit  ...  downpayment_cleared  order_ships  max_milestone  \\\n",
       "0             True  ...                 True         True            6.0   \n",
       "1             True  ...                False        False            1.0   \n",
       "2             True  ...                False        False            1.0   \n",
       "3             True  ...                False        False            1.0   \n",
       "4             True  ...                False        False            1.0   \n",
       "\n",
       "   has_prospecting  has_pre_application  initial_device  time_in_discover  \\\n",
       "0             True                False             2.0               0.0   \n",
       "1             True                False             2.0               0.0   \n",
       "2             True                False             2.0         4544216.0   \n",
       "3             True                False             2.0         1089605.0   \n",
       "4            False                False             2.0        30400833.0   \n",
       "\n",
       "   time_in_apply                                    first_20_events  \\\n",
       "0         2045.0  [12  4  4  4  4 24 29  4  4  4  4  4  4  4  4 ...   \n",
       "1          218.0  [12  4 11  5  5  4  4  4  4  4  4  4 11  4  4 ...   \n",
       "2          549.0  [21 12  4  2  4 11  4 11  5  4 11  4 11  5  4 ...   \n",
       "3          260.0  [12  4  2  4 24 21  0  0  0  0  0  0  0  0  0 ...   \n",
       "4        21684.0  [19 19 19 19 19  3 19 19 12  2  4  0  0  0  0 ...   \n",
       "\n",
       "                               time_since_last_event  \n",
       "0  [0.000000e+00 1.100000e+03 2.851830e+05 4.5900...  \n",
       "1  [  0. 218.  89.  20.  28.  24.  95.  75.  87. ...  \n",
       "2  [0.000000e+00 1.783191e+06 5.490000e+02 2.1051...  \n",
       "3  [0.000000e+00 2.600000e+02 6.630000e+03 1.0896...  \n",
       "4  [0.0000000e+00 5.8000000e+01 2.0000000e+00 3.0...  \n",
       "\n",
       "[5 rows x 23 columns]"
      ]
     },
     "execution_count": 4,
     "metadata": {},
     "output_type": "execute_result"
    }
   ],
   "source": [
    "df_emb.head()"
   ]
  },
  {
   "cell_type": "code",
   "execution_count": 31,
   "id": "e03340c5",
   "metadata": {},
   "outputs": [],
   "source": [
    "X_cols = ['max_journey', \n",
    "          'discover',\n",
    "          'number_accounts', \n",
    "          'most_repeated_event', \n",
    "          'average_length_seq',\n",
    "          'has_prospecting',\n",
    "          'event_id_0',\n",
    "          'event_id_1',\n",
    "          'event_id_2',\n",
    "          'event_id_3',\n",
    "          'event_id_4',\n",
    "          'time_0', \n",
    "          'time_1',\n",
    "          'time_2',\n",
    "          'time_3', \n",
    "          'time_4']"
   ]
  },
  {
   "cell_type": "code",
   "execution_count": 34,
   "id": "592f02d1",
   "metadata": {},
   "outputs": [],
   "source": [
    "X = df_emb[X_cols]\n",
    "y = df_emb['order_ships']"
   ]
  },
  {
   "cell_type": "code",
   "execution_count": 35,
   "id": "3fe47cd5",
   "metadata": {},
   "outputs": [],
   "source": [
    "X_train, X_test, y_train, y_test = train_test_split(X, y, test_size=0.2, random_state=42)"
   ]
  },
  {
   "cell_type": "code",
   "execution_count": 36,
   "id": "afa96eb4",
   "metadata": {},
   "outputs": [
    {
     "name": "stdout",
     "output_type": "stream",
     "text": [
      "Accuracy: 0.840307378279402\n"
     ]
    }
   ],
   "source": [
    "rf_classifier = RandomForestClassifier(n_estimators=100, random_state=42)\n",
    "\n",
    "# Train the classifier\n",
    "rf_classifier.fit(X_train, y_train)\n",
    "\n",
    "# Make predictions\n",
    "y_pred = rf_classifier.predict(X_test)\n",
    "\n",
    "# Evaluate the performance\n",
    "accuracy = accuracy_score(y_test, y_pred)\n",
    "print(\"Accuracy:\", accuracy)"
   ]
  },
  {
   "cell_type": "markdown",
   "id": "a7b63272",
   "metadata": {},
   "source": [
    "## With Downsampling"
   ]
  },
  {
   "cell_type": "code",
   "execution_count": 38,
   "id": "ec14a167",
   "metadata": {},
   "outputs": [
    {
     "data": {
      "text/plain": [
       "0.0    16138\n",
       "1.0    16138\n",
       "Name: order_ships, dtype: int64"
      ]
     },
     "execution_count": 38,
     "metadata": {},
     "output_type": "execute_result"
    }
   ],
   "source": [
    "from sklearn.utils import resample\n",
    "\n",
    "# Separate majority and minority classes\n",
    "df_majority = df_emb[df_emb['order_ships'] == 0]\n",
    "\n",
    "df_minority = df_emb[df_emb['order_ships'] == 1]\n",
    "\n",
    "# Downsample majority class\n",
    "df_majority_downsampled = resample(df_majority, \n",
    "                                 replace=False,    # sample without replacement\n",
    "                                 n_samples=16138,     # to match minority class\n",
    "                                 random_state=123) # reproducible results\n",
    "\n",
    "# Combine minority class with downsampled majority class\n",
    "df_downsampled = pd.concat([df_majority_downsampled, df_minority])\n",
    "\n",
    "# Display new class counts\n",
    "df_downsampled['order_ships'].value_counts()"
   ]
  },
  {
   "cell_type": "code",
   "execution_count": 39,
   "id": "9d914e30",
   "metadata": {},
   "outputs": [
    {
     "data": {
      "text/plain": [
       "32276"
      ]
     },
     "execution_count": 39,
     "metadata": {},
     "output_type": "execute_result"
    }
   ],
   "source": [
    "X = df_downsampled[X_cols]\n",
    "y = df_downsampled['order_ships']"
   ]
  },
  {
   "cell_type": "code",
   "execution_count": 40,
   "id": "d334769b",
   "metadata": {},
   "outputs": [
    {
     "name": "stdout",
     "output_type": "stream",
     "text": [
      "Accuracy: 0.840307378279402\n"
     ]
    }
   ],
   "source": [
    "#Train-test split\n",
    "X_train, X_test, y_train, y_test = train_test_split(X, y, test_size=0.2, random_state=42)\n",
    "\n",
    "# Classifier\n",
    "rf_classifier = RandomForestClassifier(n_estimators=100, random_state=42)\n",
    "\n",
    "# Train the classifier\n",
    "rf_classifier.fit(X_train, y_train)\n",
    "\n",
    "# Make predictions\n",
    "y_pred = rf_classifier.predict(X_test)\n",
    "\n",
    "# Evaluate the performance\n",
    "accuracy = accuracy_score(y_test, y_pred)\n",
    "print(\"Accuracy:\", accuracy)"
   ]
  },
  {
   "cell_type": "markdown",
   "id": "87c4391d",
   "metadata": {},
   "source": [
    "## Confusion Matrix"
   ]
  },
  {
   "cell_type": "code",
   "execution_count": 48,
   "id": "c88899f5",
   "metadata": {},
   "outputs": [
    {
     "data": {
      "image/png": "[encoded data removed]",
      "text/plain": [
       "<Figure size 576x432 with 1 Axes>"
      ]
     },
     "metadata": {
      "needs_background": "light"
     },
     "output_type": "display_data"
    },
    {
     "name": "stdout",
     "output_type": "stream",
     "text": [
      "              precision    recall  f1-score   support\n",
      "\n",
      "         0.0       0.86      0.95      0.91     13373\n",
      "         1.0       0.66      0.39      0.49      3284\n",
      "\n",
      "    accuracy                           0.84     16657\n",
      "   macro avg       0.76      0.67      0.70     16657\n",
      "weighted avg       0.82      0.84      0.82     16657\n",
      "\n"
     ]
    }
   ],
   "source": [
    "from sklearn.metrics import confusion_matrix\n",
    "from sklearn.metrics import classification_report\n",
    "import matplotlib.pyplot as plt\n",
    "import seaborn as sns\n",
    "\n",
    "\n",
    "true_labels = y_test\n",
    "predicted_labels = y_pred\n",
    "\n",
    "cm = confusion_matrix(true_labels, predicted_labels)\n",
    "\n",
    "# Create a heatmap using seaborn\n",
    "plt.figure(figsize=(8, 6))\n",
    "sns.heatmap(cm, annot=True, cmap='Blues', fmt='g', cbar=False, \n",
    "            xticklabels=['Predicted 0', 'Predicted 1'], \n",
    "            yticklabels=['Actual 0', 'Actual 1'])\n",
    "plt.xlabel('Predicted labels')\n",
    "plt.ylabel('True labels')\n",
    "plt.title('Confusion Matrix')\n",
    "plt.show()\n",
    "\n",
    "# Classification Report\n",
    "report = classification_report(true_labels, predicted_labels)\n",
    "\n",
    "print(report)"
   ]
  },
  {
   "cell_type": "code",
   "execution_count": null,
   "id": "2f40b0a8",
   "metadata": {},
   "outputs": [],
   "source": []
  }
 ],
 "metadata": {
  "kernelspec": {
   "display_name": "Python 3 (ipykernel)",
   "language": "python",
   "name": "python3"
  },
  "language_info": {
   "codemirror_mode": {
    "name": "ipython",
    "version": 3
   },
   "file_extension": ".py",
   "mimetype": "text/x-python",
   "name": "python",
   "nbconvert_exporter": "python",
   "pygments_lexer": "ipython3",
   "version": "3.9.7"
  }
 },
 "nbformat": 4,
 "nbformat_minor": 5
}

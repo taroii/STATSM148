{
 "cells": [
  {
   "cell_type": "markdown",
   "metadata": {},
   "source": [
    "# LSTM Building Notebook for Next Event Prediction\n",
    "\n",
    "LSTM (long short-term memory) is a neural network framework built on top of RNNs that allow us to predict the next event based on a given history of events, similar to predicting the next word given a sequence of previous words (one of the most popular applications of LSTMs). This notebook will process our data, train, and evaluate a LSTM model for predicting the next event of a customer's journey. "
   ]
  },
  {
   "cell_type": "markdown",
   "metadata": {},
   "source": [
    "### I. Data Processing"
   ]
  },
  {
   "cell_type": "code",
   "execution_count": 1,
   "metadata": {},
   "outputs": [],
   "source": [
    "import pandas as pd\n",
    "import numpy as np\n",
    "\n",
    "# Import initial data\n",
    "data = pd.read_csv('../smaller_sample.csv')\n",
    "event_defs = pd.read_csv('../event_definitions.csv')"
   ]
  },
  {
   "cell_type": "code",
   "execution_count": 2,
   "metadata": {},
   "outputs": [],
   "source": [
    "# Initial data processing here:\n",
    "from utils import fingerhut_data_cleaner\n",
    "df = fingerhut_data_cleaner(data, event_defs)"
   ]
  },
  {
   "cell_type": "code",
   "execution_count": null,
   "metadata": {},
   "outputs": [],
   "source": [
    "#! TODO: Add journey_id column, customer_quit event, and time since last event variable"
   ]
  },
  {
   "cell_type": "code",
   "execution_count": 27,
   "metadata": {},
   "outputs": [
    {
     "data": {
      "text/plain": [
       "26"
      ]
     },
     "execution_count": 27,
     "metadata": {},
     "output_type": "execute_result"
    }
   ],
   "source": [
    "df.ed_id.nunique() # 26 Unique Events Originally, 27 with customer_quit (not yet implemented)  "
   ]
  },
  {
   "cell_type": "code",
   "execution_count": 32,
   "metadata": {},
   "outputs": [
    {
     "data": {
      "text/html": [
       "<div>\n",
       "<style scoped>\n",
       "    .dataframe tbody tr th:only-of-type {\n",
       "        vertical-align: middle;\n",
       "    }\n",
       "\n",
       "    .dataframe tbody tr th {\n",
       "        vertical-align: top;\n",
       "    }\n",
       "\n",
       "    .dataframe thead th {\n",
       "        text-align: right;\n",
       "    }\n",
       "</style>\n",
       "<table border=\"1\" class=\"dataframe\">\n",
       "  <thead>\n",
       "    <tr style=\"text-align: right;\">\n",
       "      <th></th>\n",
       "      <th>customer_id</th>\n",
       "      <th>account_id</th>\n",
       "      <th>ed_id</th>\n",
       "      <th>event_name</th>\n",
       "      <th>event_timestamp</th>\n",
       "      <th>journey_steps_until_end</th>\n",
       "      <th>stage</th>\n",
       "      <th>event_encoded</th>\n",
       "    </tr>\n",
       "  </thead>\n",
       "  <tbody>\n",
       "    <tr>\n",
       "      <th>0</th>\n",
       "      <td>278713037</td>\n",
       "      <td>1812321640</td>\n",
       "      <td>2</td>\n",
       "      <td>campaign_click</td>\n",
       "      <td>2021-05-31 06:00:00</td>\n",
       "      <td>1</td>\n",
       "      <td>Discover</td>\n",
       "      <td>13</td>\n",
       "    </tr>\n",
       "    <tr>\n",
       "      <th>1</th>\n",
       "      <td>278713037</td>\n",
       "      <td>1812321640</td>\n",
       "      <td>19</td>\n",
       "      <td>application_web_view</td>\n",
       "      <td>2021-05-31 23:11:03</td>\n",
       "      <td>2</td>\n",
       "      <td>Apply for Credit</td>\n",
       "      <td>10</td>\n",
       "    </tr>\n",
       "    <tr>\n",
       "      <th>2</th>\n",
       "      <td>278713037</td>\n",
       "      <td>1812321640</td>\n",
       "      <td>3</td>\n",
       "      <td>application_web_submit</td>\n",
       "      <td>2021-05-31 23:11:51</td>\n",
       "      <td>3</td>\n",
       "      <td>Apply for Credit</td>\n",
       "      <td>9</td>\n",
       "    </tr>\n",
       "    <tr>\n",
       "      <th>3</th>\n",
       "      <td>278713037</td>\n",
       "      <td>1812321640</td>\n",
       "      <td>19</td>\n",
       "      <td>application_web_view</td>\n",
       "      <td>2021-05-31 23:11:51</td>\n",
       "      <td>4</td>\n",
       "      <td>Apply for Credit</td>\n",
       "      <td>10</td>\n",
       "    </tr>\n",
       "    <tr>\n",
       "      <th>4</th>\n",
       "      <td>278713037</td>\n",
       "      <td>1812321640</td>\n",
       "      <td>19</td>\n",
       "      <td>application_web_view</td>\n",
       "      <td>2021-05-31 23:11:54</td>\n",
       "      <td>5</td>\n",
       "      <td>Apply for Credit</td>\n",
       "      <td>10</td>\n",
       "    </tr>\n",
       "  </tbody>\n",
       "</table>\n",
       "</div>"
      ],
      "text/plain": [
       "   customer_id  account_id  ed_id              event_name     event_timestamp  \\\n",
       "0    278713037  1812321640      2          campaign_click 2021-05-31 06:00:00   \n",
       "1    278713037  1812321640     19    application_web_view 2021-05-31 23:11:03   \n",
       "2    278713037  1812321640      3  application_web_submit 2021-05-31 23:11:51   \n",
       "3    278713037  1812321640     19    application_web_view 2021-05-31 23:11:51   \n",
       "4    278713037  1812321640     19    application_web_view 2021-05-31 23:11:54   \n",
       "\n",
       "   journey_steps_until_end             stage  event_encoded  \n",
       "0                        1          Discover             13  \n",
       "1                        2  Apply for Credit             10  \n",
       "2                        3  Apply for Credit              9  \n",
       "3                        4  Apply for Credit             10  \n",
       "4                        5  Apply for Credit             10  "
      ]
     },
     "execution_count": 32,
     "metadata": {},
     "output_type": "execute_result"
    }
   ],
   "source": [
    "df.head()"
   ]
  },
  {
   "cell_type": "code",
   "execution_count": 29,
   "metadata": {},
   "outputs": [],
   "source": [
    "from sklearn.model_selection import train_test_split\n",
    "import numpy as np\n",
    "import torch\n",
    "from torch.utils.data import Dataset, DataLoader\n",
    "import torch.nn as nn\n",
    "\n",
    "num_classes = df.ed_id.nunique() # 27 (including customer_quit)"
   ]
  },
  {
   "cell_type": "code",
   "execution_count": null,
   "metadata": {},
   "outputs": [],
   "source": [
    "def create_sequences(df, seq_length=10):\n",
    "    X = []\n",
    "    y = []\n",
    "    \n",
    "    for _, group in df.groupby(['customer_id', 'journey_id']):\n",
    "        # Prepare the sequence of events and steps\n",
    "        events = group['ed_id'].tolist()\n",
    "        steps = group['journey_steps_until_end'].tolist()\n",
    "        \n",
    "        # Combine events and steps into a single sequence of features\n",
    "        for i in range(len(events) - seq_length):\n",
    "            sequence = [[events[j], steps[j]] for j in range(i, i + seq_length)]\n",
    "            X.append(sequence)\n",
    "            y.append(events[i + seq_length])\n",
    "    \n",
    "    return np.array(X), np.array(y)\n",
    "\n",
    "seq_length = 3  # Adjust based on your data\n",
    "X, y = create_sequences(df, seq_length)\n",
    "\n",
    "# Split the dataset\n",
    "X_train, X_test, y_train, y_test = train_test_split(X, y, test_size=0.2, random_state=42)"
   ]
  },
  {
   "cell_type": "code",
   "execution_count": null,
   "metadata": {},
   "outputs": [],
   "source": [
    "class EventDataset(Dataset):\n",
    "    def __init__(self, X, y):\n",
    "        self.X = torch.tensor(X, dtype=torch.float32)  # Ensure correct data type\n",
    "        self.y = torch.tensor(y, dtype=torch.long)\n",
    "    \n",
    "    def __len__(self):\n",
    "        return len(self.X)\n",
    "    \n",
    "    def __getitem__(self, idx):\n",
    "        return self.X[idx], self.y[idx]\n",
    "\n",
    "# Create Dataset objects\n",
    "train_dataset = EventDataset(X_train, y_train)\n",
    "test_dataset = EventDataset(X_test, y_test)\n",
    "\n",
    "# Create DataLoader objects\n",
    "batch_size = 64  # Adjust as per your requirements\n",
    "train_loader = DataLoader(train_dataset, batch_size=batch_size, shuffle=True)\n",
    "test_loader = DataLoader(test_dataset, batch_size=batch_size, shuffle=False)"
   ]
  },
  {
   "cell_type": "markdown",
   "metadata": {},
   "source": [
    "### II. Building the Model"
   ]
  },
  {
   "cell_type": "code",
   "execution_count": null,
   "metadata": {},
   "outputs": [],
   "source": [
    "class LSTMModelWithSteps(nn.Module):\n",
    "    def __init__(self, input_dim, hidden_dim, layer_dim, output_dim):\n",
    "        super(LSTMModelWithSteps, self).__init__()\n",
    "        self.hidden_dim = hidden_dim\n",
    "        self.layer_dim = layer_dim\n",
    "        # Input dim is 2 because we now include event and step\n",
    "        self.lstm = nn.LSTM(input_dim, hidden_dim, layer_dim, batch_first=True)\n",
    "        self.fc = nn.Linear(hidden_dim, output_dim)\n",
    "    \n",
    "    def forward(self, x):\n",
    "        h0 = torch.zeros(self.layer_dim, x.size(0), self.hidden_dim).to(x.device)\n",
    "        c0 = torch.zeros(self.layer_dim, x.size(0), self.hidden_dim).to(x.device)\n",
    "        out, (hn, cn) = self.lstm(x, (h0.detach(), c0.detach()))\n",
    "        out = self.fc(out[:, -1, :])  # We only use the output of the last time step\n",
    "        return out\n"
   ]
  },
  {
   "cell_type": "code",
   "execution_count": null,
   "metadata": {},
   "outputs": [],
   "source": [
    "# Model instantiation\n",
    "input_dim = 2  # Input dimension is the sequence length\n",
    "hidden_dim = 100  # Adjust the hidden layer dimension\n",
    "layer_dim = 1  # Number of LSTM layers\n",
    "output_dim = num_classes  # Number of output classes\n",
    "\n",
    "model = LSTMModelWithSteps(input_dim, hidden_dim, layer_dim, output_dim)"
   ]
  },
  {
   "cell_type": "markdown",
   "metadata": {},
   "source": [
    "### III. Train the Model"
   ]
  },
  {
   "cell_type": "code",
   "execution_count": null,
   "metadata": {},
   "outputs": [],
   "source": [
    "# Make sure GPU is loaded for training\n",
    "if torch.cuda.is_available():\n",
    "    device = torch.device(\"cuda\")\n",
    "    print(\"Using GPU:\", torch.cuda.get_device_name(0))\n",
    "else:\n",
    "    device = torch.device(\"cpu\")\n",
    "    print(\"Using CPU\")"
   ]
  },
  {
   "cell_type": "code",
   "execution_count": null,
   "metadata": {},
   "outputs": [],
   "source": [
    "# Load model to GPU\n",
    "model = model.to(device)"
   ]
  },
  {
   "cell_type": "code",
   "execution_count": null,
   "metadata": {},
   "outputs": [],
   "source": [
    "from tqdm import tqdm  \n",
    "\n",
    "# Assuming model and train_loader are already defined\n",
    "criterion = nn.CrossEntropyLoss()\n",
    "optimizer = torch.optim.Adam(model.parameters(), lr=0.001)\n",
    "NUM_EPOCHS = 3\n",
    "\n",
    "# Your test_loader will act as the validation_loader in this context\n",
    "validation_loader = test_loader\n",
    "\n",
    "def validate(model, validation_loader, criterion, device):\n",
    "    model.eval()  # Set the model to evaluation mode\n",
    "    val_loss = 0\n",
    "    correct = 0\n",
    "    total = 0\n",
    "    with torch.no_grad():  # No need to track gradients during validation\n",
    "        for sequences, labels in validation_loader:\n",
    "            sequences, labels = sequences.to(device), labels.to(device)\n",
    "            outputs = model(sequences)\n",
    "            loss = criterion(outputs, labels)\n",
    "            val_loss += loss.item()\n",
    "            _, predicted = torch.max(outputs.data, 1)\n",
    "            total += labels.size(0)\n",
    "            correct += (predicted == labels).sum().item()\n",
    "    val_loss /= len(validation_loader)\n",
    "    val_accuracy = 100 * correct / total\n",
    "    return val_loss, val_accuracy\n",
    "\n",
    "for epoch in range(NUM_EPOCHS):\n",
    "    model.train()\n",
    "    loop = tqdm(enumerate(train_loader), total=len(train_loader), leave=True)\n",
    "    for i, (sequences, labels) in loop:\n",
    "        sequences, labels = sequences.to(device), labels.to(device)\n",
    "        optimizer.zero_grad()\n",
    "        outputs = model(sequences)\n",
    "        loss = criterion(outputs, labels)\n",
    "        loss.backward()\n",
    "        optimizer.step()\n",
    "        loop.set_description(f\"Epoch [{epoch+1}/{NUM_EPOCHS}]\")\n",
    "        loop.set_postfix(loss=loss.item())\n",
    "\n",
    "    # Validation phase (once per epoch)\n",
    "    val_loss, val_accuracy = validate(model, validation_loader, criterion, device)\n",
    "    print(f'Validation Loss: {val_loss:.4f}, Validation Accuracy: {val_accuracy:.2f}%')"
   ]
  },
  {
   "cell_type": "code",
   "execution_count": null,
   "metadata": {},
   "outputs": [],
   "source": [
    "# Save only the model parameters (recommended)\n",
    "torch.save(model.state_dict(), 'lstm_predictor.pth')"
   ]
  },
  {
   "cell_type": "markdown",
   "metadata": {},
   "source": [
    "### IV. Inference"
   ]
  },
  {
   "cell_type": "code",
   "execution_count": null,
   "metadata": {},
   "outputs": [],
   "source": [
    "# Rerun Part II (Building the Model) to define the model class if necessary\n",
    "# model = LSTMModelWithSteps(input_dim, hidden_dim, layer_dim, output_dim).to(device)"
   ]
  },
  {
   "cell_type": "code",
   "execution_count": null,
   "metadata": {},
   "outputs": [],
   "source": [
    "# Load weights into model (only necessary if you started a new session)\n",
    "model.load_state_dict(torch.load('lstm_predictor.pth'))"
   ]
  },
  {
   "cell_type": "code",
   "execution_count": null,
   "metadata": {},
   "outputs": [],
   "source": [
    "def predict(model, test_loader, device):\n",
    "    model.eval()  # Ensure the model is in evaluation mode\n",
    "    predictions = []\n",
    "    with torch.no_grad():  # No need to track gradients\n",
    "        for sequences, _ in test_loader:  # Assuming you don't need labels just for predictions\n",
    "            sequences = sequences.to(device)\n",
    "            outputs = model(sequences)\n",
    "            _, predicted = torch.max(outputs.data, 1)  # Get the index of the max log-probability as the prediction\n",
    "            predictions.extend(predicted.cpu().numpy())  # Move predictions to CPU and convert to numpy, then extend the list\n",
    "    return predictions"
   ]
  },
  {
   "cell_type": "code",
   "execution_count": null,
   "metadata": {},
   "outputs": [],
   "source": [
    "# Make predictions\n",
    "predictions = predict(model, test_loader, device)"
   ]
  },
  {
   "cell_type": "code",
   "execution_count": null,
   "metadata": {},
   "outputs": [],
   "source": [
    "# Convert predictions list to a numpy array\n",
    "predictions_array = np.array(predictions)\n",
    "\n",
    "# Use inverse_transform to convert numerical labels back to original event names\n",
    "event_names = le.inverse_transform(predictions_array)"
   ]
  }
 ],
 "metadata": {
  "kernelspec": {
   "display_name": "truthsystems",
   "language": "python",
   "name": "python3"
  },
  "language_info": {
   "codemirror_mode": {
    "name": "ipython",
    "version": 3
   },
   "file_extension": ".py",
   "mimetype": "text/x-python",
   "name": "python",
   "nbconvert_exporter": "python",
   "pygments_lexer": "ipython3",
   "version": "3.9.17"
  }
 },
 "nbformat": 4,
 "nbformat_minor": 2
}

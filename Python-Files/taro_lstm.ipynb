{
 "cells": [
  {
   "cell_type": "markdown",
   "metadata": {},
   "source": [
    "# LSTM Building Notebook for Next Event Prediction\n",
    "\n",
    "LSTM (long short-term memory) is a neural network framework built on top of RNNs that allow us to predict the next event based on a given history of events, similar to predicting the next word given a sequence of previous words (one of the most popular applications of LSTMs). This notebook will process our data, train, and evaluate a LSTM model for predicting the next event of a customer's journey. "
   ]
  },
  {
   "cell_type": "markdown",
   "metadata": {},
   "source": [
    "### I. Data Processing"
   ]
  },
  {
   "cell_type": "code",
   "execution_count": 1,
   "metadata": {},
   "outputs": [],
   "source": [
    "import pandas as pd\n",
    "import numpy as np\n",
    "\n",
    "# Import initial data\n",
    "data = pd.read_csv('../smaller_sample.csv')\n",
    "event_defs = pd.read_csv('../event_definitions.csv')"
   ]
  },
  {
   "cell_type": "code",
   "execution_count": 2,
   "metadata": {},
   "outputs": [],
   "source": [
    "# Initial data processing here:\n",
    "from utils import fingerhut_data_cleaner\n",
    "df = fingerhut_data_cleaner(data, event_defs)"
   ]
  },
  {
   "cell_type": "code",
   "execution_count": 3,
   "metadata": {},
   "outputs": [],
   "source": [
    "#! TODO: Add journey_id column, customer_quit event, and time since last event variable\n",
    "#! TODO: Measure baseline success rate for binary classification"
   ]
  },
  {
   "cell_type": "code",
   "execution_count": 4,
   "metadata": {},
   "outputs": [],
   "source": [
    "df['time_since_last_event'] = df.groupby(['customer_id', 'journey_id'])['event_timestamp'].diff()"
   ]
  },
  {
   "cell_type": "code",
   "execution_count": 5,
   "metadata": {},
   "outputs": [
    {
     "data": {
      "text/html": [
       "<div>\n",
       "<style scoped>\n",
       "    .dataframe tbody tr th:only-of-type {\n",
       "        vertical-align: middle;\n",
       "    }\n",
       "\n",
       "    .dataframe tbody tr th {\n",
       "        vertical-align: top;\n",
       "    }\n",
       "\n",
       "    .dataframe thead th {\n",
       "        text-align: right;\n",
       "    }\n",
       "</style>\n",
       "<table border=\"1\" class=\"dataframe\">\n",
       "  <thead>\n",
       "    <tr style=\"text-align: right;\">\n",
       "      <th></th>\n",
       "      <th>customer_id</th>\n",
       "      <th>account_id</th>\n",
       "      <th>ed_id</th>\n",
       "      <th>event_name</th>\n",
       "      <th>event_timestamp</th>\n",
       "      <th>journey_steps_until_end</th>\n",
       "      <th>journey_id</th>\n",
       "      <th>milestone_number</th>\n",
       "      <th>stage</th>\n",
       "      <th>time_since_last_event</th>\n",
       "    </tr>\n",
       "  </thead>\n",
       "  <tbody>\n",
       "    <tr>\n",
       "      <th>0</th>\n",
       "      <td>278713037</td>\n",
       "      <td>1812321640</td>\n",
       "      <td>2</td>\n",
       "      <td>campaign_click</td>\n",
       "      <td>2021-05-31 06:00:00</td>\n",
       "      <td>1</td>\n",
       "      <td>1.0</td>\n",
       "      <td>0.0</td>\n",
       "      <td>Discover</td>\n",
       "      <td>NaT</td>\n",
       "    </tr>\n",
       "    <tr>\n",
       "      <th>1</th>\n",
       "      <td>278713037</td>\n",
       "      <td>1812321640</td>\n",
       "      <td>19</td>\n",
       "      <td>application_web_view</td>\n",
       "      <td>2021-05-31 23:11:03</td>\n",
       "      <td>2</td>\n",
       "      <td>1.0</td>\n",
       "      <td>0.0</td>\n",
       "      <td>Apply for Credit</td>\n",
       "      <td>0 days 17:11:03</td>\n",
       "    </tr>\n",
       "    <tr>\n",
       "      <th>2</th>\n",
       "      <td>278713037</td>\n",
       "      <td>1812321640</td>\n",
       "      <td>3</td>\n",
       "      <td>application_web_submit</td>\n",
       "      <td>2021-05-31 23:11:51</td>\n",
       "      <td>3</td>\n",
       "      <td>1.0</td>\n",
       "      <td>0.0</td>\n",
       "      <td>Apply for Credit</td>\n",
       "      <td>0 days 00:00:48</td>\n",
       "    </tr>\n",
       "    <tr>\n",
       "      <th>3</th>\n",
       "      <td>278713037</td>\n",
       "      <td>1812321640</td>\n",
       "      <td>19</td>\n",
       "      <td>application_web_view</td>\n",
       "      <td>2021-05-31 23:11:51</td>\n",
       "      <td>4</td>\n",
       "      <td>1.0</td>\n",
       "      <td>0.0</td>\n",
       "      <td>Apply for Credit</td>\n",
       "      <td>0 days 00:00:00</td>\n",
       "    </tr>\n",
       "    <tr>\n",
       "      <th>4</th>\n",
       "      <td>278713037</td>\n",
       "      <td>1812321640</td>\n",
       "      <td>19</td>\n",
       "      <td>application_web_view</td>\n",
       "      <td>2021-05-31 23:11:54</td>\n",
       "      <td>5</td>\n",
       "      <td>1.0</td>\n",
       "      <td>0.0</td>\n",
       "      <td>Apply for Credit</td>\n",
       "      <td>0 days 00:00:03</td>\n",
       "    </tr>\n",
       "  </tbody>\n",
       "</table>\n",
       "</div>"
      ],
      "text/plain": [
       "   customer_id  account_id  ed_id              event_name     event_timestamp  \\\n",
       "0    278713037  1812321640      2          campaign_click 2021-05-31 06:00:00   \n",
       "1    278713037  1812321640     19    application_web_view 2021-05-31 23:11:03   \n",
       "2    278713037  1812321640      3  application_web_submit 2021-05-31 23:11:51   \n",
       "3    278713037  1812321640     19    application_web_view 2021-05-31 23:11:51   \n",
       "4    278713037  1812321640     19    application_web_view 2021-05-31 23:11:54   \n",
       "\n",
       "   journey_steps_until_end  journey_id  milestone_number             stage  \\\n",
       "0                        1         1.0               0.0          Discover   \n",
       "1                        2         1.0               0.0  Apply for Credit   \n",
       "2                        3         1.0               0.0  Apply for Credit   \n",
       "3                        4         1.0               0.0  Apply for Credit   \n",
       "4                        5         1.0               0.0  Apply for Credit   \n",
       "\n",
       "  time_since_last_event  \n",
       "0                   NaT  \n",
       "1       0 days 17:11:03  \n",
       "2       0 days 00:00:48  \n",
       "3       0 days 00:00:00  \n",
       "4       0 days 00:00:03  "
      ]
     },
     "execution_count": 5,
     "metadata": {},
     "output_type": "execute_result"
    }
   ],
   "source": [
    "df.head()"
   ]
  },
  {
   "cell_type": "code",
   "execution_count": 6,
   "metadata": {},
   "outputs": [],
   "source": [
    "from sklearn.model_selection import train_test_split\n",
    "import numpy as np\n",
    "import torch\n",
    "from torch.utils.data import Dataset, DataLoader\n",
    "import torch.nn as nn\n",
    "\n",
    "num_classes = df.ed_id.nunique() # 27 (including customer_quit)"
   ]
  },
  {
   "cell_type": "code",
   "execution_count": 7,
   "metadata": {},
   "outputs": [
    {
     "data": {
      "text/plain": [
       "customer_id                0\n",
       "account_id                 0\n",
       "ed_id                      0\n",
       "event_name                 0\n",
       "event_timestamp            0\n",
       "journey_steps_until_end    0\n",
       "journey_id                 0\n",
       "milestone_number           0\n",
       "stage                      0\n",
       "time_since_last_event      0\n",
       "dtype: int64"
      ]
     },
     "execution_count": 7,
     "metadata": {},
     "output_type": "execute_result"
    }
   ],
   "source": [
    "df.query(\"event_name == 'customer_quit'\").count()"
   ]
  },
  {
   "cell_type": "code",
   "execution_count": 8,
   "metadata": {},
   "outputs": [],
   "source": [
    "from datetime import timedelta\n",
    "\n",
    "df['order_shipped'] = df['event_name'] == 'order_shipped'\n",
    "\n",
    "# Group by customer and journey, then determine if 'order_shipped' occurs in each journey\n",
    "journey_success = df.groupby(['customer_id', 'journey_id'])['order_shipped'].any().reset_index(name='journey_success')\n",
    "\n",
    "# Merge this information back to the original DataFrame\n",
    "df = pd.merge(df, journey_success, how='left', on=['customer_id', 'journey_id'])\n",
    "\n",
    "# Identify journeys without 'order_shipped' by directly filtering where journey_success is False\n",
    "journeys_to_quit = df[df['journey_success'] == False].drop_duplicates(subset=['customer_id', 'journey_id'])\n",
    "\n",
    "# Step 2: For each journey that needs a 'customer_quit' event, add a row 60 days after the last event\n",
    "new_rows = []\n",
    "for _, row in journeys_to_quit.iterrows():\n",
    "    last_event_timestamp = df[(df['customer_id'] == row['customer_id']) & (df['journey_id'] == row['journey_id'])]['event_timestamp'].max()\n",
    "    new_row = row.copy()\n",
    "    new_row['event_name'] = 'customer_quit'\n",
    "    new_row['event_timestamp'] = last_event_timestamp + timedelta(days=60)\n",
    "    # This line is not needed anymore as we're not using 'order_shipped' in the new rows directly\n",
    "    # new_row['order_shipped'] = False\n",
    "    # Reset or adjust any other columns as needed for the new event\n",
    "    # For example, clear columns that shouldn't carry over to the customer_quit event\n",
    "    new_rows.append(new_row)\n",
    "\n",
    "# Append new_rows to the DataFrame\n",
    "if new_rows:  # Check if there are any rows to add\n",
    "    df = pd.concat([df, pd.DataFrame(new_rows)], ignore_index=True)\n",
    "\n",
    "# Since we're not using 'order_shipped' in the new rows, we can drop the column earlier if you prefer\n",
    "df.drop(columns=['order_shipped'], inplace=True)\n",
    "\n",
    "# Sort df by 'customer_id', 'journey_id', and 'event_timestamp' if needed\n",
    "df.sort_values(by=['customer_id', 'journey_id', 'event_timestamp'], inplace=True)\n"
   ]
  },
  {
   "cell_type": "code",
   "execution_count": 9,
   "metadata": {},
   "outputs": [
    {
     "data": {
      "text/html": [
       "<div>\n",
       "<style scoped>\n",
       "    .dataframe tbody tr th:only-of-type {\n",
       "        vertical-align: middle;\n",
       "    }\n",
       "\n",
       "    .dataframe tbody tr th {\n",
       "        vertical-align: top;\n",
       "    }\n",
       "\n",
       "    .dataframe thead th {\n",
       "        text-align: right;\n",
       "    }\n",
       "</style>\n",
       "<table border=\"1\" class=\"dataframe\">\n",
       "  <thead>\n",
       "    <tr style=\"text-align: right;\">\n",
       "      <th></th>\n",
       "      <th>customer_id</th>\n",
       "      <th>account_id</th>\n",
       "      <th>ed_id</th>\n",
       "      <th>event_name</th>\n",
       "      <th>event_timestamp</th>\n",
       "      <th>journey_steps_until_end</th>\n",
       "      <th>journey_id</th>\n",
       "      <th>milestone_number</th>\n",
       "      <th>stage</th>\n",
       "      <th>time_since_last_event</th>\n",
       "      <th>journey_success</th>\n",
       "    </tr>\n",
       "  </thead>\n",
       "  <tbody>\n",
       "    <tr>\n",
       "      <th>2348005</th>\n",
       "      <td>5414</td>\n",
       "      <td>1995603037</td>\n",
       "      <td>12</td>\n",
       "      <td>application_web_approved</td>\n",
       "      <td>2022-10-09 15:19:51</td>\n",
       "      <td>2</td>\n",
       "      <td>1.0</td>\n",
       "      <td>1.0</td>\n",
       "      <td>Apply for Credit</td>\n",
       "      <td>NaT</td>\n",
       "      <td>False</td>\n",
       "    </tr>\n",
       "    <tr>\n",
       "      <th>2348006</th>\n",
       "      <td>5414</td>\n",
       "      <td>1995603037</td>\n",
       "      <td>4</td>\n",
       "      <td>browse_products</td>\n",
       "      <td>2022-10-09 15:29:00</td>\n",
       "      <td>3</td>\n",
       "      <td>1.0</td>\n",
       "      <td>0.0</td>\n",
       "      <td>First Purchase</td>\n",
       "      <td>0 days 00:09:09</td>\n",
       "      <td>False</td>\n",
       "    </tr>\n",
       "    <tr>\n",
       "      <th>2348007</th>\n",
       "      <td>5414</td>\n",
       "      <td>1995603037</td>\n",
       "      <td>2</td>\n",
       "      <td>campaign_click</td>\n",
       "      <td>2022-10-09 21:19:51</td>\n",
       "      <td>4</td>\n",
       "      <td>1.0</td>\n",
       "      <td>0.0</td>\n",
       "      <td>Discover</td>\n",
       "      <td>0 days 05:50:51</td>\n",
       "      <td>False</td>\n",
       "    </tr>\n",
       "    <tr>\n",
       "      <th>2348008</th>\n",
       "      <td>5414</td>\n",
       "      <td>1995603037</td>\n",
       "      <td>4</td>\n",
       "      <td>browse_products</td>\n",
       "      <td>2022-12-01 11:36:47</td>\n",
       "      <td>5</td>\n",
       "      <td>1.0</td>\n",
       "      <td>0.0</td>\n",
       "      <td>First Purchase</td>\n",
       "      <td>52 days 14:16:56</td>\n",
       "      <td>False</td>\n",
       "    </tr>\n",
       "    <tr>\n",
       "      <th>2348009</th>\n",
       "      <td>5414</td>\n",
       "      <td>1995603037</td>\n",
       "      <td>11</td>\n",
       "      <td>add_to_cart</td>\n",
       "      <td>2022-12-01 11:36:49</td>\n",
       "      <td>6</td>\n",
       "      <td>1.0</td>\n",
       "      <td>0.0</td>\n",
       "      <td>First Purchase</td>\n",
       "      <td>0 days 00:00:02</td>\n",
       "      <td>False</td>\n",
       "    </tr>\n",
       "  </tbody>\n",
       "</table>\n",
       "</div>"
      ],
      "text/plain": [
       "         customer_id  account_id  ed_id                event_name  \\\n",
       "2348005         5414  1995603037     12  application_web_approved   \n",
       "2348006         5414  1995603037      4           browse_products   \n",
       "2348007         5414  1995603037      2            campaign_click   \n",
       "2348008         5414  1995603037      4           browse_products   \n",
       "2348009         5414  1995603037     11               add_to_cart   \n",
       "\n",
       "            event_timestamp  journey_steps_until_end  journey_id  \\\n",
       "2348005 2022-10-09 15:19:51                        2         1.0   \n",
       "2348006 2022-10-09 15:29:00                        3         1.0   \n",
       "2348007 2022-10-09 21:19:51                        4         1.0   \n",
       "2348008 2022-12-01 11:36:47                        5         1.0   \n",
       "2348009 2022-12-01 11:36:49                        6         1.0   \n",
       "\n",
       "         milestone_number             stage time_since_last_event  \\\n",
       "2348005               1.0  Apply for Credit                   NaT   \n",
       "2348006               0.0    First Purchase       0 days 00:09:09   \n",
       "2348007               0.0          Discover       0 days 05:50:51   \n",
       "2348008               0.0    First Purchase      52 days 14:16:56   \n",
       "2348009               0.0    First Purchase       0 days 00:00:02   \n",
       "\n",
       "        journey_success  \n",
       "2348005           False  \n",
       "2348006           False  \n",
       "2348007           False  \n",
       "2348008           False  \n",
       "2348009           False  "
      ]
     },
     "execution_count": 9,
     "metadata": {},
     "output_type": "execute_result"
    }
   ],
   "source": [
    "df.head()"
   ]
  },
  {
   "cell_type": "code",
   "execution_count": null,
   "metadata": {},
   "outputs": [],
   "source": [
    "# def create_sequences(df, seq_length=10):\n",
    "#     X = []\n",
    "#     y = []\n",
    "    \n",
    "#     for _, group in df.groupby(['customer_id', 'journey_id']):\n",
    "#         # Prepare the sequence of events and steps\n",
    "#         events = group['ed_id'].tolist()\n",
    "#         steps = group['journey_steps_until_end'].tolist()\n",
    "        \n",
    "#         # Combine events and steps into a single sequence of features\n",
    "#         for i in range(len(events) - seq_length):\n",
    "#             sequence = [[events[j], steps[j]] for j in range(i, i + seq_length)]\n",
    "#             X.append(sequence)\n",
    "#             y.append(events[i + seq_length])\n",
    "    \n",
    "#     return np.array(X), np.array(y)\n",
    "\n",
    "# seq_length = 10  # Adjust based on your data\n",
    "# X, y = create_sequences(df, seq_length)\n",
    "\n",
    "# # Split the dataset\n",
    "# X_train, X_test, y_train, y_test = train_test_split(X, y, test_size=0.2, random_state=42)"
   ]
  },
  {
   "cell_type": "code",
   "execution_count": 11,
   "metadata": {},
   "outputs": [],
   "source": [
    "df['time_since_last_event'] = df['time_since_last_event'].fillna(pd.Timedelta(seconds=0))"
   ]
  },
  {
   "cell_type": "code",
   "execution_count": 13,
   "metadata": {},
   "outputs": [],
   "source": [
    "# Assuming 'df' is your DataFrame and you've already filled NaT values with Timedelta(0)\n",
    "df['time_since_last_event'] = df['time_since_last_event'].dt.total_seconds()"
   ]
  },
  {
   "cell_type": "code",
   "execution_count": 14,
   "metadata": {},
   "outputs": [],
   "source": [
    "import numpy as np\n",
    "from sklearn.model_selection import train_test_split\n",
    "import torch\n",
    "from torch.nn.utils.rnn import pad_sequence\n",
    "from torch.utils.data import DataLoader, TensorDataset\n",
    "\n",
    "def create_sequences(df, seq_length=10):\n",
    "    X = []\n",
    "    y = []\n",
    "    \n",
    "    for _, group in df.groupby(['customer_id', 'journey_id']):\n",
    "        # Extract sequences and the target variable\n",
    "        events = group['ed_id'].tolist()\n",
    "        steps_until_end = group['journey_steps_until_end'].tolist()\n",
    "        time_since_last_event = group['time_since_last_event'].tolist()\n",
    "        journey_success = group['journey_success'].iloc[-1]  # Assuming binary target is the same for the whole journey\n",
    "        \n",
    "        # Combine features into a single sequence for each step\n",
    "        for i in range(len(events) - seq_length + 1):\n",
    "            sequence = [[events[j], steps_until_end[j], time_since_last_event[j]] for j in range(i, min(i + seq_length, len(events)))]\n",
    "            X.append(sequence)\n",
    "            y.append(journey_success)\n",
    "    \n",
    "    # Handling variable sequence lengths: Pad sequences for LSTM input\n",
    "    X_padded = pad_sequence([torch.tensor(x) for x in X], batch_first=True, padding_value=0)\n",
    "    y_tensor = torch.tensor(y, dtype=torch.float32)  # Assuming journey_success is a binary variable\n",
    "    \n",
    "    return X_padded, y_tensor\n",
    "\n",
    "# Create sequences with your DataFrame\n",
    "seq_length = 10  # Adjust based on your data\n",
    "X, y = create_sequences(df, seq_length)\n",
    "\n",
    "# Split the dataset into training and testing sets\n",
    "X_train, X_test, y_train, y_test = train_test_split(X, y, test_size=0.2, random_state=42)"
   ]
  },
  {
   "cell_type": "code",
   "execution_count": 15,
   "metadata": {},
   "outputs": [],
   "source": [
    "from torch.utils.data import Dataset, DataLoader\n",
    "\n",
    "class EventDataset(Dataset):\n",
    "    def __init__(self, X, y):\n",
    "        self.X = X  \n",
    "        self.y = y\n",
    "    \n",
    "    def __len__(self):\n",
    "        return len(self.X)\n",
    "    \n",
    "    def __getitem__(self, idx):\n",
    "        return self.X[idx], self.y[idx]\n",
    "\n",
    "# Create Dataset objects\n",
    "train_dataset = EventDataset(X_train, y_train)\n",
    "test_dataset = EventDataset(X_test, y_test)\n",
    "\n",
    "# Create DataLoader objects\n",
    "batch_size = 64  # Adjust as per your requirements\n",
    "train_loader = DataLoader(train_dataset, batch_size=batch_size, shuffle=True)\n",
    "test_loader = DataLoader(test_dataset, batch_size=batch_size, shuffle=False)\n"
   ]
  },
  {
   "cell_type": "code",
   "execution_count": 17,
   "metadata": {},
   "outputs": [
    {
     "data": {
      "text/plain": [
       "torch.Size([1398868, 10, 3])"
      ]
     },
     "execution_count": 17,
     "metadata": {},
     "output_type": "execute_result"
    }
   ],
   "source": [
    "X_train.shape"
   ]
  },
  {
   "cell_type": "code",
   "execution_count": 18,
   "metadata": {},
   "outputs": [
    {
     "name": "stdout",
     "output_type": "stream",
     "text": [
      "Number of Successful Journeys: 133946\n",
      "Number of Unsuccessful Journeys: 215771\n",
      "Ratio of Successful to Unsuccessful Journeys: 0.6207785105505373\n"
     ]
    }
   ],
   "source": [
    "# Count the number of successful (1) and unsuccessful (0) journeys in the test set\n",
    "num_successful = (y_test == 1).sum().item()\n",
    "num_unsuccessful = (y_test == 0).sum().item()\n",
    "\n",
    "# Calculate the ratio of successful to unsuccessful journeys\n",
    "ratio_successful_to_unsuccessful = num_successful / num_unsuccessful\n",
    "\n",
    "print(f\"Number of Successful Journeys: {num_successful}\")\n",
    "print(f\"Number of Unsuccessful Journeys: {num_unsuccessful}\")\n",
    "print(f\"Ratio of Successful to Unsuccessful Journeys: {ratio_successful_to_unsuccessful}\")\n"
   ]
  },
  {
   "cell_type": "code",
   "execution_count": null,
   "metadata": {},
   "outputs": [],
   "source": [
    "# class EventDataset(Dataset):\n",
    "#     def __init__(self, X, y):\n",
    "#         self.X = torch.tensor(X, dtype=torch.float32)  # Ensure correct data type\n",
    "#         self.y = torch.tensor(y, dtype=torch.long)\n",
    "    \n",
    "#     def __len__(self):\n",
    "#         return len(self.X)\n",
    "    \n",
    "#     def __getitem__(self, idx):\n",
    "#         return self.X[idx], self.y[idx]\n",
    "\n",
    "# # Create Dataset objects\n",
    "# train_dataset = EventDataset(X_train, y_train)\n",
    "# test_dataset = EventDataset(X_test, y_test)\n",
    "\n",
    "# # Create DataLoader objects\n",
    "# batch_size = 64  # Adjust as per your requirements\n",
    "# train_loader = DataLoader(train_dataset, batch_size=batch_size, shuffle=True)\n",
    "# test_loader = DataLoader(test_dataset, batch_size=batch_size, shuffle=False)"
   ]
  },
  {
   "cell_type": "markdown",
   "metadata": {},
   "source": [
    "### II. Building the Model"
   ]
  },
  {
   "cell_type": "code",
   "execution_count": 19,
   "metadata": {},
   "outputs": [],
   "source": [
    "import torch\n",
    "import torch.nn as nn\n",
    "import torch.optim as optim\n",
    "from torch.utils.data import DataLoader, Dataset\n",
    "from tqdm import tqdm\n",
    "\n",
    "class LSTMModelWithSteps(nn.Module):\n",
    "    def __init__(self, input_dim, hidden_dim, layer_dim, output_dim):\n",
    "        super(LSTMModelWithSteps, self).__init__()\n",
    "        self.hidden_dim = hidden_dim\n",
    "        self.layer_dim = layer_dim\n",
    "        self.lstm = nn.LSTM(input_dim, hidden_dim, layer_dim, batch_first=True)\n",
    "        # Output layer that outputs the probability of success\n",
    "        self.fc = nn.Linear(hidden_dim, output_dim)\n",
    "    \n",
    "    def forward(self, x):\n",
    "        h0 = torch.zeros(self.layer_dim, x.size(0), self.hidden_dim).to(x.device)\n",
    "        c0 = torch.zeros(self.layer_dim, x.size(0), self.hidden_dim).to(x.device)\n",
    "        out, _ = self.lstm(x, (h0.detach(), c0.detach()))\n",
    "        out = self.fc(out[:, -1, :])  # Use only the last timestep's output\n",
    "        return out\n"
   ]
  },
  {
   "cell_type": "code",
   "execution_count": 20,
   "metadata": {},
   "outputs": [
    {
     "name": "stdout",
     "output_type": "stream",
     "text": [
      "Using GPU: NVIDIA GeForce RTX 3060\n"
     ]
    }
   ],
   "source": [
    "# Make sure GPU is loaded for training\n",
    "if torch.cuda.is_available():\n",
    "    device = torch.device(\"cuda\")\n",
    "    print(\"Using GPU:\", torch.cuda.get_device_name(0))\n",
    "else:\n",
    "    device = torch.device(\"cpu\")\n",
    "    print(\"Using CPU\")"
   ]
  },
  {
   "cell_type": "code",
   "execution_count": 21,
   "metadata": {},
   "outputs": [],
   "source": [
    "input_dim = 3  # Adjust based on the number of features per timestep\n",
    "hidden_dim = 100\n",
    "layer_dim = 1\n",
    "output_dim = 1  # For binary classification\n",
    "\n",
    "model = LSTMModelWithSteps(input_dim, hidden_dim, layer_dim, output_dim).to(device)"
   ]
  },
  {
   "cell_type": "code",
   "execution_count": null,
   "metadata": {},
   "outputs": [],
   "source": [
    "# class LSTMModelWithSteps(nn.Module):\n",
    "#     def __init__(self, input_dim, hidden_dim, layer_dim, output_dim):\n",
    "#         super(LSTMModelWithSteps, self).__init__()\n",
    "#         self.hidden_dim = hidden_dim\n",
    "#         self.layer_dim = layer_dim\n",
    "#         # Input dim is 2 because we now include event and step\n",
    "#         self.lstm = nn.LSTM(input_dim, hidden_dim, layer_dim, batch_first=True)\n",
    "#         self.fc = nn.Linear(hidden_dim, output_dim)\n",
    "    \n",
    "#     def forward(self, x):\n",
    "#         h0 = torch.zeros(self.layer_dim, x.size(0), self.hidden_dim).to(x.device)\n",
    "#         c0 = torch.zeros(self.layer_dim, x.size(0), self.hidden_dim).to(x.device)\n",
    "#         out, (hn, cn) = self.lstm(x, (h0.detach(), c0.detach()))\n",
    "#         out = self.fc(out[:, -1, :])  # We only use the output of the last time step\n",
    "#         return out\n"
   ]
  },
  {
   "cell_type": "code",
   "execution_count": null,
   "metadata": {},
   "outputs": [],
   "source": [
    "# # Model instantiation\n",
    "# input_dim = 2  # Input dimension is the sequence length\n",
    "# hidden_dim = 100  # Adjust the hidden layer dimension\n",
    "# layer_dim = 1  # Number of LSTM layers\n",
    "# output_dim = num_classes  # Number of output classes\n",
    "\n",
    "# model = LSTMModelWithSteps(input_dim, hidden_dim, layer_dim, output_dim)"
   ]
  },
  {
   "cell_type": "markdown",
   "metadata": {},
   "source": [
    "### III. Train the Model"
   ]
  },
  {
   "cell_type": "code",
   "execution_count": 22,
   "metadata": {},
   "outputs": [],
   "source": [
    "criterion = nn.BCEWithLogitsLoss()\n",
    "optimizer = optim.Adam(model.parameters(), lr=0.001)\n",
    "\n",
    "def validate(model, validation_loader, criterion, device):\n",
    "    model.eval()\n",
    "    val_loss = 0\n",
    "    correct = 0\n",
    "    total = 0\n",
    "    with torch.no_grad():\n",
    "        for sequences, labels in validation_loader:\n",
    "            sequences, labels = sequences.to(device), labels.to(device).float()\n",
    "            outputs = model(sequences)\n",
    "            loss = criterion(outputs.squeeze(), labels)  # Adjust for BCEWithLogitsLoss\n",
    "            val_loss += loss.item()\n",
    "            predicted = outputs.squeeze().round()  # Convert probabilities to binary predictions\n",
    "            total += labels.size(0)\n",
    "            correct += (predicted == labels).sum().item()\n",
    "    val_loss /= len(validation_loader)\n",
    "    val_accuracy = 100 * correct / total\n",
    "    return val_loss, val_accuracy"
   ]
  },
  {
   "cell_type": "code",
   "execution_count": 25,
   "metadata": {},
   "outputs": [
    {
     "name": "stderr",
     "output_type": "stream",
     "text": [
      "Epoch [1/100]: 100%|██████████| 21858/21858 [01:32<00:00, 235.47it/s, loss=0.616]\n"
     ]
    },
    {
     "name": "stdout",
     "output_type": "stream",
     "text": [
      "Validation Loss: 0.6192, Validation Accuracy: 12.39%\n"
     ]
    },
    {
     "name": "stderr",
     "output_type": "stream",
     "text": [
      "Epoch [2/100]: 100%|██████████| 21858/21858 [01:29<00:00, 244.43it/s, loss=0.721]\n"
     ]
    },
    {
     "name": "stdout",
     "output_type": "stream",
     "text": [
      "Validation Loss: 0.6127, Validation Accuracy: 19.05%\n"
     ]
    },
    {
     "name": "stderr",
     "output_type": "stream",
     "text": [
      "Epoch [3/100]: 100%|██████████| 21858/21858 [01:25<00:00, 254.87it/s, loss=0.73] \n"
     ]
    },
    {
     "name": "stdout",
     "output_type": "stream",
     "text": [
      "Validation Loss: 0.6115, Validation Accuracy: 26.09%\n"
     ]
    },
    {
     "name": "stderr",
     "output_type": "stream",
     "text": [
      "Epoch [4/100]: 100%|██████████| 21858/21858 [01:28<00:00, 246.97it/s, loss=0.649]\n"
     ]
    },
    {
     "name": "stdout",
     "output_type": "stream",
     "text": [
      "Validation Loss: 0.6118, Validation Accuracy: 27.38%\n"
     ]
    },
    {
     "name": "stderr",
     "output_type": "stream",
     "text": [
      "Epoch [5/100]: 100%|██████████| 21858/21858 [01:26<00:00, 251.89it/s, loss=0.477]\n"
     ]
    },
    {
     "name": "stdout",
     "output_type": "stream",
     "text": [
      "Validation Loss: 0.6103, Validation Accuracy: 28.03%\n"
     ]
    },
    {
     "name": "stderr",
     "output_type": "stream",
     "text": [
      "Epoch [6/100]: 100%|██████████| 21858/21858 [01:31<00:00, 239.25it/s, loss=0.663]\n"
     ]
    },
    {
     "name": "stdout",
     "output_type": "stream",
     "text": [
      "Validation Loss: 0.6102, Validation Accuracy: 32.32%\n"
     ]
    },
    {
     "name": "stderr",
     "output_type": "stream",
     "text": [
      "Epoch [7/100]: 100%|██████████| 21858/21858 [01:29<00:00, 244.43it/s, loss=0.504]\n"
     ]
    },
    {
     "name": "stdout",
     "output_type": "stream",
     "text": [
      "Validation Loss: 0.6086, Validation Accuracy: 24.63%\n"
     ]
    },
    {
     "name": "stderr",
     "output_type": "stream",
     "text": [
      "Epoch [8/100]: 100%|██████████| 21858/21858 [01:28<00:00, 246.80it/s, loss=0.665]\n"
     ]
    },
    {
     "name": "stdout",
     "output_type": "stream",
     "text": [
      "Validation Loss: 0.6104, Validation Accuracy: 17.63%\n"
     ]
    },
    {
     "name": "stderr",
     "output_type": "stream",
     "text": [
      "Epoch [9/100]: 100%|██████████| 21858/21858 [01:22<00:00, 265.91it/s, loss=0.717]\n"
     ]
    },
    {
     "name": "stdout",
     "output_type": "stream",
     "text": [
      "Validation Loss: 0.6096, Validation Accuracy: 31.38%\n"
     ]
    },
    {
     "name": "stderr",
     "output_type": "stream",
     "text": [
      "Epoch [10/100]: 100%|██████████| 21858/21858 [01:32<00:00, 237.30it/s, loss=0.517]\n"
     ]
    },
    {
     "name": "stdout",
     "output_type": "stream",
     "text": [
      "Validation Loss: 0.6087, Validation Accuracy: 28.51%\n"
     ]
    },
    {
     "name": "stderr",
     "output_type": "stream",
     "text": [
      "Epoch [11/100]: 100%|██████████| 21858/21858 [01:29<00:00, 243.37it/s, loss=0.658]\n"
     ]
    },
    {
     "name": "stdout",
     "output_type": "stream",
     "text": [
      "Validation Loss: 0.6099, Validation Accuracy: 26.32%\n"
     ]
    },
    {
     "name": "stderr",
     "output_type": "stream",
     "text": [
      "Epoch [12/100]: 100%|██████████| 21858/21858 [01:29<00:00, 244.67it/s, loss=0.737]\n"
     ]
    },
    {
     "name": "stdout",
     "output_type": "stream",
     "text": [
      "Validation Loss: 0.6081, Validation Accuracy: 29.97%\n"
     ]
    },
    {
     "name": "stderr",
     "output_type": "stream",
     "text": [
      "Epoch [13/100]: 100%|██████████| 21858/21858 [01:33<00:00, 234.00it/s, loss=0.612]\n"
     ]
    },
    {
     "name": "stdout",
     "output_type": "stream",
     "text": [
      "Validation Loss: 0.6079, Validation Accuracy: 29.03%\n"
     ]
    },
    {
     "name": "stderr",
     "output_type": "stream",
     "text": [
      "Epoch [14/100]: 100%|██████████| 21858/21858 [01:29<00:00, 245.50it/s, loss=0.63] \n"
     ]
    },
    {
     "name": "stdout",
     "output_type": "stream",
     "text": [
      "Validation Loss: 0.6081, Validation Accuracy: 26.47%\n"
     ]
    },
    {
     "name": "stderr",
     "output_type": "stream",
     "text": [
      "Epoch [15/100]: 100%|██████████| 21858/21858 [01:26<00:00, 253.45it/s, loss=0.538]\n"
     ]
    },
    {
     "name": "stdout",
     "output_type": "stream",
     "text": [
      "Validation Loss: 0.6072, Validation Accuracy: 24.24%\n"
     ]
    },
    {
     "name": "stderr",
     "output_type": "stream",
     "text": [
      "Epoch [16/100]: 100%|██████████| 21858/21858 [01:30<00:00, 241.94it/s, loss=0.588]\n"
     ]
    },
    {
     "name": "stdout",
     "output_type": "stream",
     "text": [
      "Validation Loss: 0.6090, Validation Accuracy: 30.33%\n"
     ]
    },
    {
     "name": "stderr",
     "output_type": "stream",
     "text": [
      "Epoch [17/100]: 100%|██████████| 21858/21858 [01:34<00:00, 232.00it/s, loss=0.645]\n"
     ]
    },
    {
     "name": "stdout",
     "output_type": "stream",
     "text": [
      "Validation Loss: 0.6068, Validation Accuracy: 26.88%\n"
     ]
    },
    {
     "name": "stderr",
     "output_type": "stream",
     "text": [
      "Epoch [18/100]: 100%|██████████| 21858/21858 [01:27<00:00, 249.22it/s, loss=0.647]\n"
     ]
    },
    {
     "name": "stdout",
     "output_type": "stream",
     "text": [
      "Validation Loss: 0.6058, Validation Accuracy: 22.19%\n"
     ]
    },
    {
     "name": "stderr",
     "output_type": "stream",
     "text": [
      "Epoch [19/100]: 100%|██████████| 21858/21858 [01:26<00:00, 252.35it/s, loss=0.646]\n"
     ]
    },
    {
     "name": "stdout",
     "output_type": "stream",
     "text": [
      "Validation Loss: 0.6072, Validation Accuracy: 32.01%\n"
     ]
    },
    {
     "name": "stderr",
     "output_type": "stream",
     "text": [
      "Epoch [20/100]: 100%|██████████| 21858/21858 [01:25<00:00, 255.53it/s, loss=0.638]\n"
     ]
    },
    {
     "name": "stdout",
     "output_type": "stream",
     "text": [
      "Validation Loss: 0.6101, Validation Accuracy: 33.30%\n"
     ]
    },
    {
     "name": "stderr",
     "output_type": "stream",
     "text": [
      "Epoch [21/100]: 100%|██████████| 21858/21858 [01:26<00:00, 251.50it/s, loss=0.531]\n"
     ]
    },
    {
     "name": "stdout",
     "output_type": "stream",
     "text": [
      "Validation Loss: 0.6076, Validation Accuracy: 15.54%\n"
     ]
    },
    {
     "name": "stderr",
     "output_type": "stream",
     "text": [
      "Epoch [22/100]: 100%|██████████| 21858/21858 [01:32<00:00, 235.71it/s, loss=0.495]\n"
     ]
    },
    {
     "name": "stdout",
     "output_type": "stream",
     "text": [
      "Validation Loss: 0.6066, Validation Accuracy: 27.03%\n"
     ]
    },
    {
     "name": "stderr",
     "output_type": "stream",
     "text": [
      "Epoch [23/100]: 100%|██████████| 21858/21858 [01:39<00:00, 218.64it/s, loss=0.62] \n"
     ]
    },
    {
     "name": "stdout",
     "output_type": "stream",
     "text": [
      "Validation Loss: 0.6097, Validation Accuracy: 12.17%\n"
     ]
    },
    {
     "name": "stderr",
     "output_type": "stream",
     "text": [
      "Epoch [24/100]: 100%|██████████| 21858/21858 [01:23<00:00, 261.55it/s, loss=0.492]\n"
     ]
    },
    {
     "name": "stdout",
     "output_type": "stream",
     "text": [
      "Validation Loss: 0.6078, Validation Accuracy: 29.93%\n"
     ]
    },
    {
     "name": "stderr",
     "output_type": "stream",
     "text": [
      "Epoch [25/100]: 100%|██████████| 21858/21858 [01:23<00:00, 261.49it/s, loss=0.614]\n"
     ]
    },
    {
     "name": "stdout",
     "output_type": "stream",
     "text": [
      "Validation Loss: 0.6058, Validation Accuracy: 31.82%\n"
     ]
    },
    {
     "name": "stderr",
     "output_type": "stream",
     "text": [
      "Epoch [26/100]: 100%|██████████| 21858/21858 [01:33<00:00, 234.80it/s, loss=0.543]\n"
     ]
    },
    {
     "name": "stdout",
     "output_type": "stream",
     "text": [
      "Validation Loss: 0.6068, Validation Accuracy: 21.54%\n"
     ]
    },
    {
     "name": "stderr",
     "output_type": "stream",
     "text": [
      "Epoch [27/100]: 100%|██████████| 21858/21858 [01:26<00:00, 251.91it/s, loss=0.452]\n"
     ]
    },
    {
     "name": "stdout",
     "output_type": "stream",
     "text": [
      "Validation Loss: 0.6060, Validation Accuracy: 31.27%\n"
     ]
    },
    {
     "name": "stderr",
     "output_type": "stream",
     "text": [
      "Epoch [28/100]: 100%|██████████| 21858/21858 [01:25<00:00, 255.57it/s, loss=0.547]\n"
     ]
    },
    {
     "name": "stdout",
     "output_type": "stream",
     "text": [
      "Validation Loss: 0.6071, Validation Accuracy: 21.71%\n"
     ]
    },
    {
     "name": "stderr",
     "output_type": "stream",
     "text": [
      "Epoch [29/100]: 100%|██████████| 21858/21858 [01:26<00:00, 252.40it/s, loss=0.604]\n"
     ]
    },
    {
     "name": "stdout",
     "output_type": "stream",
     "text": [
      "Validation Loss: 0.6044, Validation Accuracy: 24.54%\n"
     ]
    },
    {
     "name": "stderr",
     "output_type": "stream",
     "text": [
      "Epoch [30/100]: 100%|██████████| 21858/21858 [01:25<00:00, 256.93it/s, loss=0.541]\n"
     ]
    },
    {
     "name": "stdout",
     "output_type": "stream",
     "text": [
      "Validation Loss: 0.6051, Validation Accuracy: 20.76%\n"
     ]
    },
    {
     "name": "stderr",
     "output_type": "stream",
     "text": [
      "Epoch [31/100]: 100%|██████████| 21858/21858 [01:26<00:00, 254.02it/s, loss=0.609]\n"
     ]
    },
    {
     "name": "stdout",
     "output_type": "stream",
     "text": [
      "Validation Loss: 0.6069, Validation Accuracy: 26.60%\n"
     ]
    },
    {
     "name": "stderr",
     "output_type": "stream",
     "text": [
      "Epoch [32/100]: 100%|██████████| 21858/21858 [01:26<00:00, 254.10it/s, loss=0.611]\n"
     ]
    },
    {
     "name": "stdout",
     "output_type": "stream",
     "text": [
      "Validation Loss: 0.6046, Validation Accuracy: 23.27%\n"
     ]
    },
    {
     "name": "stderr",
     "output_type": "stream",
     "text": [
      "Epoch [33/100]: 100%|██████████| 21858/21858 [01:25<00:00, 256.82it/s, loss=0.741]\n"
     ]
    },
    {
     "name": "stdout",
     "output_type": "stream",
     "text": [
      "Validation Loss: 0.6081, Validation Accuracy: 25.45%\n"
     ]
    },
    {
     "name": "stderr",
     "output_type": "stream",
     "text": [
      "Epoch [34/100]: 100%|██████████| 21858/21858 [01:23<00:00, 261.97it/s, loss=0.566]\n"
     ]
    },
    {
     "name": "stdout",
     "output_type": "stream",
     "text": [
      "Validation Loss: 0.6068, Validation Accuracy: 18.35%\n"
     ]
    },
    {
     "name": "stderr",
     "output_type": "stream",
     "text": [
      "Epoch [35/100]: 100%|██████████| 21858/21858 [01:23<00:00, 261.33it/s, loss=0.836]\n"
     ]
    },
    {
     "name": "stdout",
     "output_type": "stream",
     "text": [
      "Validation Loss: 0.6069, Validation Accuracy: 23.01%\n"
     ]
    },
    {
     "name": "stderr",
     "output_type": "stream",
     "text": [
      "Epoch [36/100]: 100%|██████████| 21858/21858 [01:23<00:00, 261.26it/s, loss=0.529]\n"
     ]
    },
    {
     "name": "stdout",
     "output_type": "stream",
     "text": [
      "Validation Loss: 0.6066, Validation Accuracy: 19.46%\n"
     ]
    },
    {
     "name": "stderr",
     "output_type": "stream",
     "text": [
      "Epoch [37/100]: 100%|██████████| 21858/21858 [01:23<00:00, 261.90it/s, loss=0.727]\n"
     ]
    },
    {
     "name": "stdout",
     "output_type": "stream",
     "text": [
      "Validation Loss: 0.6051, Validation Accuracy: 25.15%\n"
     ]
    },
    {
     "name": "stderr",
     "output_type": "stream",
     "text": [
      "Epoch [38/100]: 100%|██████████| 21858/21858 [01:23<00:00, 261.65it/s, loss=0.459]\n"
     ]
    },
    {
     "name": "stdout",
     "output_type": "stream",
     "text": [
      "Validation Loss: 0.6063, Validation Accuracy: 31.06%\n"
     ]
    },
    {
     "name": "stderr",
     "output_type": "stream",
     "text": [
      "Epoch [39/100]: 100%|██████████| 21858/21858 [01:23<00:00, 261.84it/s, loss=0.61] \n"
     ]
    },
    {
     "name": "stdout",
     "output_type": "stream",
     "text": [
      "Validation Loss: 0.6079, Validation Accuracy: 23.45%\n"
     ]
    },
    {
     "name": "stderr",
     "output_type": "stream",
     "text": [
      "Epoch [40/100]: 100%|██████████| 21858/21858 [01:22<00:00, 263.56it/s, loss=0.632]\n"
     ]
    },
    {
     "name": "stdout",
     "output_type": "stream",
     "text": [
      "Validation Loss: 0.6056, Validation Accuracy: 25.13%\n"
     ]
    },
    {
     "name": "stderr",
     "output_type": "stream",
     "text": [
      "Epoch [41/100]: 100%|██████████| 21858/21858 [01:22<00:00, 266.31it/s, loss=0.533]\n"
     ]
    },
    {
     "name": "stdout",
     "output_type": "stream",
     "text": [
      "Validation Loss: 0.6047, Validation Accuracy: 25.29%\n"
     ]
    },
    {
     "name": "stderr",
     "output_type": "stream",
     "text": [
      "Epoch [42/100]: 100%|██████████| 21858/21858 [01:22<00:00, 266.09it/s, loss=0.712]\n"
     ]
    },
    {
     "name": "stdout",
     "output_type": "stream",
     "text": [
      "Validation Loss: 0.6051, Validation Accuracy: 23.38%\n"
     ]
    },
    {
     "name": "stderr",
     "output_type": "stream",
     "text": [
      "Epoch [43/100]: 100%|██████████| 21858/21858 [01:22<00:00, 264.64it/s, loss=0.615]\n"
     ]
    },
    {
     "name": "stdout",
     "output_type": "stream",
     "text": [
      "Validation Loss: 0.6060, Validation Accuracy: 19.60%\n"
     ]
    },
    {
     "name": "stderr",
     "output_type": "stream",
     "text": [
      "Epoch [44/100]: 100%|██████████| 21858/21858 [01:22<00:00, 265.59it/s, loss=0.691]\n"
     ]
    },
    {
     "name": "stdout",
     "output_type": "stream",
     "text": [
      "Validation Loss: 0.6057, Validation Accuracy: 23.92%\n"
     ]
    },
    {
     "name": "stderr",
     "output_type": "stream",
     "text": [
      "Epoch [45/100]: 100%|██████████| 21858/21858 [01:22<00:00, 266.37it/s, loss=0.545]\n"
     ]
    },
    {
     "name": "stdout",
     "output_type": "stream",
     "text": [
      "Validation Loss: 0.6058, Validation Accuracy: 33.60%\n"
     ]
    },
    {
     "name": "stderr",
     "output_type": "stream",
     "text": [
      "Epoch [46/100]: 100%|██████████| 21858/21858 [01:22<00:00, 265.92it/s, loss=0.659]\n"
     ]
    },
    {
     "name": "stdout",
     "output_type": "stream",
     "text": [
      "Validation Loss: 0.6064, Validation Accuracy: 16.59%\n"
     ]
    },
    {
     "name": "stderr",
     "output_type": "stream",
     "text": [
      "Epoch [47/100]:  81%|████████▏ | 17805/21858 [28:11<06:25, 10.53it/s, loss=0.607]   \n"
     ]
    },
    {
     "ename": "KeyboardInterrupt",
     "evalue": "",
     "output_type": "error",
     "traceback": [
      "\u001b[1;31m---------------------------------------------------------------------------\u001b[0m",
      "\u001b[1;31mKeyboardInterrupt\u001b[0m                         Traceback (most recent call last)",
      "Cell \u001b[1;32mIn[25], line 28\u001b[0m\n\u001b[0;32m     26\u001b[0m optimizer\u001b[38;5;241m.\u001b[39mzero_grad()\n\u001b[0;32m     27\u001b[0m outputs \u001b[38;5;241m=\u001b[39m model(sequences)\u001b[38;5;241m.\u001b[39msqueeze()\n\u001b[1;32m---> 28\u001b[0m loss \u001b[38;5;241m=\u001b[39m \u001b[43mcriterion\u001b[49m\u001b[43m(\u001b[49m\u001b[43moutputs\u001b[49m\u001b[43m,\u001b[49m\u001b[43m \u001b[49m\u001b[43mlabels\u001b[49m\u001b[43m)\u001b[49m\n\u001b[0;32m     29\u001b[0m loss\u001b[38;5;241m.\u001b[39mbackward()\n\u001b[0;32m     30\u001b[0m optimizer\u001b[38;5;241m.\u001b[39mstep()\n",
      "File \u001b[1;32mc:\\Users\\Polar\\miniconda3\\envs\\truthsystems\\lib\\site-packages\\torch\\nn\\modules\\module.py:1501\u001b[0m, in \u001b[0;36mModule._call_impl\u001b[1;34m(self, *args, **kwargs)\u001b[0m\n\u001b[0;32m   1496\u001b[0m \u001b[38;5;66;03m# If we don't have any hooks, we want to skip the rest of the logic in\u001b[39;00m\n\u001b[0;32m   1497\u001b[0m \u001b[38;5;66;03m# this function, and just call forward.\u001b[39;00m\n\u001b[0;32m   1498\u001b[0m \u001b[38;5;28;01mif\u001b[39;00m \u001b[38;5;129;01mnot\u001b[39;00m (\u001b[38;5;28mself\u001b[39m\u001b[38;5;241m.\u001b[39m_backward_hooks \u001b[38;5;129;01mor\u001b[39;00m \u001b[38;5;28mself\u001b[39m\u001b[38;5;241m.\u001b[39m_backward_pre_hooks \u001b[38;5;129;01mor\u001b[39;00m \u001b[38;5;28mself\u001b[39m\u001b[38;5;241m.\u001b[39m_forward_hooks \u001b[38;5;129;01mor\u001b[39;00m \u001b[38;5;28mself\u001b[39m\u001b[38;5;241m.\u001b[39m_forward_pre_hooks\n\u001b[0;32m   1499\u001b[0m         \u001b[38;5;129;01mor\u001b[39;00m _global_backward_pre_hooks \u001b[38;5;129;01mor\u001b[39;00m _global_backward_hooks\n\u001b[0;32m   1500\u001b[0m         \u001b[38;5;129;01mor\u001b[39;00m _global_forward_hooks \u001b[38;5;129;01mor\u001b[39;00m _global_forward_pre_hooks):\n\u001b[1;32m-> 1501\u001b[0m     \u001b[38;5;28;01mreturn\u001b[39;00m forward_call(\u001b[38;5;241m*\u001b[39margs, \u001b[38;5;241m*\u001b[39m\u001b[38;5;241m*\u001b[39mkwargs)\n\u001b[0;32m   1502\u001b[0m \u001b[38;5;66;03m# Do not call functions when jit is used\u001b[39;00m\n\u001b[0;32m   1503\u001b[0m full_backward_hooks, non_full_backward_hooks \u001b[38;5;241m=\u001b[39m [], []\n",
      "File \u001b[1;32mc:\\Users\\Polar\\miniconda3\\envs\\truthsystems\\lib\\site-packages\\torch\\nn\\modules\\loss.py:720\u001b[0m, in \u001b[0;36mBCEWithLogitsLoss.forward\u001b[1;34m(self, input, target)\u001b[0m\n\u001b[0;32m    719\u001b[0m \u001b[38;5;28;01mdef\u001b[39;00m \u001b[38;5;21mforward\u001b[39m(\u001b[38;5;28mself\u001b[39m, \u001b[38;5;28minput\u001b[39m: Tensor, target: Tensor) \u001b[38;5;241m-\u001b[39m\u001b[38;5;241m>\u001b[39m Tensor:\n\u001b[1;32m--> 720\u001b[0m     \u001b[38;5;28;01mreturn\u001b[39;00m \u001b[43mF\u001b[49m\u001b[38;5;241;43m.\u001b[39;49m\u001b[43mbinary_cross_entropy_with_logits\u001b[49m\u001b[43m(\u001b[49m\u001b[38;5;28;43minput\u001b[39;49m\u001b[43m,\u001b[49m\u001b[43m \u001b[49m\u001b[43mtarget\u001b[49m\u001b[43m,\u001b[49m\n\u001b[0;32m    721\u001b[0m \u001b[43m                                              \u001b[49m\u001b[38;5;28;43mself\u001b[39;49m\u001b[38;5;241;43m.\u001b[39;49m\u001b[43mweight\u001b[49m\u001b[43m,\u001b[49m\n\u001b[0;32m    722\u001b[0m \u001b[43m                                              \u001b[49m\u001b[43mpos_weight\u001b[49m\u001b[38;5;241;43m=\u001b[39;49m\u001b[38;5;28;43mself\u001b[39;49m\u001b[38;5;241;43m.\u001b[39;49m\u001b[43mpos_weight\u001b[49m\u001b[43m,\u001b[49m\n\u001b[0;32m    723\u001b[0m \u001b[43m                                              \u001b[49m\u001b[43mreduction\u001b[49m\u001b[38;5;241;43m=\u001b[39;49m\u001b[38;5;28;43mself\u001b[39;49m\u001b[38;5;241;43m.\u001b[39;49m\u001b[43mreduction\u001b[49m\u001b[43m)\u001b[49m\n",
      "File \u001b[1;32mc:\\Users\\Polar\\miniconda3\\envs\\truthsystems\\lib\\site-packages\\torch\\nn\\functional.py:3165\u001b[0m, in \u001b[0;36mbinary_cross_entropy_with_logits\u001b[1;34m(input, target, weight, size_average, reduce, reduction, pos_weight)\u001b[0m\n\u001b[0;32m   3162\u001b[0m \u001b[38;5;28;01mif\u001b[39;00m \u001b[38;5;129;01mnot\u001b[39;00m (target\u001b[38;5;241m.\u001b[39msize() \u001b[38;5;241m==\u001b[39m \u001b[38;5;28minput\u001b[39m\u001b[38;5;241m.\u001b[39msize()):\n\u001b[0;32m   3163\u001b[0m     \u001b[38;5;28;01mraise\u001b[39;00m \u001b[38;5;167;01mValueError\u001b[39;00m(\u001b[38;5;124m\"\u001b[39m\u001b[38;5;124mTarget size (\u001b[39m\u001b[38;5;132;01m{}\u001b[39;00m\u001b[38;5;124m) must be the same as input size (\u001b[39m\u001b[38;5;132;01m{}\u001b[39;00m\u001b[38;5;124m)\u001b[39m\u001b[38;5;124m\"\u001b[39m\u001b[38;5;241m.\u001b[39mformat(target\u001b[38;5;241m.\u001b[39msize(), \u001b[38;5;28minput\u001b[39m\u001b[38;5;241m.\u001b[39msize()))\n\u001b[1;32m-> 3165\u001b[0m \u001b[38;5;28;01mreturn\u001b[39;00m \u001b[43mtorch\u001b[49m\u001b[38;5;241;43m.\u001b[39;49m\u001b[43mbinary_cross_entropy_with_logits\u001b[49m\u001b[43m(\u001b[49m\u001b[38;5;28;43minput\u001b[39;49m\u001b[43m,\u001b[49m\u001b[43m \u001b[49m\u001b[43mtarget\u001b[49m\u001b[43m,\u001b[49m\u001b[43m \u001b[49m\u001b[43mweight\u001b[49m\u001b[43m,\u001b[49m\u001b[43m \u001b[49m\u001b[43mpos_weight\u001b[49m\u001b[43m,\u001b[49m\u001b[43m \u001b[49m\u001b[43mreduction_enum\u001b[49m\u001b[43m)\u001b[49m\n",
      "\u001b[1;31mKeyboardInterrupt\u001b[0m: "
     ]
    }
   ],
   "source": [
    "NUM_EPOCHS = 100\n",
    "\n",
    "# def validate(model, validation_loader, criterion, device):\n",
    "#     model.eval()  # Set the model to evaluation mode\n",
    "#     val_loss = 0\n",
    "#     correct = 0\n",
    "#     total = 0\n",
    "#     with torch.no_grad():  # No need to track gradients during validation\n",
    "#         for sequences, labels in validation_loader:\n",
    "#             sequences, labels = sequences.to(device), labels.to(device)\n",
    "#             outputs = model(sequences)\n",
    "#             loss = criterion(outputs, labels)\n",
    "#             val_loss += loss.item()\n",
    "#             _, predicted = torch.max(outputs.data, 1)\n",
    "#             total += labels.size(0)\n",
    "#             correct += (predicted == labels).sum().item()\n",
    "#     val_loss /= len(validation_loader)\n",
    "#     val_accuracy = 100 * correct / total\n",
    "#     return val_loss, val_accuracy\n",
    "\n",
    "for epoch in range(NUM_EPOCHS):\n",
    "    model.train()\n",
    "    loop = tqdm(enumerate(train_loader), total=len(train_loader), leave=True)\n",
    "    for i, (sequences, labels) in loop:\n",
    "        sequences, labels = sequences.to(device), labels.to(device)\n",
    "        optimizer.zero_grad()\n",
    "        outputs = model(sequences).squeeze()\n",
    "        loss = criterion(outputs, labels)\n",
    "        loss.backward()\n",
    "        optimizer.step()\n",
    "        loop.set_description(f\"Epoch [{epoch+1}/{NUM_EPOCHS}]\")\n",
    "        loop.set_postfix(loss=loss.item())\n",
    "\n",
    "    # Validation phase (once per epoch)\n",
    "    val_loss, val_accuracy = validate(model, test_loader, criterion, device)\n",
    "    print(f'Validation Loss: {val_loss:.4f}, Validation Accuracy: {val_accuracy:.2f}%')"
   ]
  },
  {
   "cell_type": "code",
   "execution_count": null,
   "metadata": {},
   "outputs": [],
   "source": [
    "# Save only the model parameters (recommended)\n",
    "torch.save(model.state_dict(), 'lstm_predictor.pth')"
   ]
  },
  {
   "cell_type": "markdown",
   "metadata": {},
   "source": [
    "### IV. Inference"
   ]
  },
  {
   "cell_type": "code",
   "execution_count": null,
   "metadata": {},
   "outputs": [],
   "source": [
    "# Rerun Part II (Building the Model) to define the model class if necessary\n",
    "# model = LSTMModelWithSteps(input_dim, hidden_dim, layer_dim, output_dim).to(device)"
   ]
  },
  {
   "cell_type": "code",
   "execution_count": null,
   "metadata": {},
   "outputs": [],
   "source": [
    "# Load weights into model (only necessary if you started a new session)\n",
    "model.load_state_dict(torch.load('lstm_predictor.pth'))"
   ]
  },
  {
   "cell_type": "code",
   "execution_count": null,
   "metadata": {},
   "outputs": [],
   "source": [
    "def predict(model, test_loader, device):\n",
    "    model.eval()  # Ensure the model is in evaluation mode\n",
    "    predictions = []\n",
    "    with torch.no_grad():  # No need to track gradients\n",
    "        for sequences, _ in test_loader:  # Assuming you don't need labels just for predictions\n",
    "            sequences = sequences.to(device)\n",
    "            outputs = model(sequences)\n",
    "            _, predicted = torch.max(outputs.data, 1)  # Get the index of the max log-probability as the prediction\n",
    "            predictions.extend(predicted.cpu().numpy())  # Move predictions to CPU and convert to numpy, then extend the list\n",
    "    return predictions"
   ]
  },
  {
   "cell_type": "code",
   "execution_count": null,
   "metadata": {},
   "outputs": [],
   "source": [
    "# Make predictions\n",
    "predictions = predict(model, test_loader, device)"
   ]
  },
  {
   "cell_type": "code",
   "execution_count": null,
   "metadata": {},
   "outputs": [],
   "source": [
    "# Convert predictions list to a numpy array\n",
    "predictions_array = np.array(predictions)\n",
    "\n",
    "# Use inverse_transform to convert numerical labels back to original event names\n",
    "event_names = le.inverse_transform(predictions_array)"
   ]
  }
 ],
 "metadata": {
  "kernelspec": {
   "display_name": "truthsystems",
   "language": "python",
   "name": "python3"
  },
  "language_info": {
   "codemirror_mode": {
    "name": "ipython",
    "version": 3
   },
   "file_extension": ".py",
   "mimetype": "text/x-python",
   "name": "python",
   "nbconvert_exporter": "python",
   "pygments_lexer": "ipython3",
   "version": "3.9.17"
  }
 },
 "nbformat": 4,
 "nbformat_minor": 2
}

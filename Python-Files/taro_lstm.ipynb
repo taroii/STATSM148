{
 "cells": [
  {
   "cell_type": "code",
   "execution_count": null,
   "metadata": {},
   "outputs": [],
   "source": [
    "import pandas as pd\n",
    "import numpy as np\n",
    "from random import sample, seed\n",
    "\n",
    "# Import initial data\n",
    "data = pd.read_csv('../smaller_sample.csv')\n",
    "event_defs = pd.read_csv('../event_definitions.csv')"
   ]
  },
  {
   "cell_type": "code",
   "execution_count": null,
   "metadata": {},
   "outputs": [],
   "source": []
  }
 ],
 "metadata": {
  "language_info": {
   "name": "python"
  }
 },
 "nbformat": 4,
 "nbformat_minor": 2
}

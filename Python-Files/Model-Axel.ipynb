{
 "cells": [
  {
   "cell_type": "markdown",
   "metadata": {},
   "source": [
    "# Model\n",
    "\n",
    "* **Team :** Data Crew\n",
    "\n",
    "This is the corresponding jupyter notebook where the model will be developed and stored in order to make predictions on the data."
   ]
  },
  {
   "cell_type": "code",
   "execution_count": 3,
   "metadata": {},
   "outputs": [],
   "source": [
    "# Basic Libraries\n",
    "import pandas as pd\n",
    "import numpy as np\n",
    "import matplotlib.pyplot as plt\n",
    "import seaborn as sns\n",
    "\n",
    "# Own Libraries\n",
    "from utils import correct_sequences, fingerhut_data_cleaner\n",
    "\n",
    "sns.set_style('whitegrid')"
   ]
  },
  {
   "cell_type": "markdown",
   "metadata": {},
   "source": [
    "## Retrieving the data"
   ]
  },
  {
   "cell_type": "code",
   "execution_count": 4,
   "metadata": {},
   "outputs": [],
   "source": [
    "data = pd.read_csv('../../1. Data/smaller_sample.csv')\n",
    "event_defs = pd.read_csv('../../1. Data/Event+Definitions.csv')"
   ]
  },
  {
   "cell_type": "markdown",
   "metadata": {},
   "source": [
    "* Applying the cleaning functions"
   ]
  },
  {
   "cell_type": "code",
   "execution_count": 5,
   "metadata": {},
   "outputs": [],
   "source": [
    "x = data.head()"
   ]
  },
  {
   "cell_type": "code",
   "execution_count": 6,
   "metadata": {},
   "outputs": [
    {
     "data": {
      "text/html": [
       "<div>\n",
       "<style scoped>\n",
       "    .dataframe tbody tr th:only-of-type {\n",
       "        vertical-align: middle;\n",
       "    }\n",
       "\n",
       "    .dataframe tbody tr th {\n",
       "        vertical-align: top;\n",
       "    }\n",
       "\n",
       "    .dataframe thead th {\n",
       "        text-align: right;\n",
       "    }\n",
       "</style>\n",
       "<table border=\"1\" class=\"dataframe\">\n",
       "  <thead>\n",
       "    <tr style=\"text-align: right;\">\n",
       "      <th></th>\n",
       "      <th>customer_id</th>\n",
       "      <th>account_id</th>\n",
       "      <th>ed_id</th>\n",
       "      <th>event_name</th>\n",
       "      <th>event_timestamp</th>\n",
       "      <th>ed_id</th>\n",
       "      <th>journey_steps_until_end</th>\n",
       "      <th>stage</th>\n",
       "    </tr>\n",
       "  </thead>\n",
       "  <tbody>\n",
       "    <tr>\n",
       "      <th>0</th>\n",
       "      <td>278713037.0</td>\n",
       "      <td>-1812321640</td>\n",
       "      <td>2</td>\n",
       "      <td>campaign_click</td>\n",
       "      <td>2021-05-31 06:00:00</td>\n",
       "      <td>2</td>\n",
       "      <td>1</td>\n",
       "      <td>Discover</td>\n",
       "    </tr>\n",
       "    <tr>\n",
       "      <th>1</th>\n",
       "      <td>278713037.0</td>\n",
       "      <td>-1812321640</td>\n",
       "      <td>19</td>\n",
       "      <td>application_web_view</td>\n",
       "      <td>2021-05-31 23:11:03</td>\n",
       "      <td>19</td>\n",
       "      <td>2</td>\n",
       "      <td>Apply for Credit</td>\n",
       "    </tr>\n",
       "    <tr>\n",
       "      <th>2</th>\n",
       "      <td>278713037.0</td>\n",
       "      <td>-1812321640</td>\n",
       "      <td>3</td>\n",
       "      <td>application_web_submit</td>\n",
       "      <td>2021-05-31 23:11:51</td>\n",
       "      <td>3</td>\n",
       "      <td>3</td>\n",
       "      <td>Apply for Credit</td>\n",
       "    </tr>\n",
       "    <tr>\n",
       "      <th>3</th>\n",
       "      <td>278713037.0</td>\n",
       "      <td>-1812321640</td>\n",
       "      <td>19</td>\n",
       "      <td>application_web_view</td>\n",
       "      <td>2021-05-31 23:11:51</td>\n",
       "      <td>19</td>\n",
       "      <td>4</td>\n",
       "      <td>Apply for Credit</td>\n",
       "    </tr>\n",
       "    <tr>\n",
       "      <th>4</th>\n",
       "      <td>278713037.0</td>\n",
       "      <td>-1812321640</td>\n",
       "      <td>19</td>\n",
       "      <td>application_web_view</td>\n",
       "      <td>2021-05-31 23:11:51</td>\n",
       "      <td>19</td>\n",
       "      <td>5</td>\n",
       "      <td>Apply for Credit</td>\n",
       "    </tr>\n",
       "  </tbody>\n",
       "</table>\n",
       "</div>"
      ],
      "text/plain": [
       "   customer_id  account_id  ed_id              event_name     event_timestamp  \\\n",
       "0  278713037.0 -1812321640      2          campaign_click 2021-05-31 06:00:00   \n",
       "1  278713037.0 -1812321640     19    application_web_view 2021-05-31 23:11:03   \n",
       "2  278713037.0 -1812321640      3  application_web_submit 2021-05-31 23:11:51   \n",
       "3  278713037.0 -1812321640     19    application_web_view 2021-05-31 23:11:51   \n",
       "4  278713037.0 -1812321640     19    application_web_view 2021-05-31 23:11:51   \n",
       "\n",
       "   ed_id  journey_steps_until_end             stage  \n",
       "0      2                        1          Discover  \n",
       "1     19                        2  Apply for Credit  \n",
       "2      3                        3  Apply for Credit  \n",
       "3     19                        4  Apply for Credit  \n",
       "4     19                        5  Apply for Credit  "
      ]
     },
     "execution_count": 6,
     "metadata": {},
     "output_type": "execute_result"
    }
   ],
   "source": [
    "df = fingerhut_data_cleaner(x, event_defs)\n",
    "df"
   ]
  }
 ],
 "metadata": {
  "kernelspec": {
   "display_name": "Kernelsote",
   "language": "python",
   "name": "python3"
  },
  "language_info": {
   "codemirror_mode": {
    "name": "ipython",
    "version": 3
   },
   "file_extension": ".py",
   "mimetype": "text/x-python",
   "name": "python",
   "nbconvert_exporter": "python",
   "pygments_lexer": "ipython3",
   "version": "3.11.0"
  }
 },
 "nbformat": 4,
 "nbformat_minor": 2
}

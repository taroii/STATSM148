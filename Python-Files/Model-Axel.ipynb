{
 "cells": [
  {
   "cell_type": "markdown",
   "metadata": {},
   "source": [
    "# Model\n",
    "\n",
    "* **Team :** Data Crew\n",
    "\n",
    "This is the corresponding jupyter notebook where the model will be developed and stored in order to make predictions on the data."
   ]
  },
  {
   "cell_type": "code",
   "execution_count": 36,
   "metadata": {},
   "outputs": [
    {
     "ename": "ImportError",
     "evalue": "cannot import name 'has_correct_sequence' from 'utils' (/Users/danielmalvaez/Library/CloudStorage/GoogleDrive-malvaez.axel@aries.iimas.unam.mx/My Drive/MacBook/Documentos/School/UC/UCLA/Courses/Winter/Experience-Data-Science/Project/STATSM148/Python-Files/utils.py)",
     "output_type": "error",
     "traceback": [
      "\u001b[0;31m---------------------------------------------------------------------------\u001b[0m",
      "\u001b[0;31mImportError\u001b[0m                               Traceback (most recent call last)",
      "Cell \u001b[0;32mIn[36], line 8\u001b[0m\n\u001b[1;32m      5\u001b[0m \u001b[38;5;28;01mimport\u001b[39;00m \u001b[38;5;21;01mseaborn\u001b[39;00m \u001b[38;5;28;01mas\u001b[39;00m \u001b[38;5;21;01msns\u001b[39;00m\n\u001b[1;32m      7\u001b[0m \u001b[38;5;66;03m# Own Libraries\u001b[39;00m\n\u001b[0;32m----> 8\u001b[0m \u001b[38;5;28;01mfrom\u001b[39;00m \u001b[38;5;21;01mutils\u001b[39;00m \u001b[38;5;28;01mimport\u001b[39;00m has_correct_sequence, fingerhut_data_cleaner\n\u001b[1;32m     10\u001b[0m sns\u001b[38;5;241m.\u001b[39mset_style(\u001b[38;5;124m'\u001b[39m\u001b[38;5;124mwhitegrid\u001b[39m\u001b[38;5;124m'\u001b[39m)\n",
      "\u001b[0;31mImportError\u001b[0m: cannot import name 'has_correct_sequence' from 'utils' (/Users/danielmalvaez/Library/CloudStorage/GoogleDrive-malvaez.axel@aries.iimas.unam.mx/My Drive/MacBook/Documentos/School/UC/UCLA/Courses/Winter/Experience-Data-Science/Project/STATSM148/Python-Files/utils.py)"
     ]
    }
   ],
   "source": [
    "# Basic Libraries\n",
    "import pandas as pd\n",
    "import numpy as np\n",
    "import matplotlib.pyplot as plt\n",
    "import seaborn as sns\n",
    "\n",
    "# Own Libraries\n",
    "from utils import has_correct_sequence, fingerhut_data_cleaner\n",
    "\n",
    "sns.set_style('whitegrid')"
   ]
  },
  {
   "cell_type": "markdown",
   "metadata": {},
   "source": [
    "## Retrieving the data"
   ]
  },
  {
   "cell_type": "code",
   "execution_count": null,
   "metadata": {},
   "outputs": [],
   "source": [
    "data = pd.read_csv('../../1. Data/smaller_sample.csv')\n",
    "event_defs = pd.read_csv('../../1. Data/Event+Definitions.csv')"
   ]
  },
  {
   "cell_type": "markdown",
   "metadata": {},
   "source": [
    "* Applying the cleaning functions"
   ]
  },
  {
   "cell_type": "code",
   "execution_count": null,
   "metadata": {},
   "outputs": [
    {
     "data": {
      "text/html": [
       "<div>\n",
       "<style scoped>\n",
       "    .dataframe tbody tr th:only-of-type {\n",
       "        vertical-align: middle;\n",
       "    }\n",
       "\n",
       "    .dataframe tbody tr th {\n",
       "        vertical-align: top;\n",
       "    }\n",
       "\n",
       "    .dataframe thead th {\n",
       "        text-align: right;\n",
       "    }\n",
       "</style>\n",
       "<table border=\"1\" class=\"dataframe\">\n",
       "  <thead>\n",
       "    <tr style=\"text-align: right;\">\n",
       "      <th></th>\n",
       "      <th>customer_id</th>\n",
       "      <th>account_id</th>\n",
       "      <th>ed_id</th>\n",
       "      <th>event_name</th>\n",
       "      <th>event_timestamp</th>\n",
       "      <th>ed_id</th>\n",
       "      <th>journey_steps_until_end</th>\n",
       "      <th>stage</th>\n",
       "    </tr>\n",
       "  </thead>\n",
       "  <tbody>\n",
       "    <tr>\n",
       "      <th>0</th>\n",
       "      <td>2.787130e+08</td>\n",
       "      <td>-1812321640</td>\n",
       "      <td>2</td>\n",
       "      <td>campaign_click</td>\n",
       "      <td>2021-05-31 06:00:00</td>\n",
       "      <td>2</td>\n",
       "      <td>1</td>\n",
       "      <td>Discover</td>\n",
       "    </tr>\n",
       "    <tr>\n",
       "      <th>1</th>\n",
       "      <td>2.787130e+08</td>\n",
       "      <td>-1812321640</td>\n",
       "      <td>19</td>\n",
       "      <td>application_web_view</td>\n",
       "      <td>2021-05-31 23:11:03</td>\n",
       "      <td>19</td>\n",
       "      <td>2</td>\n",
       "      <td>Apply for Credit</td>\n",
       "    </tr>\n",
       "    <tr>\n",
       "      <th>2</th>\n",
       "      <td>2.787130e+08</td>\n",
       "      <td>-1812321640</td>\n",
       "      <td>3</td>\n",
       "      <td>application_web_submit</td>\n",
       "      <td>2021-05-31 23:11:51</td>\n",
       "      <td>3</td>\n",
       "      <td>3</td>\n",
       "      <td>Apply for Credit</td>\n",
       "    </tr>\n",
       "    <tr>\n",
       "      <th>3</th>\n",
       "      <td>2.787130e+08</td>\n",
       "      <td>-1812321640</td>\n",
       "      <td>19</td>\n",
       "      <td>application_web_view</td>\n",
       "      <td>2021-05-31 23:11:51</td>\n",
       "      <td>19</td>\n",
       "      <td>4</td>\n",
       "      <td>Apply for Credit</td>\n",
       "    </tr>\n",
       "    <tr>\n",
       "      <th>4</th>\n",
       "      <td>2.787130e+08</td>\n",
       "      <td>-1812321640</td>\n",
       "      <td>19</td>\n",
       "      <td>application_web_view</td>\n",
       "      <td>2021-05-31 23:11:51</td>\n",
       "      <td>19</td>\n",
       "      <td>5</td>\n",
       "      <td>Apply for Credit</td>\n",
       "    </tr>\n",
       "    <tr>\n",
       "      <th>...</th>\n",
       "      <td>...</td>\n",
       "      <td>...</td>\n",
       "      <td>...</td>\n",
       "      <td>...</td>\n",
       "      <td>...</td>\n",
       "      <td>...</td>\n",
       "      <td>...</td>\n",
       "      <td>...</td>\n",
       "    </tr>\n",
       "    <tr>\n",
       "      <th>3246336</th>\n",
       "      <td>-1.948257e+09</td>\n",
       "      <td>-1123823706</td>\n",
       "      <td>5</td>\n",
       "      <td>view_cart</td>\n",
       "      <td>2023-08-29 02:45:54</td>\n",
       "      <td>5</td>\n",
       "      <td>28</td>\n",
       "      <td>First Purchase</td>\n",
       "    </tr>\n",
       "    <tr>\n",
       "      <th>3246337</th>\n",
       "      <td>-1.948257e+09</td>\n",
       "      <td>-1123823706</td>\n",
       "      <td>4</td>\n",
       "      <td>browse_products</td>\n",
       "      <td>2023-08-29 02:45:54</td>\n",
       "      <td>4</td>\n",
       "      <td>29</td>\n",
       "      <td>First Purchase</td>\n",
       "    </tr>\n",
       "    <tr>\n",
       "      <th>3246338</th>\n",
       "      <td>-1.948257e+09</td>\n",
       "      <td>-1123823706</td>\n",
       "      <td>11</td>\n",
       "      <td>add_to_cart</td>\n",
       "      <td>2023-08-29 02:45:54</td>\n",
       "      <td>11</td>\n",
       "      <td>30</td>\n",
       "      <td>First Purchase</td>\n",
       "    </tr>\n",
       "    <tr>\n",
       "      <th>3246339</th>\n",
       "      <td>-1.948257e+09</td>\n",
       "      <td>-1123823706</td>\n",
       "      <td>6</td>\n",
       "      <td>begin_checkout</td>\n",
       "      <td>2023-08-29 02:45:54</td>\n",
       "      <td>6</td>\n",
       "      <td>31</td>\n",
       "      <td>First Purchase</td>\n",
       "    </tr>\n",
       "    <tr>\n",
       "      <th>3246340</th>\n",
       "      <td>-1.948257e+09</td>\n",
       "      <td>-1123823706</td>\n",
       "      <td>6</td>\n",
       "      <td>begin_checkout</td>\n",
       "      <td>2023-08-29 02:45:54</td>\n",
       "      <td>6</td>\n",
       "      <td>32</td>\n",
       "      <td>First Purchase</td>\n",
       "    </tr>\n",
       "  </tbody>\n",
       "</table>\n",
       "<p>3246341 rows × 8 columns</p>\n",
       "</div>"
      ],
      "text/plain": [
       "          customer_id  account_id  ed_id              event_name  \\\n",
       "0        2.787130e+08 -1812321640      2          campaign_click   \n",
       "1        2.787130e+08 -1812321640     19    application_web_view   \n",
       "2        2.787130e+08 -1812321640      3  application_web_submit   \n",
       "3        2.787130e+08 -1812321640     19    application_web_view   \n",
       "4        2.787130e+08 -1812321640     19    application_web_view   \n",
       "...               ...         ...    ...                     ...   \n",
       "3246336 -1.948257e+09 -1123823706      5               view_cart   \n",
       "3246337 -1.948257e+09 -1123823706      4         browse_products   \n",
       "3246338 -1.948257e+09 -1123823706     11             add_to_cart   \n",
       "3246339 -1.948257e+09 -1123823706      6          begin_checkout   \n",
       "3246340 -1.948257e+09 -1123823706      6          begin_checkout   \n",
       "\n",
       "            event_timestamp  ed_id  journey_steps_until_end             stage  \n",
       "0       2021-05-31 06:00:00      2                        1          Discover  \n",
       "1       2021-05-31 23:11:03     19                        2  Apply for Credit  \n",
       "2       2021-05-31 23:11:51      3                        3  Apply for Credit  \n",
       "3       2021-05-31 23:11:51     19                        4  Apply for Credit  \n",
       "4       2021-05-31 23:11:51     19                        5  Apply for Credit  \n",
       "...                     ...    ...                      ...               ...  \n",
       "3246336 2023-08-29 02:45:54      5                       28    First Purchase  \n",
       "3246337 2023-08-29 02:45:54      4                       29    First Purchase  \n",
       "3246338 2023-08-29 02:45:54     11                       30    First Purchase  \n",
       "3246339 2023-08-29 02:45:54      6                       31    First Purchase  \n",
       "3246340 2023-08-29 02:45:54      6                       32    First Purchase  \n",
       "\n",
       "[3246341 rows x 8 columns]"
      ]
     },
     "execution_count": 27,
     "metadata": {},
     "output_type": "execute_result"
    }
   ],
   "source": [
    "df = fingerhut_data_cleaner(data, event_defs)\n",
    "df"
   ]
  },
  {
   "cell_type": "code",
   "execution_count": null,
   "metadata": {},
   "outputs": [
    {
     "ename": "NameError",
     "evalue": "name 'has_correct_sequence' is not defined",
     "output_type": "error",
     "traceback": [
      "\u001b[0;31m---------------------------------------------------------------------------\u001b[0m",
      "\u001b[0;31mNameError\u001b[0m                                 Traceback (most recent call last)",
      "Cell \u001b[0;32mIn[28], line 1\u001b[0m\n\u001b[0;32m----> 1\u001b[0m has_correct_sequence(df[\u001b[38;5;124m'\u001b[39m\u001b[38;5;124mjourney_steps_until_end\u001b[39m\u001b[38;5;124m'\u001b[39m])\n",
      "\u001b[0;31mNameError\u001b[0m: name 'has_correct_sequence' is not defined"
     ]
    }
   ],
   "source": [
    "has_correct_sequence(df['journey_steps_until_end'])"
   ]
  }
 ],
 "metadata": {
  "kernelspec": {
   "display_name": "Kernelsote",
   "language": "python",
   "name": "python3"
  },
  "language_info": {
   "codemirror_mode": {
    "name": "ipython",
    "version": 3
   },
   "file_extension": ".py",
   "mimetype": "text/x-python",
   "name": "python",
   "nbconvert_exporter": "python",
   "pygments_lexer": "ipython3",
   "version": "3.11.0"
  }
 },
 "nbformat": 4,
 "nbformat_minor": 2
}

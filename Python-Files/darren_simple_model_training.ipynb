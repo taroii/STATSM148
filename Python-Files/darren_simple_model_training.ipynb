{
 "cells": [
  {
   "cell_type": "markdown",
   "metadata": {},
   "source": [
    "some changes"
   ]
  },
  {
   "cell_type": "code",
   "execution_count": 1,
   "metadata": {},
   "outputs": [],
   "source": [
    "import pandas as pd\n",
    "import numpy as np\n",
    "import matplotlib.pyplot as plt\n",
    "from utils import *"
   ]
  },
  {
   "cell_type": "code",
   "execution_count": 2,
   "metadata": {},
   "outputs": [],
   "source": [
    "import torch\n",
    "import torch.nn as nn\n",
    "import torch.optim as optim\n",
    "from torch.utils.data import DataLoader, TensorDataset\n",
    "import tqdm.notebook"
   ]
  },
  {
   "cell_type": "markdown",
   "metadata": {},
   "source": [
    "# Read in available data"
   ]
  },
  {
   "cell_type": "code",
   "execution_count": 3,
   "metadata": {},
   "outputs": [],
   "source": [
    "data = pd.read_csv('export_n_20.csv')"
   ]
  },
  {
   "cell_type": "code",
   "execution_count": 4,
   "metadata": {},
   "outputs": [],
   "source": [
    "def preprocessing_steps(data):\n",
    "    df = data.copy()\n",
    "    df = df.drop(columns=['first_20_events', 'time_since_last_event', 'Unnamed: 1', 'downpayment_cleared', 'first_purchase',\n",
    "                          'max_milestone', 'downpayment_received', 'account_activitation', 'customer_id'])\n",
    "    \n",
    "    df = df.dropna(axis=0)\n",
    "    df_0, df_1 = df[df.order_ships == 0], df[df.order_ships == 1]\n",
    "    df_0 = df_0.sample(n=len(df_1), random_state=2024)\n",
    "    # df_1 = df_1.sample(n=(len(df_0)), replace=True)\n",
    "    df_balanced = pd.concat([df_0, df_1], axis=0).reset_index(drop=True)\n",
    "\n",
    "    # shuffle\n",
    "    df_balanced = df_balanced.sample(frac=1)\n",
    "\n",
    "    df_X = df_balanced.drop(columns='order_ships')\n",
    "    target = df_balanced.order_ships\n",
    "    ori_df = df.drop(columns='order_ships')\n",
    "    ori_target = df.order_ships\n",
    "\n",
    "    boolean_col = ['discover', 'one_more_journey', 'approved_credit', 'has_prospecting', 'has_pre_application']\n",
    "\n",
    "    for col in boolean_col:\n",
    "        df_X[col] = [1 if val == True else 0 for val in df_X[col]]\n",
    "        ori_df[col] = [1 if val == True else 0 for val in ori_df[col]]\n",
    "\n",
    "\n",
    "    return ori_df, ori_target, df_X, target"
   ]
  },
  {
   "cell_type": "code",
   "execution_count": 5,
   "metadata": {},
   "outputs": [],
   "source": [
    "test_df, test_target, df_X, target = preprocessing_steps(data)"
   ]
  },
  {
   "cell_type": "code",
   "execution_count": 6,
   "metadata": {},
   "outputs": [],
   "source": [
    "def scaler(col):\n",
    "    return (col - np.min(col)) / (np.max(col) - np.min(col))"
   ]
  },
  {
   "cell_type": "code",
   "execution_count": 7,
   "metadata": {},
   "outputs": [],
   "source": [
    "df_X = df_X.apply(scaler)\n",
    "test_df = test_df.apply(scaler)"
   ]
  },
  {
   "cell_type": "markdown",
   "metadata": {},
   "source": [
    "# Model training"
   ]
  },
  {
   "cell_type": "markdown",
   "metadata": {},
   "source": [
    "## Regression / Boost"
   ]
  },
  {
   "cell_type": "code",
   "execution_count": 8,
   "metadata": {},
   "outputs": [],
   "source": [
    "from sklearn.linear_model import LinearRegression, LogisticRegression\n",
    "from sklearn.ensemble import GradientBoostingClassifier, AdaBoostClassifier\n",
    "from xgboost import XGBClassifier\n",
    "# from lightgbm import LGBMClassifier\n",
    "from sklearn.model_selection import train_test_split\n",
    "from sklearn.metrics import accuracy_score, f1_score\n",
    "import warnings\n",
    "warnings.filterwarnings('ignore')"
   ]
  },
  {
   "cell_type": "code",
   "execution_count": 285,
   "metadata": {},
   "outputs": [],
   "source": [
    "# X_train, X_test, y_train, y_test = train_test_split(new_dfx, target, train_size=.8, random_state=123)\n",
    "X_train, X_test, y_train, y_test = train_test_split(df_X, target, train_size=.8, random_state=2024)"
   ]
  },
  {
   "cell_type": "markdown",
   "metadata": {},
   "source": [
    "## Models"
   ]
  },
  {
   "cell_type": "code",
   "execution_count": 308,
   "metadata": {},
   "outputs": [
    {
     "data": {
      "text/plain": [
       "0.7189909560583838"
      ]
     },
     "execution_count": 308,
     "metadata": {},
     "output_type": "execute_result"
    }
   ],
   "source": [
    "log_clf = LogisticRegression(random_state=2024)\n",
    "log_clf.fit(df_X, target)\n",
    "prediction = log_clf.predict(test_df)\n",
    "accuracy_score(test_target, prediction)"
   ]
  },
  {
   "cell_type": "code",
   "execution_count": 315,
   "metadata": {},
   "outputs": [
    {
     "name": "stdout",
     "output_type": "stream",
     "text": [
      "0.8124051791550899\n",
      "0.8159505507757489\n"
     ]
    }
   ],
   "source": [
    "clf = XGBClassifier(n_estimators=100, \n",
    "                    max_depth=29, \n",
    "                    colsample_bytree=0.8402686732798905,\n",
    "                    gamma=0.33500938939497493,\n",
    "                    learning_rate=0.11639038601702939,\n",
    "                    min_child_weight=0.007112406074059109,\n",
    "                    reg_alpha=12.120675104275712,\n",
    "                    reg_lambda=10.436126134904793,\n",
    "                    # scale_pos_weight=7.120154797113259,\n",
    "                    subsample=0.9389849014442088,\n",
    "                    tree_method='approx',\n",
    "                    objective='binary:logistic',)\n",
    "\n",
    "\n",
    "clf.fit(df_X, target)\n",
    "\n",
    "xgb_prediction = clf.predict(test_df)\n",
    "\n",
    "print(accuracy_score(test_target, xgb_prediction))\n",
    "print(f1_score(test_target, xgb_prediction, average='weighted'))"
   ]
  },
  {
   "cell_type": "code",
   "execution_count": 256,
   "metadata": {},
   "outputs": [
    {
     "data": {
      "text/plain": [
       "0.7968125004873257"
      ]
     },
     "execution_count": 256,
     "metadata": {},
     "output_type": "execute_result"
    }
   ],
   "source": [
    "ada_clf = AdaBoostClassifier(n_estimators=200,\n",
    "                             learning_rate=1.0,\n",
    "                             random_state=2024)\n",
    "\n",
    "ada_clf.fit(X_train, y_train)\n",
    "ada_prediction = ada_clf.predict(X_test)\n",
    "accuracy_score(y_test, ada_prediction)"
   ]
  },
  {
   "cell_type": "code",
   "execution_count": 257,
   "metadata": {},
   "outputs": [
    {
     "data": {
      "text/plain": [
       "0.8217635729935829"
      ]
     },
     "execution_count": 257,
     "metadata": {},
     "output_type": "execute_result"
    }
   ],
   "source": [
    "gb_clf = GradientBoostingClassifier(n_estimators=200,\n",
    "                                    learning_rate=0.1,\n",
    "                                    # loss='log_loss',\n",
    "                                    max_depth=4,\n",
    "                                    tol=1e-5,\n",
    "                                    random_state=2024)\n",
    "\n",
    "gb_clf.fit(X_train, y_train)\n",
    "gb_prediction = gb_clf.predict(X_test)\n",
    "accuracy_score(y_test, gb_prediction)"
   ]
  },
  {
   "cell_type": "code",
   "execution_count": 71,
   "metadata": {},
   "outputs": [
    {
     "data": {
      "text/plain": [
       "0.817167647970251"
      ]
     },
     "execution_count": 71,
     "metadata": {},
     "output_type": "execute_result"
    }
   ],
   "source": [
    "lgbm_clf = LGBMClassifier(n_estimators=200,\n",
    "                          max_depth=4,\n",
    "                          learning_rate=0.1,\n",
    "                          objective='binary',\n",
    "                          verbose=-1,\n",
    "                          random_state=2024)\n",
    "\n",
    "lgbm_clf.fit(X_train, y_train)\n",
    "lgbm_prediction = lgbm_clf.predict(X_test)\n",
    "accuracy_score(y_test, lgbm_prediction)"
   ]
  },
  {
   "cell_type": "markdown",
   "metadata": {},
   "source": [
    "Seems like boosting algorithms (XGBoost, AdaBoost, Gradient Boosting, LGBM) are achieving better results."
   ]
  },
  {
   "cell_type": "markdown",
   "metadata": {},
   "source": [
    "Also, scaling the data makes the result better"
   ]
  },
  {
   "cell_type": "code",
   "execution_count": 24,
   "metadata": {},
   "outputs": [
    {
     "data": {
      "text/html": [
       "<div>\n",
       "<style scoped>\n",
       "    .dataframe tbody tr th:only-of-type {\n",
       "        vertical-align: middle;\n",
       "    }\n",
       "\n",
       "    .dataframe tbody tr th {\n",
       "        vertical-align: top;\n",
       "    }\n",
       "\n",
       "    .dataframe thead th {\n",
       "        text-align: right;\n",
       "    }\n",
       "</style>\n",
       "<table border=\"1\" class=\"dataframe\">\n",
       "  <thead>\n",
       "    <tr style=\"text-align: right;\">\n",
       "      <th></th>\n",
       "      <th>Target</th>\n",
       "      <th>Log</th>\n",
       "      <th>XGBoost</th>\n",
       "      <th>AdaBoost</th>\n",
       "      <th>Gradient_Boosting</th>\n",
       "    </tr>\n",
       "  </thead>\n",
       "  <tbody>\n",
       "    <tr>\n",
       "      <th>15624</th>\n",
       "      <td>0.0</td>\n",
       "      <td>0.0</td>\n",
       "      <td>0</td>\n",
       "      <td>0.0</td>\n",
       "      <td>0.0</td>\n",
       "    </tr>\n",
       "    <tr>\n",
       "      <th>1235</th>\n",
       "      <td>0.0</td>\n",
       "      <td>0.0</td>\n",
       "      <td>0</td>\n",
       "      <td>0.0</td>\n",
       "      <td>0.0</td>\n",
       "    </tr>\n",
       "    <tr>\n",
       "      <th>1030</th>\n",
       "      <td>0.0</td>\n",
       "      <td>0.0</td>\n",
       "      <td>0</td>\n",
       "      <td>0.0</td>\n",
       "      <td>0.0</td>\n",
       "    </tr>\n",
       "    <tr>\n",
       "      <th>12926</th>\n",
       "      <td>0.0</td>\n",
       "      <td>0.0</td>\n",
       "      <td>0</td>\n",
       "      <td>0.0</td>\n",
       "      <td>0.0</td>\n",
       "    </tr>\n",
       "    <tr>\n",
       "      <th>28785</th>\n",
       "      <td>1.0</td>\n",
       "      <td>1.0</td>\n",
       "      <td>1</td>\n",
       "      <td>1.0</td>\n",
       "      <td>1.0</td>\n",
       "    </tr>\n",
       "  </tbody>\n",
       "</table>\n",
       "</div>"
      ],
      "text/plain": [
       "       Target  Log  XGBoost  AdaBoost  Gradient_Boosting\n",
       "15624     0.0  0.0        0       0.0                0.0\n",
       "1235      0.0  0.0        0       0.0                0.0\n",
       "1030      0.0  0.0        0       0.0                0.0\n",
       "12926     0.0  0.0        0       0.0                0.0\n",
       "28785     1.0  1.0        1       1.0                1.0"
      ]
     },
     "execution_count": 24,
     "metadata": {},
     "output_type": "execute_result"
    }
   ],
   "source": [
    "prediction_df = pd.DataFrame({'Target': y_test, 'Log': prediction, 'XGBoost': xgb_prediction, 'AdaBoost': ada_prediction, 'Gradient_Boosting': gb_prediction}) #, 'LGBM': lgbm_prediction})\n",
    "prediction_df.head(5)"
   ]
  },
  {
   "cell_type": "code",
   "execution_count": 17,
   "metadata": {},
   "outputs": [
    {
     "data": {
      "text/plain": [
       "Index([ 7820, 14303,  6593,  7348,  8845, 31344, 19192, 22233,  1214, 15244,\n",
       "       ...\n",
       "        2995, 20537, 25222,  4244, 21963,  7593, 24327,  1773,  9507,  5252],\n",
       "      dtype='int64', length=1209)"
      ]
     },
     "execution_count": 17,
     "metadata": {},
     "output_type": "execute_result"
    }
   ],
   "source": [
    "(prediction_df.XGBoost != prediction_df.Target)[(prediction_df.XGBoost != prediction_df.Target)].index"
   ]
  },
  {
   "cell_type": "code",
   "execution_count": 18,
   "metadata": {},
   "outputs": [],
   "source": [
    "xgb_error_index = (prediction_df.XGBoost != prediction_df.Target)[(prediction_df.XGBoost != prediction_df.Target)].index\n",
    "ada_error_index = (prediction_df.AdaBoost != prediction_df.Target)[(prediction_df.AdaBoost != prediction_df.Target)].index\n",
    "gb_error_index = (prediction_df.Gradient_Boosting != prediction_df.Target)[(prediction_df.Gradient_Boosting != prediction_df.Target)].index\n",
    "# lgbm_error_index = (prediction_df.LGBM != prediction_df.Target)[(prediction_df.LGBM != prediction_df.Target)].index"
   ]
  },
  {
   "cell_type": "code",
   "execution_count": 22,
   "metadata": {},
   "outputs": [
    {
     "name": "stdout",
     "output_type": "stream",
     "text": [
      "840\n"
     ]
    }
   ],
   "source": [
    "common_error = set(xgb_error_index) & set(ada_error_index) & set(gb_error_index) #& set(lgbm_error_index)\n",
    "print(len(set(xgb_error_index) & set(ada_error_index) & set(gb_error_index))) # & set(lgbm_error_index)))"
   ]
  },
  {
   "cell_type": "code",
   "execution_count": 110,
   "metadata": {},
   "outputs": [],
   "source": [
    "error_df = df[df.index.isin(list(common_error))]\n",
    "no_error_df = df[~df.index.isin(list(common_error))]"
   ]
  },
  {
   "cell_type": "code",
   "execution_count": null,
   "metadata": {},
   "outputs": [],
   "source": [
    "error_df.plot(kind='bar', subplots=True, layout=(4, 5), figsize=(10, 10))"
   ]
  },
  {
   "cell_type": "code",
   "execution_count": 131,
   "metadata": {},
   "outputs": [
    {
     "name": "stdout",
     "output_type": "stream",
     "text": [
      "num_journeys\n",
      "1.036904761904762\n",
      "1.0118414986290067\n",
      "****************************************\n",
      "max_journey\n",
      "32.1\n",
      "32.6614981436995\n",
      "****************************************\n",
      "discover\n",
      "0.6428571428571429\n",
      "0.6003130232219553\n",
      "****************************************\n",
      "number_accounts\n",
      "1.0571428571428572\n",
      "1.040984203246706\n",
      "****************************************\n",
      "one_more_journey\n",
      "0.05476190476190476\n",
      "0.040110650069156296\n",
      "****************************************\n",
      "most_repeated_event\n",
      "8.892857142857142\n",
      "8.942114969304312\n",
      "****************************************\n",
      "average_length_seq\n",
      "27.722023809523808\n",
      "28.55780010191453\n",
      "****************************************\n",
      "approved_credit\n",
      "1.0\n",
      "0.9998544078037417\n",
      "****************************************\n",
      "order_ships\n",
      "0.17976190476190476\n",
      "0.1939288054160297\n",
      "****************************************\n",
      "has_prospecting\n",
      "0.5714285714285714\n",
      "0.5553007692121036\n",
      "****************************************\n",
      "has_pre_application\n",
      "0.09642857142857143\n",
      "0.08819247288345344\n",
      "****************************************\n",
      "initial_device\n",
      "2.013095238095238\n",
      "2.004792409793502\n",
      "****************************************\n",
      "time_in_discover\n",
      "9562.35013095238\n",
      "203386.3873281527\n",
      "****************************************\n",
      "time_in_apply\n",
      "1006219.2876083334\n",
      "742794.546194863\n",
      "****************************************\n"
     ]
    }
   ],
   "source": [
    "for i in range(14):\n",
    "    print(error_df.iloc[:, i].name)\n",
    "    print(error_df.iloc[:, i].mean())\n",
    "    print(no_error_df.iloc[:, i].mean())\n",
    "    print('****************************************')\n",
    "\n",
    "    "
   ]
  },
  {
   "cell_type": "code",
   "execution_count": 133,
   "metadata": {},
   "outputs": [
    {
     "data": {
      "text/plain": [
       "0.7678571428571429"
      ]
     },
     "execution_count": 133,
     "metadata": {},
     "output_type": "execute_result"
    }
   ],
   "source": [
    "error_X = error_df.drop(columns='order_ships')\n",
    "error_target = error_df.order_ships\n",
    "\n",
    "error_Xtrain, error_Xtest, error_ytrain, error_ytest = train_test_split(error_X, error_target, train_size=.8, random_state=2024)\n",
    "error_log_clf = XGBClassifier(n_estimators=200, \n",
    "                              max_depth=10, \n",
    "                              learning_rate=0.1, \n",
    "                              tree_method='approx',\n",
    "                              objective='binary:logistic')\n",
    "\n",
    "error_log_clf.fit(error_Xtrain, error_ytrain)\n",
    "error_log_pred = error_log_clf.predict(error_Xtest)\n",
    "accuracy_score(error_ytest, error_log_pred)\n"
   ]
  },
  {
   "cell_type": "markdown",
   "metadata": {},
   "source": [
    "## Clustering then train"
   ]
  },
  {
   "cell_type": "code",
   "execution_count": 9,
   "metadata": {},
   "outputs": [],
   "source": [
    "from sklearn.cluster import KMeans\n",
    "from sklearn.mixture import GaussianMixture\n",
    "\n",
    "def split_train(cluster, target, random_state=2024):\n",
    "    X_train, X_test, y_train, y_test = train_test_split(cluster, target, train_size=.8, random_state=random_state)\n",
    "    clf = XGBClassifier(n_estimators=200, \n",
    "                        max_depth=10, \n",
    "                        learning_rate=0.1, \n",
    "                        tree_method='approx',\n",
    "                        objective='binary:logistic',)\n",
    "\n",
    "    clf.fit(X_train, y_train)\n",
    "    xgb_prediction = clf.predict(X_test)\n",
    "\n",
    "    return xgb_prediction, accuracy_score(y_test, xgb_prediction)\n",
    "    \n",
    "\n",
    "def cluster_train(df, n_clusters=2, random_state=2024):\n",
    "    df = df.apply(scaler)\n",
    "\n",
    "    # kmeans = KMeans(n_clusters=2, random_state=random_state, init='k-means++', n_init='auto').fit(df[['time_in_discover', 'time_in_apply']])\n",
    "    kmeans = KMeans(n_clusters=n_clusters, random_state=random_state, init='k-means++', n_init='auto').fit(df) #.drop(columns='order_ships'))\n",
    "    # label = kmeans.predict(df[['time_in_discover', 'time_in_apply']])\n",
    "    label = kmeans.predict(df.drop(columns='order_ships'))\n",
    "\n",
    "    df_copy = df.copy().reset_index(drop=True)\n",
    "    df2 = pd.concat([df_copy, pd.Series(label)], axis=1)\n",
    "    df2.columns = [*df2.columns[:-1], 'cluster_label']\n",
    "\n",
    "    # return df2\n",
    "\n",
    "    # cluster 0\n",
    "    df_cluster0 = df2[df2.cluster_label == 0].drop(columns=['cluster_label']) #, 'order_ships'])\n",
    "    cluster0_target = df2[df2.cluster_label == 0].order_ships\n",
    "    cluster0_pred, cluster0_accuracy = split_train(df_cluster0, cluster0_target)\n",
    "\n",
    "    # cluster 1\n",
    "    df_cluster1 = df2[df2.cluster_label == 1].drop(columns=['cluster_label']) #, 'order_ships'])\n",
    "    cluster1_target = df2[df2.cluster_label == 1].order_ships\n",
    "    cluster1_pred, cluster1_accuracy = split_train(df_cluster1, cluster1_target)\n",
    "\n",
    "    return cluster0_accuracy, cluster0_pred, cluster1_accuracy, cluster1_pred, \\\n",
    "          (cluster0_accuracy * len(cluster0_pred) + cluster1_accuracy * len(cluster1_pred)) / (len(cluster0_pred) + len(cluster1_pred))\n",
    "    "
   ]
  },
  {
   "cell_type": "code",
   "execution_count": 10,
   "metadata": {},
   "outputs": [],
   "source": [
    "gaussian_test = GaussianMixture(n_components=2, init_params='random', random_state=2024).fit(df_X)\n",
    "df_X_label = gaussian_test.predict(df_X)\n",
    "kmeans_test = KMeans(n_clusters=2, random_state=2024, init='random').fit(df_X)\n",
    "df_X_label2 = kmeans_test.predict(df_X)"
   ]
  },
  {
   "cell_type": "code",
   "execution_count": 11,
   "metadata": {},
   "outputs": [],
   "source": [
    "gaussian_clusters = pd.concat([df_X, pd.Series(df_X_label)], axis=1)\n",
    "gaussian_clusters.columns = [*gaussian_clusters.columns[:-1], 'cluster_label']\n",
    "gaussian0 = gaussian_clusters[gaussian_clusters.cluster_label == 0]\n",
    "gaussian0_target = target[gaussian0.index]\n",
    "gaussian1 = gaussian_clusters[gaussian_clusters.cluster_label == 1]\n",
    "gaussian1_target = target[gaussian1.index]"
   ]
  },
  {
   "cell_type": "code",
   "execution_count": 12,
   "metadata": {},
   "outputs": [
    {
     "name": "stdout",
     "output_type": "stream",
     "text": [
      "0.8167063450988511\n",
      "0.8157838760173957\n"
     ]
    }
   ],
   "source": [
    "clf = XGBClassifier(n_estimators=100, \n",
    "                    max_depth=10,\n",
    "                    learning_rate=0.1,\n",
    "                    tree_method='approx',\n",
    "                    objective='binary:logistic',)\n",
    "\n",
    "X_train0, X_test0, y_train0, y_test0 = train_test_split(gaussian0, gaussian0_target, test_size=.8, random_state=2024)\n",
    "X_train1, X_test1, y_train1, y_test1 = train_test_split(gaussian1, gaussian1_target, test_size=.8, random_state=2024)\n",
    "\n",
    "clf.fit(X_train0, y_train0)\n",
    "xgb_prediction = clf.predict(X_test0)\n",
    "\n",
    "print(accuracy_score(y_test0, xgb_prediction))\n",
    "print(f1_score(y_test0, xgb_prediction, average='weighted'))"
   ]
  },
  {
   "cell_type": "code",
   "execution_count": 13,
   "metadata": {},
   "outputs": [
    {
     "name": "stdout",
     "output_type": "stream",
     "text": [
      "0.8263556683172045\n",
      "0.8252153304009887\n"
     ]
    }
   ],
   "source": [
    "\n",
    "clf = XGBClassifier(n_estimators=100, \n",
    "                    max_depth=10,\n",
    "                    learning_rate=0.1,\n",
    "                    tree_method='approx',\n",
    "                    objective='binary:logistic',)\n",
    "                    \n",
    "clf.fit(X_train1, y_train1)\n",
    "xgb_prediction = clf.predict(X_test1)\n",
    "\n",
    "print(accuracy_score(y_test1, xgb_prediction))\n",
    "print(f1_score(y_test1, xgb_prediction, average='weighted'))"
   ]
  },
  {
   "cell_type": "code",
   "execution_count": 17,
   "metadata": {},
   "outputs": [
    {
     "data": {
      "text/plain": [
       "Index(['num_journeys', 'max_journey', 'discover', 'number_accounts',\n",
       "       'one_more_journey', 'most_repeated_event', 'average_length_seq',\n",
       "       'approved_credit', 'has_prospecting', 'has_pre_application',\n",
       "       'initial_device', 'time_in_discover', 'time_in_apply'],\n",
       "      dtype='object')"
      ]
     },
     "execution_count": 17,
     "metadata": {},
     "output_type": "execute_result"
    }
   ],
   "source": [
    "df_X.columns"
   ]
  },
  {
   "cell_type": "code",
   "execution_count": 19,
   "metadata": {},
   "outputs": [
    {
     "name": "stdout",
     "output_type": "stream",
     "text": [
      "0.8077531861474224\n",
      "0.8197866815773942\n"
     ]
    }
   ],
   "source": [
    "from sklearn.neighbors import KNeighborsClassifier\n",
    "\n",
    "X_train, X_test, y_train, y_test = train_test_split(df_X, target, test_size=.8, random_state=2024)\n",
    "\n",
    "knn = KNeighborsClassifier(n_neighbors=11).fit(X_train, y_train)\n",
    "knn_prediction = knn.predict(X_test)\n",
    "\n",
    "print(accuracy_score(y_test, knn_prediction))\n",
    "print(f1_score(y_test, knn_prediction))\n"
   ]
  },
  {
   "cell_type": "code",
   "execution_count": 20,
   "metadata": {},
   "outputs": [
    {
     "data": {
      "text/html": [
       "<div>\n",
       "<style scoped>\n",
       "    .dataframe tbody tr th:only-of-type {\n",
       "        vertical-align: middle;\n",
       "    }\n",
       "\n",
       "    .dataframe tbody tr th {\n",
       "        vertical-align: top;\n",
       "    }\n",
       "\n",
       "    .dataframe thead th {\n",
       "        text-align: right;\n",
       "    }\n",
       "</style>\n",
       "<table border=\"1\" class=\"dataframe\">\n",
       "  <thead>\n",
       "    <tr style=\"text-align: right;\">\n",
       "      <th></th>\n",
       "      <th>num_journeys</th>\n",
       "      <th>max_journey</th>\n",
       "      <th>discover</th>\n",
       "      <th>number_accounts</th>\n",
       "      <th>one_more_journey</th>\n",
       "      <th>most_repeated_event</th>\n",
       "      <th>average_length_seq</th>\n",
       "      <th>approved_credit</th>\n",
       "      <th>has_prospecting</th>\n",
       "      <th>has_pre_application</th>\n",
       "      <th>initial_device</th>\n",
       "      <th>time_in_discover</th>\n",
       "      <th>time_in_apply</th>\n",
       "    </tr>\n",
       "  </thead>\n",
       "  <tbody>\n",
       "    <tr>\n",
       "      <th>269182</th>\n",
       "      <td>0.166667</td>\n",
       "      <td>0.000916</td>\n",
       "      <td>1.0</td>\n",
       "      <td>0.0</td>\n",
       "      <td>0.0</td>\n",
       "      <td>0.000000</td>\n",
       "      <td>0.000921</td>\n",
       "      <td>1.0</td>\n",
       "      <td>1.0</td>\n",
       "      <td>1.0</td>\n",
       "      <td>0.5</td>\n",
       "      <td>0.522069</td>\n",
       "      <td>0.527814</td>\n",
       "    </tr>\n",
       "    <tr>\n",
       "      <th>395808</th>\n",
       "      <td>0.000000</td>\n",
       "      <td>0.004884</td>\n",
       "      <td>0.0</td>\n",
       "      <td>0.0</td>\n",
       "      <td>0.0</td>\n",
       "      <td>0.629630</td>\n",
       "      <td>0.004604</td>\n",
       "      <td>1.0</td>\n",
       "      <td>0.0</td>\n",
       "      <td>0.0</td>\n",
       "      <td>0.5</td>\n",
       "      <td>0.522069</td>\n",
       "      <td>0.527684</td>\n",
       "    </tr>\n",
       "    <tr>\n",
       "      <th>7093</th>\n",
       "      <td>0.166667</td>\n",
       "      <td>0.016484</td>\n",
       "      <td>1.0</td>\n",
       "      <td>0.0</td>\n",
       "      <td>0.0</td>\n",
       "      <td>0.074074</td>\n",
       "      <td>0.015654</td>\n",
       "      <td>1.0</td>\n",
       "      <td>0.0</td>\n",
       "      <td>0.0</td>\n",
       "      <td>0.5</td>\n",
       "      <td>0.522347</td>\n",
       "      <td>0.527698</td>\n",
       "    </tr>\n",
       "    <tr>\n",
       "      <th>181407</th>\n",
       "      <td>0.166667</td>\n",
       "      <td>0.000611</td>\n",
       "      <td>1.0</td>\n",
       "      <td>0.0</td>\n",
       "      <td>0.0</td>\n",
       "      <td>0.000000</td>\n",
       "      <td>0.000614</td>\n",
       "      <td>1.0</td>\n",
       "      <td>0.0</td>\n",
       "      <td>0.0</td>\n",
       "      <td>0.5</td>\n",
       "      <td>0.522069</td>\n",
       "      <td>0.527791</td>\n",
       "    </tr>\n",
       "    <tr>\n",
       "      <th>316471</th>\n",
       "      <td>0.166667</td>\n",
       "      <td>0.006105</td>\n",
       "      <td>0.0</td>\n",
       "      <td>0.0</td>\n",
       "      <td>0.0</td>\n",
       "      <td>0.629630</td>\n",
       "      <td>0.003069</td>\n",
       "      <td>1.0</td>\n",
       "      <td>1.0</td>\n",
       "      <td>0.0</td>\n",
       "      <td>0.5</td>\n",
       "      <td>0.522069</td>\n",
       "      <td>0.547685</td>\n",
       "    </tr>\n",
       "    <tr>\n",
       "      <th>...</th>\n",
       "      <td>...</td>\n",
       "      <td>...</td>\n",
       "      <td>...</td>\n",
       "      <td>...</td>\n",
       "      <td>...</td>\n",
       "      <td>...</td>\n",
       "      <td>...</td>\n",
       "      <td>...</td>\n",
       "      <td>...</td>\n",
       "      <td>...</td>\n",
       "      <td>...</td>\n",
       "      <td>...</td>\n",
       "      <td>...</td>\n",
       "    </tr>\n",
       "    <tr>\n",
       "      <th>399265</th>\n",
       "      <td>0.166667</td>\n",
       "      <td>0.023504</td>\n",
       "      <td>0.0</td>\n",
       "      <td>0.0</td>\n",
       "      <td>0.0</td>\n",
       "      <td>0.074074</td>\n",
       "      <td>0.022713</td>\n",
       "      <td>1.0</td>\n",
       "      <td>0.0</td>\n",
       "      <td>0.0</td>\n",
       "      <td>0.5</td>\n",
       "      <td>0.522069</td>\n",
       "      <td>0.527683</td>\n",
       "    </tr>\n",
       "    <tr>\n",
       "      <th>156061</th>\n",
       "      <td>0.166667</td>\n",
       "      <td>0.007326</td>\n",
       "      <td>0.0</td>\n",
       "      <td>0.0</td>\n",
       "      <td>0.0</td>\n",
       "      <td>0.074074</td>\n",
       "      <td>0.005218</td>\n",
       "      <td>1.0</td>\n",
       "      <td>1.0</td>\n",
       "      <td>0.0</td>\n",
       "      <td>0.5</td>\n",
       "      <td>0.522069</td>\n",
       "      <td>0.530852</td>\n",
       "    </tr>\n",
       "    <tr>\n",
       "      <th>104275</th>\n",
       "      <td>0.166667</td>\n",
       "      <td>0.008242</td>\n",
       "      <td>0.0</td>\n",
       "      <td>0.0</td>\n",
       "      <td>0.0</td>\n",
       "      <td>0.074074</td>\n",
       "      <td>0.008287</td>\n",
       "      <td>1.0</td>\n",
       "      <td>0.0</td>\n",
       "      <td>0.0</td>\n",
       "      <td>0.5</td>\n",
       "      <td>0.522069</td>\n",
       "      <td>0.527727</td>\n",
       "    </tr>\n",
       "    <tr>\n",
       "      <th>588186</th>\n",
       "      <td>0.166667</td>\n",
       "      <td>0.007937</td>\n",
       "      <td>0.0</td>\n",
       "      <td>0.0</td>\n",
       "      <td>0.0</td>\n",
       "      <td>0.629630</td>\n",
       "      <td>0.007366</td>\n",
       "      <td>1.0</td>\n",
       "      <td>0.0</td>\n",
       "      <td>0.0</td>\n",
       "      <td>0.5</td>\n",
       "      <td>0.522069</td>\n",
       "      <td>0.527684</td>\n",
       "    </tr>\n",
       "    <tr>\n",
       "      <th>609709</th>\n",
       "      <td>0.166667</td>\n",
       "      <td>0.017705</td>\n",
       "      <td>0.0</td>\n",
       "      <td>0.0</td>\n",
       "      <td>0.0</td>\n",
       "      <td>0.074074</td>\n",
       "      <td>0.016268</td>\n",
       "      <td>1.0</td>\n",
       "      <td>1.0</td>\n",
       "      <td>0.0</td>\n",
       "      <td>0.5</td>\n",
       "      <td>0.522069</td>\n",
       "      <td>0.541576</td>\n",
       "    </tr>\n",
       "  </tbody>\n",
       "</table>\n",
       "<p>641252 rows × 13 columns</p>\n",
       "</div>"
      ],
      "text/plain": [
       "        num_journeys  max_journey  discover  number_accounts  \\\n",
       "269182      0.166667     0.000916       1.0              0.0   \n",
       "395808      0.000000     0.004884       0.0              0.0   \n",
       "7093        0.166667     0.016484       1.0              0.0   \n",
       "181407      0.166667     0.000611       1.0              0.0   \n",
       "316471      0.166667     0.006105       0.0              0.0   \n",
       "...              ...          ...       ...              ...   \n",
       "399265      0.166667     0.023504       0.0              0.0   \n",
       "156061      0.166667     0.007326       0.0              0.0   \n",
       "104275      0.166667     0.008242       0.0              0.0   \n",
       "588186      0.166667     0.007937       0.0              0.0   \n",
       "609709      0.166667     0.017705       0.0              0.0   \n",
       "\n",
       "        one_more_journey  most_repeated_event  average_length_seq  \\\n",
       "269182               0.0             0.000000            0.000921   \n",
       "395808               0.0             0.629630            0.004604   \n",
       "7093                 0.0             0.074074            0.015654   \n",
       "181407               0.0             0.000000            0.000614   \n",
       "316471               0.0             0.629630            0.003069   \n",
       "...                  ...                  ...                 ...   \n",
       "399265               0.0             0.074074            0.022713   \n",
       "156061               0.0             0.074074            0.005218   \n",
       "104275               0.0             0.074074            0.008287   \n",
       "588186               0.0             0.629630            0.007366   \n",
       "609709               0.0             0.074074            0.016268   \n",
       "\n",
       "        approved_credit  has_prospecting  has_pre_application  initial_device  \\\n",
       "269182              1.0              1.0                  1.0             0.5   \n",
       "395808              1.0              0.0                  0.0             0.5   \n",
       "7093                1.0              0.0                  0.0             0.5   \n",
       "181407              1.0              0.0                  0.0             0.5   \n",
       "316471              1.0              1.0                  0.0             0.5   \n",
       "...                 ...              ...                  ...             ...   \n",
       "399265              1.0              0.0                  0.0             0.5   \n",
       "156061              1.0              1.0                  0.0             0.5   \n",
       "104275              1.0              0.0                  0.0             0.5   \n",
       "588186              1.0              0.0                  0.0             0.5   \n",
       "609709              1.0              1.0                  0.0             0.5   \n",
       "\n",
       "        time_in_discover  time_in_apply  \n",
       "269182          0.522069       0.527814  \n",
       "395808          0.522069       0.527684  \n",
       "7093            0.522347       0.527698  \n",
       "181407          0.522069       0.527791  \n",
       "316471          0.522069       0.547685  \n",
       "...                  ...            ...  \n",
       "399265          0.522069       0.527683  \n",
       "156061          0.522069       0.530852  \n",
       "104275          0.522069       0.527727  \n",
       "588186          0.522069       0.527684  \n",
       "609709          0.522069       0.541576  \n",
       "\n",
       "[641252 rows x 13 columns]"
      ]
     },
     "execution_count": 20,
     "metadata": {},
     "output_type": "execute_result"
    }
   ],
   "source": [
    "df_X"
   ]
  },
  {
   "cell_type": "code",
   "execution_count": null,
   "metadata": {},
   "outputs": [],
   "source": [
    "0.7968058604060023\n",
    "0.8060586778597038"
   ]
  },
  {
   "cell_type": "code",
   "execution_count": 202,
   "metadata": {},
   "outputs": [
    {
     "data": {
      "text/plain": [
       "0.8013010053222945"
      ]
     },
     "execution_count": 202,
     "metadata": {},
     "output_type": "execute_result"
    }
   ],
   "source": [
    "split_train(cluster0.drop(columns=['order_ships', 'cluster_label']), cluster0.order_ships)[1]"
   ]
  },
  {
   "cell_type": "code",
   "execution_count": 204,
   "metadata": {},
   "outputs": [
    {
     "data": {
      "text/plain": [
       "0.8356654734786854"
      ]
     },
     "execution_count": 204,
     "metadata": {},
     "output_type": "execute_result"
    }
   ],
   "source": [
    "split_train(cluster1.drop(columns=['order_ships', 'cluster_label']), cluster1.order_ships)[1]"
   ]
  },
  {
   "cell_type": "code",
   "execution_count": 207,
   "metadata": {},
   "outputs": [
    {
     "data": {
      "text/plain": [
       "0.7506346416715485"
      ]
     },
     "execution_count": 207,
     "metadata": {},
     "output_type": "execute_result"
    }
   ],
   "source": [
    "clf = LogisticRegression(random_state=1).fit(cluster1.drop(columns=['order_ships', 'cluster_label']), cluster1.order_ships)\n",
    "pred = clf.predict(cluster1.drop(columns=['order_ships', 'cluster_label']))\n",
    "accuracy_score(cluster1.order_ships, pred)"
   ]
  },
  {
   "cell_type": "code",
   "execution_count": null,
   "metadata": {},
   "outputs": [],
   "source": [
    "cluster0 = test[test.cluster_label == 0]\n",
    "cluster1 = test[test.cluster_label == 1]\n",
    "\n",
    "for i in range(14):\n",
    "    print(cluster0.iloc[:, i].name)\n",
    "    print(cluster0.iloc[:, i].median())\n",
    "    print(cluster1.iloc[:, i].median())\n",
    "    print('****************************************')"
   ]
  },
  {
   "cell_type": "code",
   "execution_count": 156,
   "metadata": {},
   "outputs": [
    {
     "data": {
      "text/html": [
       "<div>\n",
       "<style scoped>\n",
       "    .dataframe tbody tr th:only-of-type {\n",
       "        vertical-align: middle;\n",
       "    }\n",
       "\n",
       "    .dataframe tbody tr th {\n",
       "        vertical-align: top;\n",
       "    }\n",
       "\n",
       "    .dataframe thead th {\n",
       "        text-align: right;\n",
       "    }\n",
       "</style>\n",
       "<table border=\"1\" class=\"dataframe\">\n",
       "  <thead>\n",
       "    <tr style=\"text-align: right;\">\n",
       "      <th></th>\n",
       "      <th>num_journeys</th>\n",
       "      <th>max_journey</th>\n",
       "      <th>discover</th>\n",
       "      <th>number_accounts</th>\n",
       "      <th>one_more_journey</th>\n",
       "      <th>most_repeated_event</th>\n",
       "      <th>average_length_seq</th>\n",
       "      <th>approved_credit</th>\n",
       "      <th>order_ships</th>\n",
       "      <th>has_prospecting</th>\n",
       "      <th>has_pre_application</th>\n",
       "      <th>initial_device</th>\n",
       "      <th>time_in_discover</th>\n",
       "      <th>time_in_apply</th>\n",
       "      <th>cluster_label</th>\n",
       "    </tr>\n",
       "  </thead>\n",
       "  <tbody>\n",
       "    <tr>\n",
       "      <th>28</th>\n",
       "      <td>0.333333</td>\n",
       "      <td>0.006700</td>\n",
       "      <td>0.0</td>\n",
       "      <td>0.0</td>\n",
       "      <td>0.0</td>\n",
       "      <td>0.629630</td>\n",
       "      <td>0.006565</td>\n",
       "      <td>1.0</td>\n",
       "      <td>0.0</td>\n",
       "      <td>0.0</td>\n",
       "      <td>0.0</td>\n",
       "      <td>0.5</td>\n",
       "      <td>0.582477</td>\n",
       "      <td>0.652784</td>\n",
       "      <td>0</td>\n",
       "    </tr>\n",
       "    <tr>\n",
       "      <th>100</th>\n",
       "      <td>0.333333</td>\n",
       "      <td>0.024009</td>\n",
       "      <td>1.0</td>\n",
       "      <td>0.0</td>\n",
       "      <td>0.0</td>\n",
       "      <td>0.074074</td>\n",
       "      <td>0.021335</td>\n",
       "      <td>1.0</td>\n",
       "      <td>0.0</td>\n",
       "      <td>0.0</td>\n",
       "      <td>0.0</td>\n",
       "      <td>0.5</td>\n",
       "      <td>0.582928</td>\n",
       "      <td>0.589912</td>\n",
       "      <td>0</td>\n",
       "    </tr>\n",
       "    <tr>\n",
       "      <th>183</th>\n",
       "      <td>0.333333</td>\n",
       "      <td>0.006142</td>\n",
       "      <td>1.0</td>\n",
       "      <td>0.0</td>\n",
       "      <td>0.0</td>\n",
       "      <td>0.629630</td>\n",
       "      <td>0.005470</td>\n",
       "      <td>1.0</td>\n",
       "      <td>0.0</td>\n",
       "      <td>0.0</td>\n",
       "      <td>0.0</td>\n",
       "      <td>0.5</td>\n",
       "      <td>0.599816</td>\n",
       "      <td>0.627553</td>\n",
       "      <td>0</td>\n",
       "    </tr>\n",
       "    <tr>\n",
       "      <th>187</th>\n",
       "      <td>0.333333</td>\n",
       "      <td>0.005025</td>\n",
       "      <td>1.0</td>\n",
       "      <td>0.0</td>\n",
       "      <td>0.0</td>\n",
       "      <td>0.629630</td>\n",
       "      <td>0.004923</td>\n",
       "      <td>1.0</td>\n",
       "      <td>0.0</td>\n",
       "      <td>1.0</td>\n",
       "      <td>0.0</td>\n",
       "      <td>0.5</td>\n",
       "      <td>0.582928</td>\n",
       "      <td>0.672154</td>\n",
       "      <td>0</td>\n",
       "    </tr>\n",
       "    <tr>\n",
       "      <th>219</th>\n",
       "      <td>0.333333</td>\n",
       "      <td>0.010609</td>\n",
       "      <td>1.0</td>\n",
       "      <td>0.0</td>\n",
       "      <td>0.0</td>\n",
       "      <td>0.629630</td>\n",
       "      <td>0.008753</td>\n",
       "      <td>1.0</td>\n",
       "      <td>0.0</td>\n",
       "      <td>1.0</td>\n",
       "      <td>0.0</td>\n",
       "      <td>0.5</td>\n",
       "      <td>0.582623</td>\n",
       "      <td>0.584239</td>\n",
       "      <td>0</td>\n",
       "    </tr>\n",
       "    <tr>\n",
       "      <th>...</th>\n",
       "      <td>...</td>\n",
       "      <td>...</td>\n",
       "      <td>...</td>\n",
       "      <td>...</td>\n",
       "      <td>...</td>\n",
       "      <td>...</td>\n",
       "      <td>...</td>\n",
       "      <td>...</td>\n",
       "      <td>...</td>\n",
       "      <td>...</td>\n",
       "      <td>...</td>\n",
       "      <td>...</td>\n",
       "      <td>...</td>\n",
       "      <td>...</td>\n",
       "      <td>...</td>\n",
       "    </tr>\n",
       "    <tr>\n",
       "      <th>82781</th>\n",
       "      <td>0.333333</td>\n",
       "      <td>0.005025</td>\n",
       "      <td>1.0</td>\n",
       "      <td>0.0</td>\n",
       "      <td>0.0</td>\n",
       "      <td>0.000000</td>\n",
       "      <td>0.001094</td>\n",
       "      <td>1.0</td>\n",
       "      <td>0.0</td>\n",
       "      <td>1.0</td>\n",
       "      <td>0.0</td>\n",
       "      <td>0.5</td>\n",
       "      <td>0.582722</td>\n",
       "      <td>0.692317</td>\n",
       "      <td>0</td>\n",
       "    </tr>\n",
       "    <tr>\n",
       "      <th>82785</th>\n",
       "      <td>0.333333</td>\n",
       "      <td>0.007817</td>\n",
       "      <td>1.0</td>\n",
       "      <td>0.0</td>\n",
       "      <td>0.0</td>\n",
       "      <td>0.037037</td>\n",
       "      <td>0.006018</td>\n",
       "      <td>1.0</td>\n",
       "      <td>0.0</td>\n",
       "      <td>1.0</td>\n",
       "      <td>0.0</td>\n",
       "      <td>0.5</td>\n",
       "      <td>0.582686</td>\n",
       "      <td>0.601900</td>\n",
       "      <td>0</td>\n",
       "    </tr>\n",
       "    <tr>\n",
       "      <th>83019</th>\n",
       "      <td>0.333333</td>\n",
       "      <td>0.142937</td>\n",
       "      <td>1.0</td>\n",
       "      <td>0.0</td>\n",
       "      <td>0.0</td>\n",
       "      <td>0.074074</td>\n",
       "      <td>0.135120</td>\n",
       "      <td>1.0</td>\n",
       "      <td>0.0</td>\n",
       "      <td>1.0</td>\n",
       "      <td>0.0</td>\n",
       "      <td>0.5</td>\n",
       "      <td>0.582794</td>\n",
       "      <td>0.593465</td>\n",
       "      <td>0</td>\n",
       "    </tr>\n",
       "    <tr>\n",
       "      <th>83110</th>\n",
       "      <td>0.333333</td>\n",
       "      <td>0.002792</td>\n",
       "      <td>1.0</td>\n",
       "      <td>0.0</td>\n",
       "      <td>0.0</td>\n",
       "      <td>0.000000</td>\n",
       "      <td>0.001094</td>\n",
       "      <td>1.0</td>\n",
       "      <td>0.0</td>\n",
       "      <td>1.0</td>\n",
       "      <td>0.0</td>\n",
       "      <td>0.5</td>\n",
       "      <td>0.582874</td>\n",
       "      <td>0.688375</td>\n",
       "      <td>0</td>\n",
       "    </tr>\n",
       "    <tr>\n",
       "      <th>83132</th>\n",
       "      <td>0.333333</td>\n",
       "      <td>0.098827</td>\n",
       "      <td>1.0</td>\n",
       "      <td>0.0</td>\n",
       "      <td>0.0</td>\n",
       "      <td>0.074074</td>\n",
       "      <td>0.091357</td>\n",
       "      <td>1.0</td>\n",
       "      <td>1.0</td>\n",
       "      <td>0.0</td>\n",
       "      <td>1.0</td>\n",
       "      <td>0.5</td>\n",
       "      <td>0.582881</td>\n",
       "      <td>0.611439</td>\n",
       "      <td>0</td>\n",
       "    </tr>\n",
       "  </tbody>\n",
       "</table>\n",
       "<p>1918 rows × 15 columns</p>\n",
       "</div>"
      ],
      "text/plain": [
       "       num_journeys  max_journey  discover  number_accounts  one_more_journey  \\\n",
       "28         0.333333     0.006700       0.0              0.0               0.0   \n",
       "100        0.333333     0.024009       1.0              0.0               0.0   \n",
       "183        0.333333     0.006142       1.0              0.0               0.0   \n",
       "187        0.333333     0.005025       1.0              0.0               0.0   \n",
       "219        0.333333     0.010609       1.0              0.0               0.0   \n",
       "...             ...          ...       ...              ...               ...   \n",
       "82781      0.333333     0.005025       1.0              0.0               0.0   \n",
       "82785      0.333333     0.007817       1.0              0.0               0.0   \n",
       "83019      0.333333     0.142937       1.0              0.0               0.0   \n",
       "83110      0.333333     0.002792       1.0              0.0               0.0   \n",
       "83132      0.333333     0.098827       1.0              0.0               0.0   \n",
       "\n",
       "       most_repeated_event  average_length_seq  approved_credit  order_ships  \\\n",
       "28                0.629630            0.006565              1.0          0.0   \n",
       "100               0.074074            0.021335              1.0          0.0   \n",
       "183               0.629630            0.005470              1.0          0.0   \n",
       "187               0.629630            0.004923              1.0          0.0   \n",
       "219               0.629630            0.008753              1.0          0.0   \n",
       "...                    ...                 ...              ...          ...   \n",
       "82781             0.000000            0.001094              1.0          0.0   \n",
       "82785             0.037037            0.006018              1.0          0.0   \n",
       "83019             0.074074            0.135120              1.0          0.0   \n",
       "83110             0.000000            0.001094              1.0          0.0   \n",
       "83132             0.074074            0.091357              1.0          1.0   \n",
       "\n",
       "       has_prospecting  has_pre_application  initial_device  time_in_discover  \\\n",
       "28                 0.0                  0.0             0.5          0.582477   \n",
       "100                0.0                  0.0             0.5          0.582928   \n",
       "183                0.0                  0.0             0.5          0.599816   \n",
       "187                1.0                  0.0             0.5          0.582928   \n",
       "219                1.0                  0.0             0.5          0.582623   \n",
       "...                ...                  ...             ...               ...   \n",
       "82781              1.0                  0.0             0.5          0.582722   \n",
       "82785              1.0                  0.0             0.5          0.582686   \n",
       "83019              1.0                  0.0             0.5          0.582794   \n",
       "83110              1.0                  0.0             0.5          0.582874   \n",
       "83132              0.0                  1.0             0.5          0.582881   \n",
       "\n",
       "       time_in_apply  cluster_label  \n",
       "28          0.652784              0  \n",
       "100         0.589912              0  \n",
       "183         0.627553              0  \n",
       "187         0.672154              0  \n",
       "219         0.584239              0  \n",
       "...              ...            ...  \n",
       "82781       0.692317              0  \n",
       "82785       0.601900              0  \n",
       "83019       0.593465              0  \n",
       "83110       0.688375              0  \n",
       "83132       0.611439              0  \n",
       "\n",
       "[1918 rows x 15 columns]"
      ]
     },
     "execution_count": 156,
     "metadata": {},
     "output_type": "execute_result"
    }
   ],
   "source": [
    "test = test[test.cluster_label == 0]\n",
    "test_target = test.order_ships\n",
    "test_X = test.drop(columns=['cluster_label', ''])"
   ]
  },
  {
   "cell_type": "markdown",
   "metadata": {},
   "source": [
    "## NN"
   ]
  },
  {
   "cell_type": "code",
   "execution_count": 33,
   "metadata": {},
   "outputs": [],
   "source": [
    "def scaler(col):\n",
    "    return (col - np.min(col)) / (np.max(col) - np.min(col))"
   ]
  },
  {
   "cell_type": "code",
   "execution_count": 34,
   "metadata": {},
   "outputs": [],
   "source": [
    "df_X = df_X.apply(scaler)"
   ]
  },
  {
   "cell_type": "code",
   "execution_count": 35,
   "metadata": {},
   "outputs": [],
   "source": [
    "device = torch.device('cuda' if torch.cuda.is_available() else 'cpu')"
   ]
  },
  {
   "cell_type": "code",
   "execution_count": 37,
   "metadata": {},
   "outputs": [],
   "source": [
    "feature_columns = df_X.columns.to_list()\n",
    "feature_tensors = [torch.tensor(df_balanced[feature].values).float().unsqueeze(1) for feature in feature_columns]\n",
    "\n",
    "# res = torch.cat([event_id] + feature_tensors, dim=1).to(device)\n",
    "res = torch.cat(feature_tensors, dim=1).to(device)\n",
    "target = torch.tensor(target, dtype=torch.float32).view(-1, 1).to(device)\n",
    "\n",
    "X_train, X_test, y_train, y_test = train_test_split(res, target, train_size=.8, random_state=2024)\n",
    "train_data = TensorDataset(X_train, y_train)\n",
    "test_data = TensorDataset(X_test, y_test)\n",
    "\n",
    "train_loader = DataLoader(train_data, batch_size=32, shuffle=True)\n",
    "test_loader = DataLoader(test_data, batch_size=32)"
   ]
  },
  {
   "cell_type": "code",
   "execution_count": 38,
   "metadata": {},
   "outputs": [],
   "source": [
    "class Classifier(nn.Module):\n",
    "    def __init__(self, input_dim):\n",
    "        super().__init__()\n",
    "        self.fc_model = nn.Sequential(\n",
    "            nn.Linear(input_dim, 512),\n",
    "            nn.LeakyReLU(),\n",
    "            nn.Linear(512, 1)\n",
    "        )\n",
    "        self.sigmoid = nn.Sigmoid()\n",
    "        \n",
    "    def forward(self, x):\n",
    "        x = self.fc_model(x)\n",
    "        x = self.sigmoid(x)\n",
    "        return x"
   ]
  },
  {
   "cell_type": "code",
   "execution_count": 39,
   "metadata": {},
   "outputs": [
    {
     "name": "stdout",
     "output_type": "stream",
     "text": [
      "Epoch 1 / 100, Loss: 37.5000, Validation Loss: 47.2412, Accuracy: 52.4171\n",
      "Epoch 2 / 100, Loss: 25.0000, Validation Loss: 47.5191, Accuracy: 52.4636\n",
      "Epoch 3 / 100, Loss: 29.1667, Validation Loss: 47.3059, Accuracy: 52.4946\n",
      "Epoch 4 / 100, Loss: 29.2507, Validation Loss: 46.5883, Accuracy: 52.9284\n",
      "Epoch 5 / 100, Loss: 50.8965, Validation Loss: 43.1774, Accuracy: 53.6102\n",
      "Epoch 6 / 100, Loss: 41.8916, Validation Loss: 38.8802, Accuracy: 54.1989\n",
      "Epoch 7 / 100, Loss: 54.2217, Validation Loss: 45.6885, Accuracy: 52.8664\n",
      "Epoch 8 / 100, Loss: 29.7576, Validation Loss: 39.9432, Accuracy: 54.5088\n",
      "Epoch 9 / 100, Loss: 50.0000, Validation Loss: 47.4818, Accuracy: 52.4481\n",
      "Epoch 10 / 100, Loss: 41.6667, Validation Loss: 41.3178, Accuracy: 56.7865\n",
      "Epoch 11 / 100, Loss: 33.3333, Validation Loss: 42.2672, Accuracy: 56.4301\n",
      "Epoch 12 / 100, Loss: 50.0000, Validation Loss: 45.3309, Accuracy: 53.5327\n",
      "Epoch 13 / 100, Loss: 50.0000, Validation Loss: 44.6097, Accuracy: 54.8187\n",
      "Epoch 14 / 100, Loss: 41.6667, Validation Loss: 44.0489, Accuracy: 55.4695\n",
      "Epoch 15 / 100, Loss: 37.5000, Validation Loss: 50.1389, Accuracy: 49.5042\n",
      "Epoch 16 / 100, Loss: 59.7184, Validation Loss: 46.2785, Accuracy: 53.2848\n",
      "Epoch 17 / 100, Loss: 54.1667, Validation Loss: 45.2305, Accuracy: 54.1215\n",
      "Epoch 18 / 100, Loss: 33.3333, Validation Loss: 44.0582, Accuracy: 54.8962\n",
      "Epoch 19 / 100, Loss: 62.5000, Validation Loss: 46.8162, Accuracy: 52.8974\n",
      "Epoch 20 / 100, Loss: 33.3333, Validation Loss: 44.9529, Accuracy: 54.2764\n",
      "Epoch 21 / 100, Loss: 46.1921, Validation Loss: 44.1109, Accuracy: 54.9582\n",
      "Epoch 22 / 100, Loss: 29.1667, Validation Loss: 46.3734, Accuracy: 53.3313\n",
      "Epoch 23 / 100, Loss: 25.0000, Validation Loss: 43.6022, Accuracy: 55.9033\n",
      "Epoch 24 / 100, Loss: 66.6667, Validation Loss: 47.7660, Accuracy: 52.2312\n",
      "Epoch 25 / 100, Loss: 41.6667, Validation Loss: 47.4362, Accuracy: 52.4636\n",
      "Epoch 26 / 100, Loss: 33.3333, Validation Loss: 44.9569, Accuracy: 54.5398\n",
      "Epoch 27 / 100, Loss: 50.0000, Validation Loss: 46.2571, Accuracy: 53.4707\n",
      "Epoch 28 / 100, Loss: 33.3333, Validation Loss: 45.4649, Accuracy: 54.1060\n",
      "Epoch 29 / 100, Loss: 37.5000, Validation Loss: 45.6761, Accuracy: 53.8891\n",
      "Epoch 30 / 100, Loss: 54.1667, Validation Loss: 45.9775, Accuracy: 53.7651\n",
      "Epoch 31 / 100, Loss: 33.3333, Validation Loss: 39.5622, Accuracy: 60.0868\n",
      "Epoch 32 / 100, Loss: 66.6667, Validation Loss: 47.4067, Accuracy: 52.5875\n",
      "Epoch 33 / 100, Loss: 50.0000, Validation Loss: 47.1809, Accuracy: 52.7270\n",
      "Epoch 34 / 100, Loss: 45.8333, Validation Loss: 47.1567, Accuracy: 52.7735\n",
      "Epoch 35 / 100, Loss: 63.1063, Validation Loss: 46.8812, Accuracy: 52.9129\n",
      "Epoch 36 / 100, Loss: 54.1667, Validation Loss: 45.1779, Accuracy: 54.4778\n",
      "Epoch 37 / 100, Loss: 50.0000, Validation Loss: 46.1280, Accuracy: 53.6257\n",
      "Epoch 38 / 100, Loss: 58.3333, Validation Loss: 46.2705, Accuracy: 53.5482\n",
      "Epoch 39 / 100, Loss: 33.3333, Validation Loss: 44.6315, Accuracy: 54.9892\n",
      "Epoch 40 / 100, Loss: 50.0000, Validation Loss: 44.8492, Accuracy: 54.8187\n",
      "Epoch 41 / 100, Loss: 62.5000, Validation Loss: 44.7418, Accuracy: 54.9737\n",
      "Epoch 42 / 100, Loss: 45.8333, Validation Loss: 45.1315, Accuracy: 54.5863\n",
      "Epoch 43 / 100, Loss: 41.6667, Validation Loss: 46.1591, Accuracy: 53.7186\n",
      "Epoch 44 / 100, Loss: 50.0000, Validation Loss: 46.4076, Accuracy: 53.5482\n",
      "Epoch 45 / 100, Loss: 20.8333, Validation Loss: 39.7998, Accuracy: 59.8853\n",
      "Epoch 46 / 100, Loss: 58.3333, Validation Loss: 47.5163, Accuracy: 52.4946\n",
      "Epoch 47 / 100, Loss: 33.3333, Validation Loss: 47.4109, Accuracy: 52.5875\n",
      "Epoch 48 / 100, Loss: 41.6667, Validation Loss: 47.1316, Accuracy: 52.8355\n",
      "Epoch 49 / 100, Loss: 33.3333, Validation Loss: 44.9095, Accuracy: 54.9117\n",
      "Epoch 50 / 100, Loss: 54.1667, Validation Loss: 39.2045, Accuracy: 60.6446\n",
      "Epoch 51 / 100, Loss: 37.5000, Validation Loss: 47.2065, Accuracy: 52.7580\n",
      "Epoch 52 / 100, Loss: 45.8333, Validation Loss: 47.2028, Accuracy: 52.7580\n",
      "Epoch 53 / 100, Loss: 62.5000, Validation Loss: 47.3623, Accuracy: 52.6340\n",
      "Epoch 54 / 100, Loss: 42.5158, Validation Loss: 46.9834, Accuracy: 52.9594\n",
      "Epoch 55 / 100, Loss: 41.6667, Validation Loss: 46.5064, Accuracy: 53.3932\n",
      "Epoch 56 / 100, Loss: 29.1667, Validation Loss: 46.4569, Accuracy: 53.4862\n",
      "Epoch 57 / 100, Loss: 29.1667, Validation Loss: 45.0099, Accuracy: 54.6483\n",
      "Epoch 58 / 100, Loss: 45.8333, Validation Loss: 44.9794, Accuracy: 54.7877\n",
      "Epoch 59 / 100, Loss: 58.3333, Validation Loss: 50.0399, Accuracy: 49.8451\n",
      "Epoch 60 / 100, Loss: 50.0000, Validation Loss: 50.2744, Accuracy: 49.6126\n",
      "Epoch 61 / 100, Loss: 50.9367, Validation Loss: 50.0990, Accuracy: 49.7211\n",
      "Epoch 62 / 100, Loss: 57.6955, Validation Loss: 50.0874, Accuracy: 49.7831\n",
      "Epoch 63 / 100, Loss: 37.5000, Validation Loss: 50.1031, Accuracy: 49.7521\n",
      "Epoch 64 / 100, Loss: 66.6667, Validation Loss: 50.1225, Accuracy: 49.7211\n",
      "Epoch 65 / 100, Loss: 54.1667, Validation Loss: 50.2218, Accuracy: 49.6436\n",
      "Epoch 66 / 100, Loss: 66.6667, Validation Loss: 50.3004, Accuracy: 49.5817\n",
      "Epoch 67 / 100, Loss: 50.0000, Validation Loss: 50.2287, Accuracy: 49.6436\n",
      "Epoch 68 / 100, Loss: 58.3333, Validation Loss: 50.2688, Accuracy: 49.5507\n",
      "Epoch 69 / 100, Loss: 53.3204, Validation Loss: 49.4734, Accuracy: 50.3874\n",
      "Epoch 70 / 100, Loss: 33.3333, Validation Loss: 49.7520, Accuracy: 50.1085\n",
      "Epoch 71 / 100, Loss: 50.0000, Validation Loss: 46.5570, Accuracy: 53.3623\n",
      "Epoch 72 / 100, Loss: 50.0000, Validation Loss: 46.4663, Accuracy: 53.4552\n",
      "Epoch 73 / 100, Loss: 45.8333, Validation Loss: 46.2372, Accuracy: 53.6257\n",
      "Epoch 74 / 100, Loss: 58.3333, Validation Loss: 46.1038, Accuracy: 53.7806\n",
      "Epoch 75 / 100, Loss: 62.5000, Validation Loss: 45.8116, Accuracy: 54.0595\n",
      "Epoch 76 / 100, Loss: 54.1667, Validation Loss: 46.0958, Accuracy: 53.7961\n",
      "Epoch 77 / 100, Loss: 58.3333, Validation Loss: 46.5355, Accuracy: 53.3932\n",
      "Epoch 78 / 100, Loss: 50.0000, Validation Loss: 46.4885, Accuracy: 53.4552\n",
      "Epoch 79 / 100, Loss: 58.3333, Validation Loss: 49.0929, Accuracy: 50.6972\n",
      "Epoch 80 / 100, Loss: 41.6667, Validation Loss: 48.6494, Accuracy: 51.1621\n",
      "Epoch 81 / 100, Loss: 37.5000, Validation Loss: 43.7363, Accuracy: 56.0738\n",
      "Epoch 82 / 100, Loss: 54.1667, Validation Loss: 49.3774, Accuracy: 50.4493\n",
      "Epoch 83 / 100, Loss: 45.8333, Validation Loss: 50.4061, Accuracy: 49.5042\n",
      "Epoch 84 / 100, Loss: 54.1667, Validation Loss: 44.6931, Accuracy: 55.0821\n",
      "Epoch 85 / 100, Loss: 41.6667, Validation Loss: 50.4214, Accuracy: 49.5197\n",
      "Epoch 86 / 100, Loss: 41.6667, Validation Loss: 50.1250, Accuracy: 49.8141\n",
      "Epoch 87 / 100, Loss: 33.3333, Validation Loss: 46.3281, Accuracy: 53.6566\n",
      "Epoch 88 / 100, Loss: 50.0000, Validation Loss: 46.0407, Accuracy: 53.9046\n",
      "Epoch 89 / 100, Loss: 54.1667, Validation Loss: 46.5617, Accuracy: 53.3778\n",
      "Epoch 90 / 100, Loss: 50.0000, Validation Loss: 46.1064, Accuracy: 53.7961\n",
      "Epoch 91 / 100, Loss: 66.6667, Validation Loss: 46.2707, Accuracy: 53.6721\n",
      "Epoch 92 / 100, Loss: 50.0000, Validation Loss: 46.5351, Accuracy: 53.3932\n",
      "Epoch 93 / 100, Loss: 45.8333, Validation Loss: 48.6756, Accuracy: 51.1776\n",
      "Epoch 94 / 100, Loss: 41.6667, Validation Loss: 46.0388, Accuracy: 53.8116\n",
      "Epoch 95 / 100, Loss: 41.6667, Validation Loss: 46.3677, Accuracy: 53.5637\n",
      "Epoch 96 / 100, Loss: 37.5000, Validation Loss: 46.1528, Accuracy: 53.7341\n",
      "Epoch 97 / 100, Loss: 58.3333, Validation Loss: 45.0240, Accuracy: 54.8187\n",
      "Epoch 98 / 100, Loss: 37.5000, Validation Loss: 45.6218, Accuracy: 54.2299\n",
      "Epoch 99 / 100, Loss: 33.3333, Validation Loss: 46.2132, Accuracy: 53.6876\n",
      "Epoch 100 / 100, Loss: 45.8333, Validation Loss: 45.9617, Accuracy: 53.9200\n"
     ]
    }
   ],
   "source": [
    "torch.manual_seed(1)\n",
    "model = Classifier(input_dim=13).to(device)\n",
    "\n",
    "criterion = nn.BCELoss()\n",
    "optimizer = optim.Adam(model.parameters(), lr=0.001, weight_decay=1e-5)\n",
    "\n",
    "num_epochs = 100\n",
    "# scheduler = optim.lr_scheduler.StepLR(optimizer, step_size=5, gamma=0.5)\n",
    "\n",
    "train_loss, validation_loss = [], []\n",
    "\n",
    "for epoch in range(num_epochs):\n",
    "    model.train()\n",
    "    for inputs, labels in train_loader:\n",
    "        optimizer.zero_grad()\n",
    "        outputs = model(inputs)\n",
    "        loss = criterion(outputs, labels)\n",
    "        \n",
    "        loss.backward()\n",
    "        optimizer.step()\n",
    "    \n",
    "    model.eval()\n",
    "\n",
    "    val_loss = 0\n",
    "    correct = 0\n",
    "    total = 0\n",
    "    with torch.no_grad():\n",
    "        for inputs, labels in test_loader:\n",
    "            inputs = inputs.to(device)\n",
    "            labels = labels.to(device)\n",
    "\n",
    "            outputs = model(inputs)\n",
    "            prediction = (outputs > 0.5).float()\n",
    "            correct += (prediction == labels).sum().item()\n",
    "            total += labels.size(0)\n",
    "\n",
    "            val_loss += criterion(outputs, labels).item()\n",
    "    val_loss /= len(test_loader)\n",
    "\n",
    "    # scheduler.step()\n",
    "    \n",
    "    train_loss.append(loss.item())\n",
    "    validation_loss.append(val_loss)\n",
    "\n",
    "    print(f\"Epoch {epoch + 1} / {num_epochs}, Loss: {loss.item():.4f}, Validation Loss: {val_loss:.4f}, Accuracy: {float(correct) / float(total) * 100:.4f}\")"
   ]
  },
  {
   "cell_type": "code",
   "execution_count": 40,
   "metadata": {},
   "outputs": [],
   "source": [
    "import matplotlib.pyplot as plt"
   ]
  },
  {
   "cell_type": "code",
   "execution_count": 41,
   "metadata": {},
   "outputs": [
    {
     "data": {
      "text/plain": [
       "[<matplotlib.lines.Line2D at 0x14f12be9648>]"
      ]
     },
     "execution_count": 41,
     "metadata": {},
     "output_type": "execute_result"
    },
    {
     "data": {
      "image/png": "[encoded data removed]",
      "text/plain": [
       "<Figure size 640x480 with 1 Axes>"
      ]
     },
     "metadata": {},
     "output_type": "display_data"
    }
   ],
   "source": [
    "plt.plot(train_loss)\n",
    "plt.plot(validation_loss)"
   ]
  }
 ],
 "metadata": {
  "kernelspec": {
   "display_name": "cpar",
   "language": "python",
   "name": "python3"
  },
  "language_info": {
   "codemirror_mode": {
    "name": "ipython",
    "version": 3
   },
   "file_extension": ".py",
   "mimetype": "text/x-python",
   "name": "python",
   "nbconvert_exporter": "python",
   "pygments_lexer": "ipython3",
   "version": "3.9.18"
  }
 },
 "nbformat": 4,
 "nbformat_minor": 2
}

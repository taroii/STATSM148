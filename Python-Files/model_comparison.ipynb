{
 "cells": [
  {
   "cell_type": "code",
   "execution_count": 2,
   "metadata": {},
   "outputs": [],
   "source": [
    "import pandas as pd\n",
    "import numpy as np\n",
    "import matplotlib.pyplot as plt\n",
    "import random\n",
    "\n",
    "\n",
    "import torch\n",
    "import torch.nn as nn\n",
    "import torch.optim as optim\n",
    "from torch.utils.data import DataLoader, TensorDataset\n",
    "\n",
    "\n",
    "from sklearn.linear_model import LogisticRegression\n",
    "from sklearn.ensemble import GradientBoostingClassifier, AdaBoostClassifier, RandomForestClassifier\n",
    "from sklearn.naive_bayes import GaussianNB\n",
    "from sklearn.tree import DecisionTreeClassifier\n",
    "from sklearn.svm import SVC\n",
    "from sklearn.neural_network import MLPClassifier\n",
    "from xgboost import XGBClassifier\n",
    "from lightgbm import LGBMClassifier\n",
    "\n",
    "\n",
    "from sklearn.model_selection import train_test_split\n",
    "from sklearn.metrics import accuracy_score, f1_score\n",
    "from sklearn.model_selection import cross_val_score, StratifiedKFold\n",
    "\n",
    "import warnings\n",
    "warnings.filterwarnings('ignore')"
   ]
  },
  {
   "cell_type": "code",
   "execution_count": 3,
   "metadata": {},
   "outputs": [],
   "source": [
    "random.seed(2024)\n",
    "np.random.seed(2024)"
   ]
  },
  {
   "cell_type": "code",
   "execution_count": 4,
   "metadata": {},
   "outputs": [],
   "source": [
    "def preprocessing_steps(data):\n",
    "    df = data.copy()\n",
    "    df = df.drop(columns=['first_20_events', 'time_since_last_event', 'Unnamed: 1', 'downpayment_cleared', 'first_purchase',\n",
    "                          'max_milestone', 'downpayment_received', 'account_activitation', 'customer_id'])\n",
    "    \n",
    "    df = df.dropna(axis=0)\n",
    "    df_0, df_1 = df[df.order_ships == 0], df[df.order_ships == 1]\n",
    "    df_0 = df_0.sample(n=len(df_1), random_state=2024)\n",
    "    # df_1 = df_1.sample(n=(len(df_0)), replace=True)\n",
    "    df_balanced = pd.concat([df_0, df_1], axis=0).reset_index(drop=True)\n",
    "\n",
    "    # shuffle\n",
    "    df_balanced = df_balanced.sample(frac=1)\n",
    "\n",
    "    df_X = df_balanced.drop(columns='order_ships')\n",
    "    target = df_balanced.order_ships\n",
    "    ori_df = df.drop(columns='order_ships')\n",
    "    ori_target = df.order_ships\n",
    "\n",
    "    boolean_col = ['discover', 'one_more_journey', 'approved_credit', 'has_prospecting', 'has_pre_application']\n",
    "\n",
    "    for col in boolean_col:\n",
    "        df_X[col] = [1 if val == True else 0 for val in df_X[col]]\n",
    "        ori_df[col] = [1 if val == True else 0 for val in ori_df[col]]\n",
    "\n",
    "\n",
    "    return ori_df, ori_target, df_X, target\n",
    "\n",
    "\n",
    "def scaler(col):\n",
    "    return (col - np.min(col)) / (np.max(col) - np.min(col))"
   ]
  },
  {
   "cell_type": "code",
   "execution_count": 5,
   "metadata": {},
   "outputs": [],
   "source": [
    "class Embedding(nn.Module):\n",
    "    def __init__(self, embedding_dim, n_events=5):\n",
    "        super().__init__()\n",
    "        self.fc1 = nn.Linear(n_events, embedding_dim, bias=False)\n",
    "        self.relu = nn.ReLU()\n",
    "        self.fc2 = nn.Linear(embedding_dim, embedding_dim, bias=False)\n",
    "\n",
    "    def forward(self, x):\n",
    "        x = self.fc1(x)\n",
    "        x = self.relu(x)\n",
    "        x = self.fc2(x)\n",
    "        return x\n",
    "    \n",
    "\n",
    "def vec_to_list(event_list):\n",
    "    event_list = event_list.replace('[', '').replace(']', '').split()\n",
    "    event_list = [int(float(x)) for x in event_list]\n",
    "    return event_list\n",
    "\n",
    "\n",
    "def preprocessing_steps_embedding(data):\n",
    "    df = data.copy()\n",
    "    df = df.drop(columns=['Unnamed: 1', 'downpayment_cleared', 'first_purchase',\n",
    "                          'max_milestone', 'downpayment_received', 'account_activitation', 'customer_id'])\n",
    "    df = df.astype({col: 'float' for col in df.columns[:-2]})\n",
    "    \n",
    "    df = df.dropna(axis=0)\n",
    "\n",
    "\n",
    "    events = df['first_20_events'].apply(vec_to_list)\n",
    "    events = torch.tensor(events.to_list()).float()\n",
    "    events_emb = Embedding(5, 20)\n",
    "    events = events_emb(events)\n",
    "    event_pd = pd.DataFrame(events.detach().numpy(), columns=[f'event_id_{i}' for i in range(5)])\n",
    "\n",
    "    time = df['time_since_last_event'].apply(vec_to_list)\n",
    "    time = torch.tensor(time.to_list()).float()\n",
    "    time_emb = Embedding(5, 20)\n",
    "    time = time_emb(time)\n",
    "    time_pd = pd.DataFrame(time.detach().numpy(), columns=[f'time_{i}' for i in range(5)])\n",
    "    df = pd.concat([df, event_pd, time_pd], axis=1)\n",
    "    df = df.drop(columns=['first_20_events', 'time_since_last_event'])\n",
    "\n",
    "\n",
    "    df_0, df_1 = df[df.order_ships == 0], df[df.order_ships == 1]\n",
    "    df_0 = df_0.sample(n=len(df_1), random_state=2024)\n",
    "    # df_1 = df_1.sample(n=(len(df_0)), replace=True)\n",
    "    df_balanced = pd.concat([df_0, df_1], axis=0).reset_index(drop=True)\n",
    "\n",
    "    # shuffle\n",
    "    df_balanced = df_balanced.sample(frac=1)\n",
    "\n",
    "    df_X = df_balanced.drop(columns='order_ships')\n",
    "    target = df_balanced.order_ships\n",
    "    ori_df = df.drop(columns='order_ships')\n",
    "    ori_target = df.order_ships\n",
    "\n",
    "    boolean_col = ['discover', 'one_more_journey', 'approved_credit', 'has_prospecting', 'has_pre_application']\n",
    "\n",
    "    for col in boolean_col:\n",
    "        df_X[col] = [1 if val == True else 0 for val in df_X[col]]\n",
    "        ori_df[col] = [1 if val == True else 0 for val in ori_df[col]]\n",
    "\n",
    "\n",
    "    return ori_df, ori_target, df_X, target"
   ]
  },
  {
   "cell_type": "code",
   "execution_count": 6,
   "metadata": {},
   "outputs": [],
   "source": [
    "# Read in preprocessed original dataset\n",
    "data = pd.read_csv('export_n_20.csv')\n",
    "\n",
    "# Preprocess\n",
    "ori_data, ori_target, df, target = preprocessing_steps_embedding(data)"
   ]
  },
  {
   "cell_type": "code",
   "execution_count": 7,
   "metadata": {},
   "outputs": [],
   "source": [
    "nan_index = df.index[df.isna().any(axis=1)].tolist()\n",
    "nan_index2 = ori_data.index[ori_data.isna().any(axis=1)].tolist()\n",
    "\n",
    "df = df.apply(scaler)\n",
    "df = df.drop(nan_index)\n",
    "target = target.drop(nan_index)\n",
    "# df = np.array(df)\n",
    "ori_df = ori_data.apply(scaler)\n",
    "ori_df = ori_df.drop(nan_index2)\n",
    "ori_target = ori_target.drop(nan_index2)\n",
    "# ori_df = np.array(ori_df)"
   ]
  },
  {
   "cell_type": "markdown",
   "metadata": {},
   "source": [
    "## Something"
   ]
  },
  {
   "cell_type": "code",
   "execution_count": 27,
   "metadata": {},
   "outputs": [],
   "source": [
    "X_train, X_test, y_train, y_test = train_test_split(df, target, test_size=.2, random_state=2024)\n",
    "y_train = y_train.astype(int)\n",
    "y_test = y_test.astype(int)"
   ]
  },
  {
   "cell_type": "code",
   "execution_count": 28,
   "metadata": {},
   "outputs": [
    {
     "data": {
      "text/plain": [
       "0.8113559185624829"
      ]
     },
     "execution_count": 28,
     "metadata": {},
     "output_type": "execute_result"
    }
   ],
   "source": [
    "test = LGBMClassifier(n_estimators=200,\n",
    "                      max_depth=10,\n",
    "                      learning_rate=0.1,\n",
    "                      objective='binary',\n",
    "                      verbose=-1,\n",
    "                      random_state=2024).fit(X_train, y_train.astype(int))\n",
    "pred = test.predict(ori_df)\n",
    "accuracy_score(ori_target, pred)"
   ]
  },
  {
   "cell_type": "code",
   "execution_count": 29,
   "metadata": {},
   "outputs": [
    {
     "data": {
      "text/plain": [
       "0.5012821673152925"
      ]
     },
     "execution_count": 29,
     "metadata": {},
     "output_type": "execute_result"
    }
   ],
   "source": [
    "f1_score(ori_target, pred)"
   ]
  },
  {
   "cell_type": "markdown",
   "metadata": {},
   "source": [
    "## Naive models"
   ]
  },
  {
   "cell_type": "code",
   "execution_count": 58,
   "metadata": {},
   "outputs": [],
   "source": [
    "# train on balanced data, test on all data\n",
    "# Benchmark\n",
    "log_clf = LogisticRegression(random_state=2024).fit(df, target)\n",
    "log_pred = log_clf.predict(ori_df)"
   ]
  },
  {
   "cell_type": "code",
   "execution_count": 206,
   "metadata": {},
   "outputs": [],
   "source": [
    "# Kernel based\n",
    "svc_clf = SVC(random_state=2024).fit(df, target)\n",
    "svc_pred = svc_clf.predict(ori_data)\n",
    "print(accuracy_score(ori_target, svc_pred))"
   ]
  },
  {
   "cell_type": "code",
   "execution_count": 31,
   "metadata": {},
   "outputs": [
    {
     "name": "stdout",
     "output_type": "stream",
     "text": [
      "0.6758553545924221\n",
      "0.5208558798905868\n"
     ]
    }
   ],
   "source": [
    "# Tree based method\n",
    "dt = DecisionTreeClassifier(max_depth=5, random_state=2024).fit(df, target)\n",
    "dt_pred = dt.predict(ori_df)\n",
    "print(accuracy_score(ori_target, dt_pred))\n",
    "print(f1_score(ori_target, dt_pred))"
   ]
  },
  {
   "cell_type": "code",
   "execution_count": 32,
   "metadata": {},
   "outputs": [
    {
     "name": "stdout",
     "output_type": "stream",
     "text": [
      "0.8206665297282493\n",
      "0.5256797007172302\n"
     ]
    }
   ],
   "source": [
    "# Ensemble methods\n",
    "xgb_clf = XGBClassifier(n_estimators=200,\n",
    "                        max_depth=10,\n",
    "                        learning_rate=0.1,\n",
    "                        tree_method='hist',\n",
    "                        objective='binary:logistic').fit(df, target)\n",
    "xgb_pred = xgb_clf.predict(ori_df)\n",
    "print(accuracy_score(ori_target, xgb_pred))\n",
    "print(f1_score(ori_target, xgb_pred))"
   ]
  },
  {
   "cell_type": "code",
   "execution_count": 33,
   "metadata": {},
   "outputs": [
    {
     "name": "stdout",
     "output_type": "stream",
     "text": [
      "0.7038556572983973\n",
      "0.529450667114559\n"
     ]
    }
   ],
   "source": [
    "ada_clf = AdaBoostClassifier(n_estimators=200,\n",
    "                             learning_rate=0.1,\n",
    "                             random_state=2024).fit(df, target)\n",
    "\n",
    "ada_pred = ada_clf.predict(ori_df)\n",
    "print(accuracy_score(ori_target, ada_pred))\n",
    "print(f1_score(ori_target, ada_pred))"
   ]
  },
  {
   "cell_type": "code",
   "execution_count": 34,
   "metadata": {},
   "outputs": [
    {
     "name": "stdout",
     "output_type": "stream",
     "text": [
      "0.802714383699043\n",
      "0.5944392931267154\n"
     ]
    }
   ],
   "source": [
    "gb_clf = GradientBoostingClassifier(n_estimators=200,\n",
    "                                    learning_rate=0.1,\n",
    "                                    max_depth=10,\n",
    "                                    tol=1e-5,\n",
    "                                    random_state=2024).fit(df, target)\n",
    "gb_pred = gb_clf.predict(ori_df)\n",
    "print(accuracy_score(ori_target, gb_pred))\n",
    "print(f1_score(ori_target, gb_pred))"
   ]
  },
  {
   "cell_type": "code",
   "execution_count": 35,
   "metadata": {},
   "outputs": [
    {
     "name": "stdout",
     "output_type": "stream",
     "text": [
      "0.8085901228962235\n",
      "0.5013284597065184\n"
     ]
    }
   ],
   "source": [
    "lgbm_clf = LGBMClassifier(n_estimators=200,\n",
    "                          max_depth=10,\n",
    "                          learning_rate=0.1,\n",
    "                          objective='binary',\n",
    "                          verbose=-1,\n",
    "                          random_state=2024).fit(df, target)\n",
    "lgbm_pred = lgbm_clf.predict(ori_df)\n",
    "print(accuracy_score(ori_target, lgbm_pred))\n",
    "print(f1_score(ori_target, lgbm_pred))"
   ]
  },
  {
   "cell_type": "code",
   "execution_count": 36,
   "metadata": {},
   "outputs": [
    {
     "name": "stdout",
     "output_type": "stream",
     "text": [
      "0.7748534218387947\n",
      "0.35753471847315843\n"
     ]
    }
   ],
   "source": [
    "# Naive bayes\n",
    "nb_clf = GaussianNB().fit(df, target)\n",
    "nb_pred = nb_clf.predict(ori_df)\n",
    "print(accuracy_score(ori_target, nb_pred))\n",
    "print(f1_score(ori_target, nb_pred))"
   ]
  },
  {
   "cell_type": "code",
   "execution_count": 37,
   "metadata": {},
   "outputs": [
    {
     "name": "stdout",
     "output_type": "stream",
     "text": [
      "0.6831773556711124\n",
      "0.5266220363623311\n"
     ]
    }
   ],
   "source": [
    "# sklearn nn\n",
    "nn_clf = MLPClassifier(hidden_layer_sizes=(50, 25, 2), \n",
    "                       solver='adam', \n",
    "                       activation='relu',\n",
    "                       learning_rate_init=0.01,\n",
    "                       max_iter=400,\n",
    "                       batch_size=32,\n",
    "                       random_state=2024).fit(df, target)\n",
    "nn_pred = nn_clf.predict(ori_df)\n",
    "print(accuracy_score(ori_target, nn_pred))\n",
    "print(f1_score(ori_target, nn_pred))"
   ]
  },
  {
   "cell_type": "code",
   "execution_count": 38,
   "metadata": {},
   "outputs": [],
   "source": [
    "accuracy_res, f1_res = [], []\n",
    "prediction_list = [log_pred, dt_pred, xgb_pred, ada_pred, gb_pred, lgbm_pred, nb_pred, nn_pred]\n",
    "\n",
    "for pred in prediction_list:\n",
    "    accuracy_res.append(accuracy_score(ori_target, pred))\n",
    "    f1_res.append(f1_score(ori_target, pred))"
   ]
  },
  {
   "cell_type": "code",
   "execution_count": 39,
   "metadata": {},
   "outputs": [
    {
     "name": "stdout",
     "output_type": "stream",
     "text": [
      "[0.7168726148390794, 0.6758553545924221, 0.8206665297282493, 0.7038556572983973, 0.802714383699043, 0.8085901228962235, 0.7748534218387947, 0.6831773556711124]\n"
     ]
    }
   ],
   "source": [
    "print(accuracy_res)"
   ]
  },
  {
   "cell_type": "code",
   "execution_count": 40,
   "metadata": {},
   "outputs": [
    {
     "name": "stdout",
     "output_type": "stream",
     "text": [
      "[0.49025828678202305, 0.5208558798905868, 0.5256797007172302, 0.529450667114559, 0.5944392931267154, 0.5013284597065184, 0.35753471847315843, 0.5266220363623311]\n"
     ]
    }
   ],
   "source": [
    "print(f1_res)"
   ]
  },
  {
   "cell_type": "code",
   "execution_count": 18,
   "metadata": {},
   "outputs": [
    {
     "name": "stdout",
     "output_type": "stream",
     "text": [
      "[0.7079995674610565, 0.675852311980728, 0.8170282171585795, 0.703853801837089, 0.7750358947248271, 0.803010350897218, 0.7747439309379487, 0.807431259349149]\n"
     ]
    }
   ],
   "source": [
    "print(accuracy_res)"
   ]
  },
  {
   "cell_type": "code",
   "execution_count": 19,
   "metadata": {},
   "outputs": [
    {
     "name": "stdout",
     "output_type": "stream",
     "text": [
      "[0.48382920926399675, 0.5208535910694576, 0.5335052849071139, 0.529451181330849, 0.5562090767416642, 0.4900540105097329, 0.35769945612607595, 0.0]\n"
     ]
    }
   ],
   "source": [
    "print(f1_res)"
   ]
  },
  {
   "cell_type": "code",
   "execution_count": 41,
   "metadata": {},
   "outputs": [
    {
     "data": {
      "image/png": "[encoded data removed]",
      "text/plain": [
       "<Figure size 640x480 with 1 Axes>"
      ]
     },
     "metadata": {},
     "output_type": "display_data"
    }
   ],
   "source": [
    "classifiers = ['Log Regression', 'Decision Tree', 'XGBoost', 'AdaBoost', 'Gradient Boosting', 'LGBM', 'Naive Bayes', 'Neural Network']\n",
    "plt.bar(classifiers, accuracy_res)\n",
    "plt.xticks(rotation=45)\n",
    "plt.xlabel('Different Classifiers')\n",
    "plt.ylabel('Accuracy Score')\n",
    "plt.title('Accuracy Scores of All Classifiers')\n",
    "plt.show()"
   ]
  },
  {
   "cell_type": "code",
   "execution_count": 42,
   "metadata": {},
   "outputs": [
    {
     "data": {
      "image/png": "[encoded data removed]",
      "text/plain": [
       "<Figure size 640x480 with 1 Axes>"
      ]
     },
     "metadata": {},
     "output_type": "display_data"
    }
   ],
   "source": [
    "classifiers = ['Log Regression', 'Decision Tree', 'XGBoost', 'AdaBoost', 'Gradient Boosting', 'LGBM', 'Naive Bayes', 'Neural Network']\n",
    "plt.bar(classifiers, f1_res)\n",
    "plt.xticks(rotation=45)\n",
    "plt.xlabel('Different Classifiers')\n",
    "plt.ylabel('F1 Score')\n",
    "plt.title('F1 Scores of All Classifiers')\n",
    "plt.show()"
   ]
  },
  {
   "cell_type": "code",
   "execution_count": 54,
   "metadata": {},
   "outputs": [
    {
     "data": {
      "text/plain": [
       "[array([ True,  True, False, ..., False, False, False]),\n",
       " array([ True,  True,  True, ..., False, False,  True])]"
      ]
     },
     "execution_count": 54,
     "metadata": {},
     "output_type": "execute_result"
    }
   ],
   "source": [
    "prediction_list"
   ]
  },
  {
   "cell_type": "markdown",
   "metadata": {},
   "source": [
    "## Later"
   ]
  },
  {
   "cell_type": "code",
   "execution_count": null,
   "metadata": {},
   "outputs": [],
   "source": [
    "def cross_val(clf, ori_data, ori_target):\n",
    "    cv = StratifiedKFold(n_splits=5, shuffle=True, random_state=2024)\n",
    "    scores = cross_val_score(estimator=clf, X=ori_data, y=ori_target, cv=cv, scoring='f1')\n",
    "    return scores.mean(), scores.std()\n",
    "\n",
    "cross_val_mean, cross_val_std = [], []\n",
    "\n",
    "cv_mean, cv_std = cross_val(log_clf, ori_data, ori_target)\n",
    "cross_val_mean.append(cv_mean)\n",
    "cross_val_std.append(cv_std)"
   ]
  },
  {
   "cell_type": "code",
   "execution_count": 65,
   "metadata": {},
   "outputs": [
    {
     "data": {
      "text/plain": [
       "[0.4902600878241095]"
      ]
     },
     "execution_count": 65,
     "metadata": {},
     "output_type": "execute_result"
    }
   ],
   "source": [
    "f1_res"
   ]
  },
  {
   "cell_type": "markdown",
   "metadata": {},
   "source": [
    "## Dimension Reduction"
   ]
  },
  {
   "cell_type": "code",
   "execution_count": 8,
   "metadata": {},
   "outputs": [
    {
     "data": {
      "text/plain": [
       "0.7323922262220652"
      ]
     },
     "execution_count": 8,
     "metadata": {},
     "output_type": "execute_result"
    }
   ],
   "source": [
    "from sklearn.decomposition import PCA \n",
    "\n",
    "# 6 components allow for around 71.50681% variance explained\n",
    "\n",
    "pca = PCA(n_components=6, random_state=2024)\n",
    "ori_df_reduced = pca.fit_transform(np.array(ori_df))\n",
    "sum(pca.explained_variance_)"
   ]
  },
  {
   "cell_type": "markdown",
   "metadata": {},
   "source": [
    "## Smote"
   ]
  },
  {
   "cell_type": "code",
   "execution_count": 9,
   "metadata": {},
   "outputs": [],
   "source": [
    "from imblearn.over_sampling import SMOTE\n",
    "from sklearn.metrics import confusion_matrix, classification_report"
   ]
  },
  {
   "cell_type": "code",
   "execution_count": 10,
   "metadata": {},
   "outputs": [],
   "source": [
    "sm = SMOTE(random_state=2024)\n",
    "ori_reduced_new, ori_target_new = sm.fit_resample(ori_df_reduced, ori_target)"
   ]
  },
  {
   "cell_type": "code",
   "execution_count": 11,
   "metadata": {},
   "outputs": [],
   "source": [
    "X_train, X_test, y_train, y_test = train_test_split(ori_reduced_new, ori_target_new, test_size=.2, random_state=2024)"
   ]
  },
  {
   "cell_type": "markdown",
   "metadata": {},
   "source": [
    "## Hyper parameter tuning"
   ]
  },
  {
   "cell_type": "code",
   "execution_count": 15,
   "metadata": {},
   "outputs": [
    {
     "data": {
      "text/plain": [
       "(1664590, 6)"
      ]
     },
     "execution_count": 15,
     "metadata": {},
     "output_type": "execute_result"
    }
   ],
   "source": [
    "ori_df_reduced.shape"
   ]
  },
  {
   "cell_type": "code",
   "execution_count": 16,
   "metadata": {},
   "outputs": [
    {
     "name": "stderr",
     "output_type": "stream",
     "text": [
      "[I 2024-03-16 19:04:20,921] A new study created in memory with name: no-name-cc4da356-a3c6-4c26-b05b-b33981a10ff7\n",
      "[I 2024-03-16 19:04:50,575] Trial 0 finished with value: 0.4193352200644091 and parameters: {'booster': 'gbtree', 'lambda': 0.0012315501433248597, 'alpha': 0.000348933245845045, 'max_depth': 3, 'eta': 0.00036936998926738126, 'gamma': 0.13115013421410948, 'grow_policy': 'depthwise'}. Best is trial 0 with value: 0.4193352200644091.\n",
      "[I 2024-03-16 19:06:10,723] Trial 1 finished with value: 0.4544287224255182 and parameters: {'booster': 'gbtree', 'lambda': 1.6829173449625458e-06, 'alpha': 1.0452501758442045e-07, 'max_depth': 8, 'eta': 3.236073528309192e-08, 'gamma': 2.355998859329853e-07, 'grow_policy': 'depthwise'}. Best is trial 1 with value: 0.4544287224255182.\n",
      "[I 2024-03-16 19:06:59,245] Trial 2 finished with value: 0.3809149884294586 and parameters: {'booster': 'dart', 'lambda': 1.7070390682205456e-05, 'alpha': 6.300264884071532e-07, 'max_depth': 1, 'eta': 3.413990815241385e-08, 'gamma': 0.00038589454588636304, 'grow_policy': 'lossguide', 'sample_type': 'weighted', 'normalize_type': 'tree', 'rate_drop': 1.2561410656081474e-05, 'skip_drop': 0.0001805520811653182}. Best is trial 1 with value: 0.4544287224255182.\n",
      "[I 2024-03-16 19:07:03,953] Trial 3 finished with value: 0.37590067846728337 and parameters: {'booster': 'gblinear', 'lambda': 1.7227720610084646e-06, 'alpha': 0.00982871025194043}. Best is trial 1 with value: 0.4544287224255182.\n",
      "[I 2024-03-16 19:08:15,958] Trial 4 finished with value: 0.4193352200644091 and parameters: {'booster': 'dart', 'lambda': 3.726449139132929e-08, 'alpha': 3.437671647315051e-07, 'max_depth': 3, 'eta': 7.162179304684717e-05, 'gamma': 4.3944979023008774e-08, 'grow_policy': 'lossguide', 'sample_type': 'uniform', 'normalize_type': 'tree', 'rate_drop': 6.161188805311194e-07, 'skip_drop': 6.536774320333399e-08}. Best is trial 1 with value: 0.4544287224255182.\n",
      "[I 2024-03-16 19:09:45,305] Trial 5 finished with value: 0.4584341166548903 and parameters: {'booster': 'gbtree', 'lambda': 0.0001499852069804158, 'alpha': 0.0209063963274934, 'max_depth': 9, 'eta': 2.6793248910031027e-07, 'gamma': 5.3153395816232e-08, 'grow_policy': 'depthwise'}. Best is trial 5 with value: 0.4584341166548903.\n",
      "[I 2024-03-16 19:09:50,283] Trial 6 finished with value: 0.3817271325672713 and parameters: {'booster': 'gblinear', 'lambda': 8.392304475432748e-07, 'alpha': 0.00012497911534511077}. Best is trial 5 with value: 0.4584341166548903.\n",
      "[I 2024-03-16 19:12:17,752] Trial 7 finished with value: 0.4592186650444932 and parameters: {'booster': 'dart', 'lambda': 4.1664187079857246e-07, 'alpha': 0.00020439750324573693, 'max_depth': 9, 'eta': 0.0011702994424584749, 'gamma': 1.9892558720802583e-05, 'grow_policy': 'lossguide', 'sample_type': 'weighted', 'normalize_type': 'tree', 'rate_drop': 0.04184731648216699, 'skip_drop': 0.018274891832091984}. Best is trial 7 with value: 0.4592186650444932.\n",
      "[I 2024-03-16 19:13:16,998] Trial 8 finished with value: 0.44506059527680275 and parameters: {'booster': 'gbtree', 'lambda': 0.0007239679503204449, 'alpha': 0.0001227619479212192, 'max_depth': 6, 'eta': 0.00029538466916700207, 'gamma': 0.05784767656302299, 'grow_policy': 'lossguide'}. Best is trial 7 with value: 0.4592186650444932.\n",
      "[I 2024-03-16 19:14:27,965] Trial 9 finished with value: 0.4193352200644091 and parameters: {'booster': 'dart', 'lambda': 0.00015735579993291843, 'alpha': 2.3414981079461192e-08, 'max_depth': 3, 'eta': 0.000504936130236433, 'gamma': 0.022618352235270003, 'grow_policy': 'lossguide', 'sample_type': 'weighted', 'normalize_type': 'forest', 'rate_drop': 5.403095106050378e-06, 'skip_drop': 0.02202202029924272}. Best is trial 7 with value: 0.4592186650444932.\n",
      "[I 2024-03-16 19:16:23,476] Trial 10 finished with value: 0.5250982381168935 and parameters: {'booster': 'dart', 'lambda': 0.8501362422053644, 'alpha': 4.292069597620559e-06, 'max_depth': 7, 'eta': 0.72226285658678, 'gamma': 2.0019123749215803e-05, 'grow_policy': 'lossguide', 'sample_type': 'weighted', 'normalize_type': 'tree', 'rate_drop': 0.6420569894451635, 'skip_drop': 0.9511176308109202}. Best is trial 10 with value: 0.5250982381168935.\n",
      "[I 2024-03-16 19:18:15,837] Trial 11 finished with value: 0.5098397841788118 and parameters: {'booster': 'dart', 'lambda': 0.8713482778220379, 'alpha': 3.423154302572319e-06, 'max_depth': 7, 'eta': 0.3143381508554687, 'gamma': 1.2299904550180944e-05, 'grow_policy': 'lossguide', 'sample_type': 'weighted', 'normalize_type': 'tree', 'rate_drop': 0.6077580920719886, 'skip_drop': 0.6353099799425453}. Best is trial 10 with value: 0.5250982381168935.\n",
      "[I 2024-03-16 19:19:58,539] Trial 12 finished with value: 0.51617470491345 and parameters: {'booster': 'dart', 'lambda': 0.6781475233611151, 'alpha': 4.780094064409232e-06, 'max_depth': 6, 'eta': 0.8114125759689681, 'gamma': 1.4217734773077541e-05, 'grow_policy': 'lossguide', 'sample_type': 'weighted', 'normalize_type': 'tree', 'rate_drop': 0.4378340605682698, 'skip_drop': 0.852848550394579}. Best is trial 10 with value: 0.5250982381168935.\n",
      "[I 2024-03-16 19:21:31,301] Trial 13 finished with value: 0.5078756606467449 and parameters: {'booster': 'dart', 'lambda': 0.9423458113045886, 'alpha': 4.727070741469132e-06, 'max_depth': 5, 'eta': 0.9396519721738462, 'gamma': 0.0013769439741233575, 'grow_policy': 'lossguide', 'sample_type': 'weighted', 'normalize_type': 'tree', 'rate_drop': 0.010139970343672509, 'skip_drop': 0.6718426079542216}. Best is trial 10 with value: 0.5250982381168935.\n",
      "[I 2024-03-16 19:23:06,207] Trial 14 finished with value: 0.4493475563549759 and parameters: {'booster': 'dart', 'lambda': 0.02100180005383601, 'alpha': 0.47787273781080736, 'max_depth': 5, 'eta': 0.028976348553006872, 'gamma': 1.946923809116136e-06, 'grow_policy': 'lossguide', 'sample_type': 'uniform', 'normalize_type': 'forest', 'rate_drop': 0.0015017113025585966, 'skip_drop': 0.0010934600698927228}. Best is trial 10 with value: 0.5250982381168935.\n",
      "[I 2024-03-16 19:24:46,671] Trial 15 finished with value: 0.4481613314127212 and parameters: {'booster': 'dart', 'lambda': 0.033641900365132885, 'alpha': 6.1692041778481844e-06, 'max_depth': 7, 'eta': 0.02832159805051785, 'gamma': 9.234421798174177e-05, 'grow_policy': 'lossguide', 'sample_type': 'weighted', 'normalize_type': 'tree', 'rate_drop': 0.9177577871366409, 'skip_drop': 9.031741325974596e-07}. Best is trial 10 with value: 0.5250982381168935.\n",
      "[I 2024-03-16 19:24:51,477] Trial 16 finished with value: 0.3282488217839064 and parameters: {'booster': 'gblinear', 'lambda': 0.07880897957366807, 'alpha': 1.1247293830742898e-05}. Best is trial 10 with value: 0.5250982381168935.\n",
      "[I 2024-03-16 19:26:39,541] Trial 17 finished with value: 0.4602954427405339 and parameters: {'booster': 'dart', 'lambda': 0.004475490784237066, 'alpha': 0.0021603113703364285, 'max_depth': 6, 'eta': 0.03535560738476359, 'gamma': 1.243453621024733e-06, 'grow_policy': 'depthwise', 'sample_type': 'weighted', 'normalize_type': 'tree', 'rate_drop': 0.0007142294667905632, 'skip_drop': 0.020603435710694593}. Best is trial 10 with value: 0.5250982381168935.\n",
      "[I 2024-03-16 19:28:39,823] Trial 18 finished with value: 0.44798371408874665 and parameters: {'booster': 'dart', 'lambda': 0.13390346844420267, 'alpha': 1.060987753561514e-08, 'max_depth': 7, 'eta': 1.785422532459627e-05, 'gamma': 0.003125313679688197, 'grow_policy': 'lossguide', 'sample_type': 'uniform', 'normalize_type': 'forest', 'rate_drop': 1.4956184948041908e-08, 'skip_drop': 0.791381260051791}. Best is trial 10 with value: 0.5250982381168935.\n",
      "[I 2024-03-16 19:28:44,354] Trial 19 finished with value: 0.328037820945382 and parameters: {'booster': 'gblinear', 'lambda': 0.2829955950580715, 'alpha': 2.718494783947469e-05}. Best is trial 10 with value: 0.5250982381168935.\n",
      "[I 2024-03-16 19:30:04,464] Trial 20 finished with value: 0.43183639267443386 and parameters: {'booster': 'dart', 'lambda': 0.008526062723888932, 'alpha': 7.916505199764641e-07, 'max_depth': 4, 'eta': 0.007887847890399001, 'gamma': 2.713253077977029e-05, 'grow_policy': 'lossguide', 'sample_type': 'weighted', 'normalize_type': 'tree', 'rate_drop': 0.05846455945801442, 'skip_drop': 8.981500344372873e-06}. Best is trial 10 with value: 0.5250982381168935.\n",
      "[I 2024-03-16 19:31:57,179] Trial 21 finished with value: 0.5223561434678253 and parameters: {'booster': 'dart', 'lambda': 0.6188213393418438, 'alpha': 1.7912887390942657e-06, 'max_depth': 7, 'eta': 0.8638842044800266, 'gamma': 4.2434706814326e-06, 'grow_policy': 'lossguide', 'sample_type': 'weighted', 'normalize_type': 'tree', 'rate_drop': 0.9972761007445666, 'skip_drop': 0.7988275256472717}. Best is trial 10 with value: 0.5250982381168935.\n",
      "[I 2024-03-16 19:33:33,431] Trial 22 finished with value: 0.4590752676542816 and parameters: {'booster': 'dart', 'lambda': 0.15508663444963544, 'alpha': 1.272336137110199e-07, 'max_depth': 6, 'eta': 0.2630010735196257, 'gamma': 1.162312607242962e-06, 'grow_policy': 'lossguide', 'sample_type': 'weighted', 'normalize_type': 'tree', 'rate_drop': 0.5122351450317773, 'skip_drop': 0.07057982859710127}. Best is trial 10 with value: 0.5250982381168935.\n",
      "[I 2024-03-16 19:35:52,039] Trial 23 finished with value: 0.518119437868936 and parameters: {'booster': 'dart', 'lambda': 0.8982306458719068, 'alpha': 2.6086816129774388e-05, 'max_depth': 8, 'eta': 0.9047516634628612, 'gamma': 5.621136335200253e-06, 'grow_policy': 'lossguide', 'sample_type': 'weighted', 'normalize_type': 'tree', 'rate_drop': 0.061738767540631456, 'skip_drop': 0.001525515560297416}. Best is trial 10 with value: 0.5250982381168935.\n",
      "[W 2024-03-16 19:36:54,064] Trial 24 failed with parameters: {'booster': 'dart', 'lambda': 0.04698413619676376, 'alpha': 3.4188054862371026e-05, 'max_depth': 8, 'eta': 0.11352083855753119, 'gamma': 2.7668284909673922e-06, 'grow_policy': 'lossguide', 'sample_type': 'weighted', 'normalize_type': 'tree', 'rate_drop': 0.038481792510795684, 'skip_drop': 0.0015550165868759495} because of the following error: KeyboardInterrupt().\n",
      "Traceback (most recent call last):\n",
      "  File \"c:\\Users\\Darren\\anaconda3\\envs\\cpar\\lib\\site-packages\\optuna\\study\\_optimize.py\", line 200, in _run_trial\n",
      "    value_or_values = func(trial)\n",
      "  File \"C:\\Users\\Darren\\AppData\\Local\\Temp\\ipykernel_57264\\2503349295.py\", line 25, in objective\n",
      "    clf.fit(X_train, y_train, eval_set=[(X_test, y_test)], early_stopping_rounds=50, verbose=False)\n",
      "  File \"c:\\Users\\Darren\\anaconda3\\envs\\cpar\\lib\\site-packages\\xgboost\\core.py\", line 575, in inner_f\n",
      "    return f(**kwargs)\n",
      "  File \"c:\\Users\\Darren\\anaconda3\\envs\\cpar\\lib\\site-packages\\xgboost\\sklearn.py\", line 1411, in fit\n",
      "    callbacks=callbacks,\n",
      "  File \"c:\\Users\\Darren\\anaconda3\\envs\\cpar\\lib\\site-packages\\xgboost\\core.py\", line 575, in inner_f\n",
      "    return f(**kwargs)\n",
      "  File \"c:\\Users\\Darren\\anaconda3\\envs\\cpar\\lib\\site-packages\\xgboost\\training.py\", line 181, in train\n",
      "    bst.update(dtrain, i, obj)\n",
      "  File \"c:\\Users\\Darren\\anaconda3\\envs\\cpar\\lib\\site-packages\\xgboost\\core.py\", line 1780, in update\n",
      "    dtrain.handle))\n",
      "KeyboardInterrupt\n",
      "[W 2024-03-16 19:36:54,065] Trial 24 failed with value None.\n"
     ]
    },
    {
     "ename": "KeyboardInterrupt",
     "evalue": "",
     "output_type": "error",
     "traceback": [
      "\u001b[1;31m---------------------------------------------------------------------------\u001b[0m",
      "\u001b[1;31mKeyboardInterrupt\u001b[0m                         Traceback (most recent call last)",
      "\u001b[1;32m~\\AppData\\Local\\Temp\\ipykernel_57264\\2503349295.py\u001b[0m in \u001b[0;36m<module>\u001b[1;34m\u001b[0m\n\u001b[0;32m     31\u001b[0m \u001b[1;33m\u001b[0m\u001b[0m\n\u001b[0;32m     32\u001b[0m \u001b[0mstudy\u001b[0m \u001b[1;33m=\u001b[0m \u001b[0moptuna\u001b[0m\u001b[1;33m.\u001b[0m\u001b[0mcreate_study\u001b[0m\u001b[1;33m(\u001b[0m\u001b[0mdirection\u001b[0m\u001b[1;33m=\u001b[0m\u001b[1;34m'maximize'\u001b[0m\u001b[1;33m)\u001b[0m\u001b[1;33m\u001b[0m\u001b[1;33m\u001b[0m\u001b[0m\n\u001b[1;32m---> 33\u001b[1;33m \u001b[0mstudy\u001b[0m\u001b[1;33m.\u001b[0m\u001b[0moptimize\u001b[0m\u001b[1;33m(\u001b[0m\u001b[0mobjective\u001b[0m\u001b[1;33m,\u001b[0m \u001b[0mn_trials\u001b[0m\u001b[1;33m=\u001b[0m\u001b[1;36m100\u001b[0m\u001b[1;33m)\u001b[0m\u001b[1;33m\u001b[0m\u001b[1;33m\u001b[0m\u001b[0m\n\u001b[0m",
      "\u001b[1;32mc:\\Users\\Darren\\anaconda3\\envs\\cpar\\lib\\site-packages\\optuna\\study\\study.py\u001b[0m in \u001b[0;36moptimize\u001b[1;34m(self, func, n_trials, timeout, n_jobs, catch, callbacks, gc_after_trial, show_progress_bar)\u001b[0m\n\u001b[0;32m    458\u001b[0m             \u001b[0mcallbacks\u001b[0m\u001b[1;33m=\u001b[0m\u001b[0mcallbacks\u001b[0m\u001b[1;33m,\u001b[0m\u001b[1;33m\u001b[0m\u001b[1;33m\u001b[0m\u001b[0m\n\u001b[0;32m    459\u001b[0m             \u001b[0mgc_after_trial\u001b[0m\u001b[1;33m=\u001b[0m\u001b[0mgc_after_trial\u001b[0m\u001b[1;33m,\u001b[0m\u001b[1;33m\u001b[0m\u001b[1;33m\u001b[0m\u001b[0m\n\u001b[1;32m--> 460\u001b[1;33m             \u001b[0mshow_progress_bar\u001b[0m\u001b[1;33m=\u001b[0m\u001b[0mshow_progress_bar\u001b[0m\u001b[1;33m,\u001b[0m\u001b[1;33m\u001b[0m\u001b[1;33m\u001b[0m\u001b[0m\n\u001b[0m\u001b[0;32m    461\u001b[0m         )\n\u001b[0;32m    462\u001b[0m \u001b[1;33m\u001b[0m\u001b[0m\n",
      "\u001b[1;32mc:\\Users\\Darren\\anaconda3\\envs\\cpar\\lib\\site-packages\\optuna\\study\\_optimize.py\u001b[0m in \u001b[0;36m_optimize\u001b[1;34m(study, func, n_trials, timeout, n_jobs, catch, callbacks, gc_after_trial, show_progress_bar)\u001b[0m\n\u001b[0;32m     74\u001b[0m                 \u001b[0mreseed_sampler_rng\u001b[0m\u001b[1;33m=\u001b[0m\u001b[1;32mFalse\u001b[0m\u001b[1;33m,\u001b[0m\u001b[1;33m\u001b[0m\u001b[1;33m\u001b[0m\u001b[0m\n\u001b[0;32m     75\u001b[0m                 \u001b[0mtime_start\u001b[0m\u001b[1;33m=\u001b[0m\u001b[1;32mNone\u001b[0m\u001b[1;33m,\u001b[0m\u001b[1;33m\u001b[0m\u001b[1;33m\u001b[0m\u001b[0m\n\u001b[1;32m---> 76\u001b[1;33m                 \u001b[0mprogress_bar\u001b[0m\u001b[1;33m=\u001b[0m\u001b[0mprogress_bar\u001b[0m\u001b[1;33m,\u001b[0m\u001b[1;33m\u001b[0m\u001b[1;33m\u001b[0m\u001b[0m\n\u001b[0m\u001b[0;32m     77\u001b[0m             )\n\u001b[0;32m     78\u001b[0m         \u001b[1;32melse\u001b[0m\u001b[1;33m:\u001b[0m\u001b[1;33m\u001b[0m\u001b[1;33m\u001b[0m\u001b[0m\n",
      "\u001b[1;32mc:\\Users\\Darren\\anaconda3\\envs\\cpar\\lib\\site-packages\\optuna\\study\\_optimize.py\u001b[0m in \u001b[0;36m_optimize_sequential\u001b[1;34m(study, func, n_trials, timeout, catch, callbacks, gc_after_trial, reseed_sampler_rng, time_start, progress_bar)\u001b[0m\n\u001b[0;32m    161\u001b[0m \u001b[1;33m\u001b[0m\u001b[0m\n\u001b[0;32m    162\u001b[0m         \u001b[1;32mtry\u001b[0m\u001b[1;33m:\u001b[0m\u001b[1;33m\u001b[0m\u001b[1;33m\u001b[0m\u001b[0m\n\u001b[1;32m--> 163\u001b[1;33m             \u001b[0mfrozen_trial\u001b[0m \u001b[1;33m=\u001b[0m \u001b[0m_run_trial\u001b[0m\u001b[1;33m(\u001b[0m\u001b[0mstudy\u001b[0m\u001b[1;33m,\u001b[0m \u001b[0mfunc\u001b[0m\u001b[1;33m,\u001b[0m \u001b[0mcatch\u001b[0m\u001b[1;33m)\u001b[0m\u001b[1;33m\u001b[0m\u001b[1;33m\u001b[0m\u001b[0m\n\u001b[0m\u001b[0;32m    164\u001b[0m         \u001b[1;32mfinally\u001b[0m\u001b[1;33m:\u001b[0m\u001b[1;33m\u001b[0m\u001b[1;33m\u001b[0m\u001b[0m\n\u001b[0;32m    165\u001b[0m             \u001b[1;31m# The following line mitigates memory problems that can be occurred in some\u001b[0m\u001b[1;33m\u001b[0m\u001b[1;33m\u001b[0m\u001b[1;33m\u001b[0m\u001b[0m\n",
      "\u001b[1;32mc:\\Users\\Darren\\anaconda3\\envs\\cpar\\lib\\site-packages\\optuna\\study\\_optimize.py\u001b[0m in \u001b[0;36m_run_trial\u001b[1;34m(study, func, catch)\u001b[0m\n\u001b[0;32m    249\u001b[0m         \u001b[1;32mand\u001b[0m \u001b[1;32mnot\u001b[0m \u001b[0misinstance\u001b[0m\u001b[1;33m(\u001b[0m\u001b[0mfunc_err\u001b[0m\u001b[1;33m,\u001b[0m \u001b[0mcatch\u001b[0m\u001b[1;33m)\u001b[0m\u001b[1;33m\u001b[0m\u001b[1;33m\u001b[0m\u001b[0m\n\u001b[0;32m    250\u001b[0m     ):\n\u001b[1;32m--> 251\u001b[1;33m         \u001b[1;32mraise\u001b[0m \u001b[0mfunc_err\u001b[0m\u001b[1;33m\u001b[0m\u001b[1;33m\u001b[0m\u001b[0m\n\u001b[0m\u001b[0;32m    252\u001b[0m     \u001b[1;32mreturn\u001b[0m \u001b[0mfrozen_trial\u001b[0m\u001b[1;33m\u001b[0m\u001b[1;33m\u001b[0m\u001b[0m\n\u001b[0;32m    253\u001b[0m \u001b[1;33m\u001b[0m\u001b[0m\n",
      "\u001b[1;32mc:\\Users\\Darren\\anaconda3\\envs\\cpar\\lib\\site-packages\\optuna\\study\\_optimize.py\u001b[0m in \u001b[0;36m_run_trial\u001b[1;34m(study, func, catch)\u001b[0m\n\u001b[0;32m    198\u001b[0m     \u001b[1;32mwith\u001b[0m \u001b[0mget_heartbeat_thread\u001b[0m\u001b[1;33m(\u001b[0m\u001b[0mtrial\u001b[0m\u001b[1;33m.\u001b[0m\u001b[0m_trial_id\u001b[0m\u001b[1;33m,\u001b[0m \u001b[0mstudy\u001b[0m\u001b[1;33m.\u001b[0m\u001b[0m_storage\u001b[0m\u001b[1;33m)\u001b[0m\u001b[1;33m:\u001b[0m\u001b[1;33m\u001b[0m\u001b[1;33m\u001b[0m\u001b[0m\n\u001b[0;32m    199\u001b[0m         \u001b[1;32mtry\u001b[0m\u001b[1;33m:\u001b[0m\u001b[1;33m\u001b[0m\u001b[1;33m\u001b[0m\u001b[0m\n\u001b[1;32m--> 200\u001b[1;33m             \u001b[0mvalue_or_values\u001b[0m \u001b[1;33m=\u001b[0m \u001b[0mfunc\u001b[0m\u001b[1;33m(\u001b[0m\u001b[0mtrial\u001b[0m\u001b[1;33m)\u001b[0m\u001b[1;33m\u001b[0m\u001b[1;33m\u001b[0m\u001b[0m\n\u001b[0m\u001b[0;32m    201\u001b[0m         \u001b[1;32mexcept\u001b[0m \u001b[0mexceptions\u001b[0m\u001b[1;33m.\u001b[0m\u001b[0mTrialPruned\u001b[0m \u001b[1;32mas\u001b[0m \u001b[0me\u001b[0m\u001b[1;33m:\u001b[0m\u001b[1;33m\u001b[0m\u001b[1;33m\u001b[0m\u001b[0m\n\u001b[0;32m    202\u001b[0m             \u001b[1;31m# TODO(mamu): Handle multi-objective cases.\u001b[0m\u001b[1;33m\u001b[0m\u001b[1;33m\u001b[0m\u001b[1;33m\u001b[0m\u001b[0m\n",
      "\u001b[1;32m~\\AppData\\Local\\Temp\\ipykernel_57264\\2503349295.py\u001b[0m in \u001b[0;36mobjective\u001b[1;34m(trial)\u001b[0m\n\u001b[0;32m     23\u001b[0m \u001b[1;33m\u001b[0m\u001b[0m\n\u001b[0;32m     24\u001b[0m     \u001b[0mclf\u001b[0m \u001b[1;33m=\u001b[0m \u001b[0mXGBClassifier\u001b[0m\u001b[1;33m(\u001b[0m\u001b[1;33m**\u001b[0m\u001b[0mparam\u001b[0m\u001b[1;33m)\u001b[0m\u001b[1;33m\u001b[0m\u001b[1;33m\u001b[0m\u001b[0m\n\u001b[1;32m---> 25\u001b[1;33m     \u001b[0mclf\u001b[0m\u001b[1;33m.\u001b[0m\u001b[0mfit\u001b[0m\u001b[1;33m(\u001b[0m\u001b[0mX_train\u001b[0m\u001b[1;33m,\u001b[0m \u001b[0my_train\u001b[0m\u001b[1;33m,\u001b[0m \u001b[0meval_set\u001b[0m\u001b[1;33m=\u001b[0m\u001b[1;33m[\u001b[0m\u001b[1;33m(\u001b[0m\u001b[0mX_test\u001b[0m\u001b[1;33m,\u001b[0m \u001b[0my_test\u001b[0m\u001b[1;33m)\u001b[0m\u001b[1;33m]\u001b[0m\u001b[1;33m,\u001b[0m \u001b[0mearly_stopping_rounds\u001b[0m\u001b[1;33m=\u001b[0m\u001b[1;36m50\u001b[0m\u001b[1;33m,\u001b[0m \u001b[0mverbose\u001b[0m\u001b[1;33m=\u001b[0m\u001b[1;32mFalse\u001b[0m\u001b[1;33m)\u001b[0m\u001b[1;33m\u001b[0m\u001b[1;33m\u001b[0m\u001b[0m\n\u001b[0m\u001b[0;32m     26\u001b[0m \u001b[1;33m\u001b[0m\u001b[0m\n\u001b[0;32m     27\u001b[0m     \u001b[0mpreds\u001b[0m \u001b[1;33m=\u001b[0m \u001b[0mclf\u001b[0m\u001b[1;33m.\u001b[0m\u001b[0mpredict\u001b[0m\u001b[1;33m(\u001b[0m\u001b[0mori_df_reduced\u001b[0m\u001b[1;33m)\u001b[0m\u001b[1;33m\u001b[0m\u001b[1;33m\u001b[0m\u001b[0m\n",
      "\u001b[1;32mc:\\Users\\Darren\\anaconda3\\envs\\cpar\\lib\\site-packages\\xgboost\\core.py\u001b[0m in \u001b[0;36minner_f\u001b[1;34m(*args, **kwargs)\u001b[0m\n\u001b[0;32m    573\u001b[0m         \u001b[1;32mfor\u001b[0m \u001b[0mk\u001b[0m\u001b[1;33m,\u001b[0m \u001b[0marg\u001b[0m \u001b[1;32min\u001b[0m \u001b[0mzip\u001b[0m\u001b[1;33m(\u001b[0m\u001b[0msig\u001b[0m\u001b[1;33m.\u001b[0m\u001b[0mparameters\u001b[0m\u001b[1;33m,\u001b[0m \u001b[0margs\u001b[0m\u001b[1;33m)\u001b[0m\u001b[1;33m:\u001b[0m\u001b[1;33m\u001b[0m\u001b[1;33m\u001b[0m\u001b[0m\n\u001b[0;32m    574\u001b[0m             \u001b[0mkwargs\u001b[0m\u001b[1;33m[\u001b[0m\u001b[0mk\u001b[0m\u001b[1;33m]\u001b[0m \u001b[1;33m=\u001b[0m \u001b[0marg\u001b[0m\u001b[1;33m\u001b[0m\u001b[1;33m\u001b[0m\u001b[0m\n\u001b[1;32m--> 575\u001b[1;33m         \u001b[1;32mreturn\u001b[0m \u001b[0mf\u001b[0m\u001b[1;33m(\u001b[0m\u001b[1;33m**\u001b[0m\u001b[0mkwargs\u001b[0m\u001b[1;33m)\u001b[0m\u001b[1;33m\u001b[0m\u001b[1;33m\u001b[0m\u001b[0m\n\u001b[0m\u001b[0;32m    576\u001b[0m \u001b[1;33m\u001b[0m\u001b[0m\n\u001b[0;32m    577\u001b[0m     \u001b[1;32mreturn\u001b[0m \u001b[0minner_f\u001b[0m\u001b[1;33m\u001b[0m\u001b[1;33m\u001b[0m\u001b[0m\n",
      "\u001b[1;32mc:\\Users\\Darren\\anaconda3\\envs\\cpar\\lib\\site-packages\\xgboost\\sklearn.py\u001b[0m in \u001b[0;36mfit\u001b[1;34m(self, X, y, sample_weight, base_margin, eval_set, eval_metric, early_stopping_rounds, verbose, xgb_model, sample_weight_eval_set, base_margin_eval_set, feature_weights, callbacks)\u001b[0m\n\u001b[0;32m   1409\u001b[0m             \u001b[0mverbose_eval\u001b[0m\u001b[1;33m=\u001b[0m\u001b[0mverbose\u001b[0m\u001b[1;33m,\u001b[0m\u001b[1;33m\u001b[0m\u001b[1;33m\u001b[0m\u001b[0m\n\u001b[0;32m   1410\u001b[0m             \u001b[0mxgb_model\u001b[0m\u001b[1;33m=\u001b[0m\u001b[0mmodel\u001b[0m\u001b[1;33m,\u001b[0m\u001b[1;33m\u001b[0m\u001b[1;33m\u001b[0m\u001b[0m\n\u001b[1;32m-> 1411\u001b[1;33m             \u001b[0mcallbacks\u001b[0m\u001b[1;33m=\u001b[0m\u001b[0mcallbacks\u001b[0m\u001b[1;33m,\u001b[0m\u001b[1;33m\u001b[0m\u001b[1;33m\u001b[0m\u001b[0m\n\u001b[0m\u001b[0;32m   1412\u001b[0m         )\n\u001b[0;32m   1413\u001b[0m \u001b[1;33m\u001b[0m\u001b[0m\n",
      "\u001b[1;32mc:\\Users\\Darren\\anaconda3\\envs\\cpar\\lib\\site-packages\\xgboost\\core.py\u001b[0m in \u001b[0;36minner_f\u001b[1;34m(*args, **kwargs)\u001b[0m\n\u001b[0;32m    573\u001b[0m         \u001b[1;32mfor\u001b[0m \u001b[0mk\u001b[0m\u001b[1;33m,\u001b[0m \u001b[0marg\u001b[0m \u001b[1;32min\u001b[0m \u001b[0mzip\u001b[0m\u001b[1;33m(\u001b[0m\u001b[0msig\u001b[0m\u001b[1;33m.\u001b[0m\u001b[0mparameters\u001b[0m\u001b[1;33m,\u001b[0m \u001b[0margs\u001b[0m\u001b[1;33m)\u001b[0m\u001b[1;33m:\u001b[0m\u001b[1;33m\u001b[0m\u001b[1;33m\u001b[0m\u001b[0m\n\u001b[0;32m    574\u001b[0m             \u001b[0mkwargs\u001b[0m\u001b[1;33m[\u001b[0m\u001b[0mk\u001b[0m\u001b[1;33m]\u001b[0m \u001b[1;33m=\u001b[0m \u001b[0marg\u001b[0m\u001b[1;33m\u001b[0m\u001b[1;33m\u001b[0m\u001b[0m\n\u001b[1;32m--> 575\u001b[1;33m         \u001b[1;32mreturn\u001b[0m \u001b[0mf\u001b[0m\u001b[1;33m(\u001b[0m\u001b[1;33m**\u001b[0m\u001b[0mkwargs\u001b[0m\u001b[1;33m)\u001b[0m\u001b[1;33m\u001b[0m\u001b[1;33m\u001b[0m\u001b[0m\n\u001b[0m\u001b[0;32m    576\u001b[0m \u001b[1;33m\u001b[0m\u001b[0m\n\u001b[0;32m    577\u001b[0m     \u001b[1;32mreturn\u001b[0m \u001b[0minner_f\u001b[0m\u001b[1;33m\u001b[0m\u001b[1;33m\u001b[0m\u001b[0m\n",
      "\u001b[1;32mc:\\Users\\Darren\\anaconda3\\envs\\cpar\\lib\\site-packages\\xgboost\\training.py\u001b[0m in \u001b[0;36mtrain\u001b[1;34m(params, dtrain, num_boost_round, evals, obj, feval, maximize, early_stopping_rounds, evals_result, verbose_eval, xgb_model, callbacks, custom_metric)\u001b[0m\n\u001b[0;32m    179\u001b[0m         \u001b[1;32mif\u001b[0m \u001b[0mcb_container\u001b[0m\u001b[1;33m.\u001b[0m\u001b[0mbefore_iteration\u001b[0m\u001b[1;33m(\u001b[0m\u001b[0mbst\u001b[0m\u001b[1;33m,\u001b[0m \u001b[0mi\u001b[0m\u001b[1;33m,\u001b[0m \u001b[0mdtrain\u001b[0m\u001b[1;33m,\u001b[0m \u001b[0mevals\u001b[0m\u001b[1;33m)\u001b[0m\u001b[1;33m:\u001b[0m\u001b[1;33m\u001b[0m\u001b[1;33m\u001b[0m\u001b[0m\n\u001b[0;32m    180\u001b[0m             \u001b[1;32mbreak\u001b[0m\u001b[1;33m\u001b[0m\u001b[1;33m\u001b[0m\u001b[0m\n\u001b[1;32m--> 181\u001b[1;33m         \u001b[0mbst\u001b[0m\u001b[1;33m.\u001b[0m\u001b[0mupdate\u001b[0m\u001b[1;33m(\u001b[0m\u001b[0mdtrain\u001b[0m\u001b[1;33m,\u001b[0m \u001b[0mi\u001b[0m\u001b[1;33m,\u001b[0m \u001b[0mobj\u001b[0m\u001b[1;33m)\u001b[0m\u001b[1;33m\u001b[0m\u001b[1;33m\u001b[0m\u001b[0m\n\u001b[0m\u001b[0;32m    182\u001b[0m         \u001b[1;32mif\u001b[0m \u001b[0mcb_container\u001b[0m\u001b[1;33m.\u001b[0m\u001b[0mafter_iteration\u001b[0m\u001b[1;33m(\u001b[0m\u001b[0mbst\u001b[0m\u001b[1;33m,\u001b[0m \u001b[0mi\u001b[0m\u001b[1;33m,\u001b[0m \u001b[0mdtrain\u001b[0m\u001b[1;33m,\u001b[0m \u001b[0mevals\u001b[0m\u001b[1;33m)\u001b[0m\u001b[1;33m:\u001b[0m\u001b[1;33m\u001b[0m\u001b[1;33m\u001b[0m\u001b[0m\n\u001b[0;32m    183\u001b[0m             \u001b[1;32mbreak\u001b[0m\u001b[1;33m\u001b[0m\u001b[1;33m\u001b[0m\u001b[0m\n",
      "\u001b[1;32mc:\\Users\\Darren\\anaconda3\\envs\\cpar\\lib\\site-packages\\xgboost\\core.py\u001b[0m in \u001b[0;36mupdate\u001b[1;34m(self, dtrain, iteration, fobj)\u001b[0m\n\u001b[0;32m   1778\u001b[0m             _check_call(_LIB.XGBoosterUpdateOneIter(self.handle,\n\u001b[0;32m   1779\u001b[0m                                                     \u001b[0mctypes\u001b[0m\u001b[1;33m.\u001b[0m\u001b[0mc_int\u001b[0m\u001b[1;33m(\u001b[0m\u001b[0miteration\u001b[0m\u001b[1;33m)\u001b[0m\u001b[1;33m,\u001b[0m\u001b[1;33m\u001b[0m\u001b[1;33m\u001b[0m\u001b[0m\n\u001b[1;32m-> 1780\u001b[1;33m                                                     dtrain.handle))\n\u001b[0m\u001b[0;32m   1781\u001b[0m         \u001b[1;32melse\u001b[0m\u001b[1;33m:\u001b[0m\u001b[1;33m\u001b[0m\u001b[1;33m\u001b[0m\u001b[0m\n\u001b[0;32m   1782\u001b[0m             \u001b[0mpred\u001b[0m \u001b[1;33m=\u001b[0m \u001b[0mself\u001b[0m\u001b[1;33m.\u001b[0m\u001b[0mpredict\u001b[0m\u001b[1;33m(\u001b[0m\u001b[0mdtrain\u001b[0m\u001b[1;33m,\u001b[0m \u001b[0moutput_margin\u001b[0m\u001b[1;33m=\u001b[0m\u001b[1;32mTrue\u001b[0m\u001b[1;33m,\u001b[0m \u001b[0mtraining\u001b[0m\u001b[1;33m=\u001b[0m\u001b[1;32mTrue\u001b[0m\u001b[1;33m)\u001b[0m\u001b[1;33m\u001b[0m\u001b[1;33m\u001b[0m\u001b[0m\n",
      "\u001b[1;31mKeyboardInterrupt\u001b[0m: "
     ]
    }
   ],
   "source": [
    "import optuna \n",
    "\n",
    "def objective(trial):\n",
    "    param = {\n",
    "        'verbosity': 0,\n",
    "        'objective': 'binary:logistic',\n",
    "        'eval_metric': 'logloss',\n",
    "        'booster': trial.suggest_categorical('booster', ['gbtree', 'gblinear', 'dart']),\n",
    "        'lambda': trial.suggest_float('lambda', 1e-8, 1.0, log=True),\n",
    "        'alpha': trial.suggest_float('alpha', 1e-8, 1.0, log=True),\n",
    "    }\n",
    "\n",
    "    if param['booster'] in ['gbtree', 'dart']:\n",
    "        param['max_depth'] = trial.suggest_int('max_depth', 1, 9)\n",
    "        param['eta'] = trial.suggest_float('eta', 1e-8, 1.0, log=True)\n",
    "        param['gamma'] = trial.suggest_float('gamma', 1e-8, 1.0, log=True)\n",
    "        param['grow_policy'] = trial.suggest_categorical('grow_policy', ['depthwise', 'lossguide'])\n",
    "    if param['booster'] == 'dart':\n",
    "        param['sample_type'] = trial.suggest_categorical('sample_type', ['uniform', 'weighted'])\n",
    "        param['normalize_type'] = trial.suggest_categorical('normalize_type', ['tree', 'forest'])\n",
    "        param['rate_drop'] = trial.suggest_float('rate_drop', 1e-8, 1.0, log=True)\n",
    "        param['skip_drop'] = trial.suggest_float('skip_drop', 1e-8, 1.0, log=True)\n",
    "\n",
    "    clf = XGBClassifier(**param)\n",
    "    clf.fit(X_train, y_train, eval_set=[(X_test, y_test)], early_stopping_rounds=50, verbose=False)\n",
    "\n",
    "    preds = clf.predict(ori_df_reduced)\n",
    "    f1 = f1_score(ori_target, preds)\n",
    "    return f1\n",
    "\n",
    "\n",
    "study = optuna.create_study(direction='maximize')\n",
    "study.optimize(objective, n_trials=100)"
   ]
  },
  {
   "cell_type": "code",
   "execution_count": 115,
   "metadata": {},
   "outputs": [
    {
     "name": "stdout",
     "output_type": "stream",
     "text": [
      "0.7275010663286455\n",
      "0.5468545985468546\n"
     ]
    }
   ],
   "source": [
    "clf = XGBClassifier(n_estimators=300,\n",
    "                        max_depth=10,\n",
    "                        learning_rate=0.15,\n",
    "                        tree_method='hist',\n",
    "                        objective='binary:logistic').fit(X_train, y_train)\n",
    "pred = clf.predict(ori_df_reduced)\n",
    "print(accuracy_score(ori_target, pred))\n",
    "print(f1_score(ori_target, pred))"
   ]
  },
  {
   "cell_type": "code",
   "execution_count": 116,
   "metadata": {},
   "outputs": [
    {
     "name": "stdout",
     "output_type": "stream",
     "text": [
      "              precision    recall  f1-score   support\n",
      "\n",
      "         0.0       0.95      0.70      0.81   1344042\n",
      "         1.0       0.40      0.85      0.55    320548\n",
      "\n",
      "    accuracy                           0.73   1664590\n",
      "   macro avg       0.68      0.78      0.68   1664590\n",
      "weighted avg       0.85      0.73      0.76   1664590\n",
      "\n"
     ]
    }
   ],
   "source": [
    "print(classification_report(ori_target, pred))"
   ]
  },
  {
   "cell_type": "code",
   "execution_count": 117,
   "metadata": {},
   "outputs": [
    {
     "name": "stdout",
     "output_type": "stream",
     "text": [
      "[[937290 406752]\n",
      " [ 46847 273701]]\n"
     ]
    }
   ],
   "source": [
    "print(confusion_matrix(ori_target, pred))"
   ]
  },
  {
   "cell_type": "code",
   "execution_count": 118,
   "metadata": {},
   "outputs": [
    {
     "name": "stdout",
     "output_type": "stream",
     "text": [
      "0.33773828144541396\n",
      "0.0017469392730006942\n"
     ]
    }
   ],
   "source": [
    "def cross_val(clf, ori_data, ori_target):\n",
    "    cv = StratifiedKFold(n_splits=5, shuffle=True, random_state=2024)\n",
    "    scores = cross_val_score(estimator=clf, X=ori_data, y=ori_target, cv=cv, scoring='f1')\n",
    "    return scores.mean(), scores.std()\n",
    "\n",
    "cross_val_mean, cross_val_std = [], []\n",
    "\n",
    "cv_mean, cv_std = cross_val(clf, ori_df_reduced, ori_target)\n",
    "cross_val_mean.append(cv_mean)\n",
    "cross_val_std.append(cv_std)\n",
    "\n",
    "print(cv_mean)\n",
    "print(cv_std)"
   ]
  },
  {
   "cell_type": "markdown",
   "metadata": {},
   "source": [
    "## CTGAN"
   ]
  },
  {
   "cell_type": "code",
   "execution_count": 44,
   "metadata": {},
   "outputs": [
    {
     "data": {
      "text/html": [
       "<div>\n",
       "<style scoped>\n",
       "    .dataframe tbody tr th:only-of-type {\n",
       "        vertical-align: middle;\n",
       "    }\n",
       "\n",
       "    .dataframe tbody tr th {\n",
       "        vertical-align: top;\n",
       "    }\n",
       "\n",
       "    .dataframe thead th {\n",
       "        text-align: right;\n",
       "    }\n",
       "</style>\n",
       "<table border=\"1\" class=\"dataframe\">\n",
       "  <thead>\n",
       "    <tr style=\"text-align: right;\">\n",
       "      <th></th>\n",
       "      <th>0</th>\n",
       "      <th>1</th>\n",
       "      <th>2</th>\n",
       "      <th>3</th>\n",
       "      <th>4</th>\n",
       "      <th>5</th>\n",
       "      <th>order_ships</th>\n",
       "    </tr>\n",
       "  </thead>\n",
       "  <tbody>\n",
       "    <tr>\n",
       "      <th>0</th>\n",
       "      <td>0.035000</td>\n",
       "      <td>0.720775</td>\n",
       "      <td>-0.016941</td>\n",
       "      <td>-0.331843</td>\n",
       "      <td>0.978013</td>\n",
       "      <td>-0.108952</td>\n",
       "      <td>1.0</td>\n",
       "    </tr>\n",
       "    <tr>\n",
       "      <th>1</th>\n",
       "      <td>0.088248</td>\n",
       "      <td>0.715691</td>\n",
       "      <td>0.050129</td>\n",
       "      <td>-0.285914</td>\n",
       "      <td>-0.050441</td>\n",
       "      <td>0.099609</td>\n",
       "      <td>0.0</td>\n",
       "    </tr>\n",
       "    <tr>\n",
       "      <th>2</th>\n",
       "      <td>-0.561659</td>\n",
       "      <td>-0.010016</td>\n",
       "      <td>-0.160623</td>\n",
       "      <td>-0.220332</td>\n",
       "      <td>-0.091934</td>\n",
       "      <td>0.057130</td>\n",
       "      <td>0.0</td>\n",
       "    </tr>\n",
       "    <tr>\n",
       "      <th>3</th>\n",
       "      <td>-0.561656</td>\n",
       "      <td>-0.010058</td>\n",
       "      <td>-0.160685</td>\n",
       "      <td>-0.220100</td>\n",
       "      <td>-0.091833</td>\n",
       "      <td>-0.127968</td>\n",
       "      <td>0.0</td>\n",
       "    </tr>\n",
       "    <tr>\n",
       "      <th>4</th>\n",
       "      <td>0.151613</td>\n",
       "      <td>-0.584930</td>\n",
       "      <td>-0.190111</td>\n",
       "      <td>0.459869</td>\n",
       "      <td>-0.024480</td>\n",
       "      <td>-0.006625</td>\n",
       "      <td>0.0</td>\n",
       "    </tr>\n",
       "    <tr>\n",
       "      <th>...</th>\n",
       "      <td>...</td>\n",
       "      <td>...</td>\n",
       "      <td>...</td>\n",
       "      <td>...</td>\n",
       "      <td>...</td>\n",
       "      <td>...</td>\n",
       "      <td>...</td>\n",
       "    </tr>\n",
       "    <tr>\n",
       "      <th>1664585</th>\n",
       "      <td>0.826646</td>\n",
       "      <td>0.057099</td>\n",
       "      <td>0.070819</td>\n",
       "      <td>-0.150981</td>\n",
       "      <td>-0.001520</td>\n",
       "      <td>-0.124125</td>\n",
       "      <td>0.0</td>\n",
       "    </tr>\n",
       "    <tr>\n",
       "      <th>1664586</th>\n",
       "      <td>-0.589935</td>\n",
       "      <td>0.084985</td>\n",
       "      <td>-0.217389</td>\n",
       "      <td>0.397853</td>\n",
       "      <td>-0.069141</td>\n",
       "      <td>-0.131159</td>\n",
       "      <td>0.0</td>\n",
       "    </tr>\n",
       "    <tr>\n",
       "      <th>1664587</th>\n",
       "      <td>-0.561651</td>\n",
       "      <td>-0.009910</td>\n",
       "      <td>-0.160514</td>\n",
       "      <td>-0.220723</td>\n",
       "      <td>-0.091587</td>\n",
       "      <td>0.162520</td>\n",
       "      <td>0.0</td>\n",
       "    </tr>\n",
       "    <tr>\n",
       "      <th>1664588</th>\n",
       "      <td>-0.726434</td>\n",
       "      <td>-0.139215</td>\n",
       "      <td>0.810271</td>\n",
       "      <td>-0.121596</td>\n",
       "      <td>-0.031717</td>\n",
       "      <td>-0.128345</td>\n",
       "      <td>0.0</td>\n",
       "    </tr>\n",
       "    <tr>\n",
       "      <th>1664589</th>\n",
       "      <td>0.176502</td>\n",
       "      <td>-0.668450</td>\n",
       "      <td>-0.139996</td>\n",
       "      <td>-0.086303</td>\n",
       "      <td>-0.042358</td>\n",
       "      <td>-0.251791</td>\n",
       "      <td>0.0</td>\n",
       "    </tr>\n",
       "  </tbody>\n",
       "</table>\n",
       "<p>1664198 rows × 7 columns</p>\n",
       "</div>"
      ],
      "text/plain": [
       "                0         1         2         3         4         5  \\\n",
       "0        0.035000  0.720775 -0.016941 -0.331843  0.978013 -0.108952   \n",
       "1        0.088248  0.715691  0.050129 -0.285914 -0.050441  0.099609   \n",
       "2       -0.561659 -0.010016 -0.160623 -0.220332 -0.091934  0.057130   \n",
       "3       -0.561656 -0.010058 -0.160685 -0.220100 -0.091833 -0.127968   \n",
       "4        0.151613 -0.584930 -0.190111  0.459869 -0.024480 -0.006625   \n",
       "...           ...       ...       ...       ...       ...       ...   \n",
       "1664585  0.826646  0.057099  0.070819 -0.150981 -0.001520 -0.124125   \n",
       "1664586 -0.589935  0.084985 -0.217389  0.397853 -0.069141 -0.131159   \n",
       "1664587 -0.561651 -0.009910 -0.160514 -0.220723 -0.091587  0.162520   \n",
       "1664588 -0.726434 -0.139215  0.810271 -0.121596 -0.031717 -0.128345   \n",
       "1664589  0.176502 -0.668450 -0.139996 -0.086303 -0.042358 -0.251791   \n",
       "\n",
       "         order_ships  \n",
       "0                1.0  \n",
       "1                0.0  \n",
       "2                0.0  \n",
       "3                0.0  \n",
       "4                0.0  \n",
       "...              ...  \n",
       "1664585          0.0  \n",
       "1664586          0.0  \n",
       "1664587          0.0  \n",
       "1664588          0.0  \n",
       "1664589          0.0  \n",
       "\n",
       "[1664198 rows x 7 columns]"
      ]
     },
     "execution_count": 44,
     "metadata": {},
     "output_type": "execute_result"
    }
   ],
   "source": [
    "ori_reduced"
   ]
  },
  {
   "cell_type": "code",
   "execution_count": null,
   "metadata": {},
   "outputs": [],
   "source": [
    "from ctgan import CTGAN\n",
    "ori_reduced = pd.concat([pd.DataFrame(ori_df_reduced), ori_target], axis=1).dropna()\n",
    "label1 = ori_reduced[ori_reduced.order_ships == 1]\n",
    "label1.order_ships = [True if x == 1.0 else False for x in label1.order_ships]\n",
    "label1.columns = ['col1', 'col2', 'col3', 'col4', 'col5', 'col6', 'order_ships']\n",
    "label1 = label1.iloc[:1000, :]\n",
    "\n",
    "ctgan = CTGAN(epochs=10, cuda=True, verbose=True)\n",
    "ctgan.fit(label1)\n",
    "\n",
    "label1_samp = ctgan.sample(400000)"
   ]
  },
  {
   "cell_type": "code",
   "execution_count": 45,
   "metadata": {},
   "outputs": [],
   "source": [
    "label1_samp = pd.read_csv('label1_samp.csv')"
   ]
  },
  {
   "cell_type": "code",
   "execution_count": 66,
   "metadata": {},
   "outputs": [],
   "source": [
    "ori_reduced.columns = ['col1', 'col2', 'col3', 'col4', 'col5', 'col6', 'order_ships']"
   ]
  },
  {
   "cell_type": "code",
   "execution_count": 74,
   "metadata": {},
   "outputs": [],
   "source": [
    "label0_train = ori_reduced[ori_reduced.order_ships == 0].sample(720000, random_state=2024)\n",
    "label1_train = pd.concat([\n",
    "    ori_reduced[ori_reduced.order_ships == 1],\n",
    "    label1_samp.drop(columns='Unnamed: 0')\n",
    "], axis=0)\n",
    "new_data = pd.concat([label0_train, label1_train], axis=0)\n",
    "train_data = new_data.drop(columns='order_ships')\n",
    "train_target = new_data.order_ships"
   ]
  },
  {
   "cell_type": "code",
   "execution_count": 77,
   "metadata": {},
   "outputs": [
    {
     "data": {
      "text/plain": [
       "(1664590, 6)"
      ]
     },
     "execution_count": 77,
     "metadata": {},
     "output_type": "execute_result"
    }
   ],
   "source": [
    "ori_df_reduced.shape"
   ]
  },
  {
   "cell_type": "code",
   "execution_count": 86,
   "metadata": {},
   "outputs": [
    {
     "name": "stdout",
     "output_type": "stream",
     "text": [
      "0.7846752609965881\n",
      "0.06199070741443622\n"
     ]
    }
   ],
   "source": [
    "clf = LGBMClassifier(n_estimators=200,\n",
    "                          max_depth=4,\n",
    "                          learning_rate=0.1,\n",
    "                          objective='binary',\n",
    "                          verbose=-1,\n",
    "                          random_state=2024).fit(train_data, train_target)\n",
    "pred = clf.predict(ori_reduced.drop(columns='order_ships'))\n",
    "print(accuracy_score(ori_reduced.order_ships, pred))\n",
    "print(f1_score(ori_reduced.order_ships, pred))"
   ]
  },
  {
   "cell_type": "code",
   "execution_count": 84,
   "metadata": {},
   "outputs": [
    {
     "data": {
      "text/plain": [
       "(1664590, 6)"
      ]
     },
     "execution_count": 84,
     "metadata": {},
     "output_type": "execute_result"
    }
   ],
   "source": [
    "ori_df_reduced.shape"
   ]
  },
  {
   "cell_type": "code",
   "execution_count": 87,
   "metadata": {},
   "outputs": [
    {
     "name": "stdout",
     "output_type": "stream",
     "text": [
      "0.29064289429033324\n",
      "0.004161261324768215\n"
     ]
    }
   ],
   "source": [
    "def cross_val(clf, ori_data, ori_target):\n",
    "    cv = StratifiedKFold(n_splits=5, shuffle=True, random_state=2024)\n",
    "    scores = cross_val_score(estimator=clf, X=ori_data, y=ori_target, cv=cv, scoring='f1')\n",
    "    return scores.mean(), scores.std()\n",
    "\n",
    "cross_val_mean, cross_val_std = [], []\n",
    "\n",
    "cv_mean, cv_std = cross_val(clf, ori_df_reduced, ori_target)\n",
    "cross_val_mean.append(cv_mean)\n",
    "cross_val_std.append(cv_std)\n",
    "\n",
    "print(cv_mean)\n",
    "print(cv_std)"
   ]
  },
  {
   "cell_type": "markdown",
   "metadata": {},
   "source": [
    "## KNN"
   ]
  },
  {
   "cell_type": "code",
   "execution_count": 96,
   "metadata": {},
   "outputs": [
    {
     "name": "stdout",
     "output_type": "stream",
     "text": [
      "0.7956668036911035\n",
      "0.8118514103479755\n"
     ]
    }
   ],
   "source": [
    "from sklearn.neighbors import KNeighborsClassifier\n",
    "\n",
    "X_train, X_test, y_train, y_test = train_test_split(ori_reduced_new, ori_target_new, \n",
    "                                                    test_size=.2, random_state=2024)\n",
    "knn = KNeighborsClassifier(n_neighbors=7).fit(X_train, y_train)\n",
    "pred = knn.predict(X_test)\n",
    "print(accuracy_score(y_test, pred))\n",
    "print(f1_score(y_test, pred))"
   ]
  },
  {
   "cell_type": "code",
   "execution_count": 98,
   "metadata": {},
   "outputs": [
    {
     "name": "stdout",
     "output_type": "stream",
     "text": [
      "0.5824517274987712\n",
      "0.25519974190201494\n"
     ]
    }
   ],
   "source": [
    "pred2 = knn.predict(ori_reduced.drop(columns='order_ships'))\n",
    "print(accuracy_score(ori_reduced.order_ships, pred2))\n",
    "print(f1_score(ori_reduced.order_ships, pred2))"
   ]
  },
  {
   "cell_type": "code",
   "execution_count": 99,
   "metadata": {},
   "outputs": [
    {
     "data": {
      "text/html": [
       "<div>\n",
       "<style scoped>\n",
       "    .dataframe tbody tr th:only-of-type {\n",
       "        vertical-align: middle;\n",
       "    }\n",
       "\n",
       "    .dataframe tbody tr th {\n",
       "        vertical-align: top;\n",
       "    }\n",
       "\n",
       "    .dataframe thead th {\n",
       "        text-align: right;\n",
       "    }\n",
       "</style>\n",
       "<table border=\"1\" class=\"dataframe\">\n",
       "  <thead>\n",
       "    <tr style=\"text-align: right;\">\n",
       "      <th></th>\n",
       "      <th>col1</th>\n",
       "      <th>col2</th>\n",
       "      <th>col3</th>\n",
       "      <th>col4</th>\n",
       "      <th>col5</th>\n",
       "      <th>col6</th>\n",
       "      <th>order_ships</th>\n",
       "    </tr>\n",
       "  </thead>\n",
       "  <tbody>\n",
       "    <tr>\n",
       "      <th>0</th>\n",
       "      <td>0.035000</td>\n",
       "      <td>0.720775</td>\n",
       "      <td>-0.016941</td>\n",
       "      <td>-0.331843</td>\n",
       "      <td>0.978013</td>\n",
       "      <td>-0.108952</td>\n",
       "      <td>1.0</td>\n",
       "    </tr>\n",
       "    <tr>\n",
       "      <th>1</th>\n",
       "      <td>0.088248</td>\n",
       "      <td>0.715691</td>\n",
       "      <td>0.050129</td>\n",
       "      <td>-0.285914</td>\n",
       "      <td>-0.050441</td>\n",
       "      <td>0.099609</td>\n",
       "      <td>0.0</td>\n",
       "    </tr>\n",
       "    <tr>\n",
       "      <th>2</th>\n",
       "      <td>-0.561659</td>\n",
       "      <td>-0.010016</td>\n",
       "      <td>-0.160623</td>\n",
       "      <td>-0.220332</td>\n",
       "      <td>-0.091934</td>\n",
       "      <td>0.057130</td>\n",
       "      <td>0.0</td>\n",
       "    </tr>\n",
       "    <tr>\n",
       "      <th>3</th>\n",
       "      <td>-0.561656</td>\n",
       "      <td>-0.010058</td>\n",
       "      <td>-0.160685</td>\n",
       "      <td>-0.220100</td>\n",
       "      <td>-0.091833</td>\n",
       "      <td>-0.127968</td>\n",
       "      <td>0.0</td>\n",
       "    </tr>\n",
       "    <tr>\n",
       "      <th>4</th>\n",
       "      <td>0.151613</td>\n",
       "      <td>-0.584930</td>\n",
       "      <td>-0.190111</td>\n",
       "      <td>0.459869</td>\n",
       "      <td>-0.024480</td>\n",
       "      <td>-0.006625</td>\n",
       "      <td>0.0</td>\n",
       "    </tr>\n",
       "    <tr>\n",
       "      <th>...</th>\n",
       "      <td>...</td>\n",
       "      <td>...</td>\n",
       "      <td>...</td>\n",
       "      <td>...</td>\n",
       "      <td>...</td>\n",
       "      <td>...</td>\n",
       "      <td>...</td>\n",
       "    </tr>\n",
       "    <tr>\n",
       "      <th>1664585</th>\n",
       "      <td>0.826646</td>\n",
       "      <td>0.057099</td>\n",
       "      <td>0.070819</td>\n",
       "      <td>-0.150981</td>\n",
       "      <td>-0.001520</td>\n",
       "      <td>-0.124125</td>\n",
       "      <td>0.0</td>\n",
       "    </tr>\n",
       "    <tr>\n",
       "      <th>1664586</th>\n",
       "      <td>-0.589935</td>\n",
       "      <td>0.084985</td>\n",
       "      <td>-0.217389</td>\n",
       "      <td>0.397853</td>\n",
       "      <td>-0.069141</td>\n",
       "      <td>-0.131159</td>\n",
       "      <td>0.0</td>\n",
       "    </tr>\n",
       "    <tr>\n",
       "      <th>1664587</th>\n",
       "      <td>-0.561651</td>\n",
       "      <td>-0.009910</td>\n",
       "      <td>-0.160514</td>\n",
       "      <td>-0.220723</td>\n",
       "      <td>-0.091587</td>\n",
       "      <td>0.162520</td>\n",
       "      <td>0.0</td>\n",
       "    </tr>\n",
       "    <tr>\n",
       "      <th>1664588</th>\n",
       "      <td>-0.726434</td>\n",
       "      <td>-0.139215</td>\n",
       "      <td>0.810271</td>\n",
       "      <td>-0.121596</td>\n",
       "      <td>-0.031717</td>\n",
       "      <td>-0.128345</td>\n",
       "      <td>0.0</td>\n",
       "    </tr>\n",
       "    <tr>\n",
       "      <th>1664589</th>\n",
       "      <td>0.176502</td>\n",
       "      <td>-0.668450</td>\n",
       "      <td>-0.139996</td>\n",
       "      <td>-0.086303</td>\n",
       "      <td>-0.042358</td>\n",
       "      <td>-0.251791</td>\n",
       "      <td>0.0</td>\n",
       "    </tr>\n",
       "  </tbody>\n",
       "</table>\n",
       "<p>1664198 rows × 7 columns</p>\n",
       "</div>"
      ],
      "text/plain": [
       "             col1      col2      col3      col4      col5      col6  \\\n",
       "0        0.035000  0.720775 -0.016941 -0.331843  0.978013 -0.108952   \n",
       "1        0.088248  0.715691  0.050129 -0.285914 -0.050441  0.099609   \n",
       "2       -0.561659 -0.010016 -0.160623 -0.220332 -0.091934  0.057130   \n",
       "3       -0.561656 -0.010058 -0.160685 -0.220100 -0.091833 -0.127968   \n",
       "4        0.151613 -0.584930 -0.190111  0.459869 -0.024480 -0.006625   \n",
       "...           ...       ...       ...       ...       ...       ...   \n",
       "1664585  0.826646  0.057099  0.070819 -0.150981 -0.001520 -0.124125   \n",
       "1664586 -0.589935  0.084985 -0.217389  0.397853 -0.069141 -0.131159   \n",
       "1664587 -0.561651 -0.009910 -0.160514 -0.220723 -0.091587  0.162520   \n",
       "1664588 -0.726434 -0.139215  0.810271 -0.121596 -0.031717 -0.128345   \n",
       "1664589  0.176502 -0.668450 -0.139996 -0.086303 -0.042358 -0.251791   \n",
       "\n",
       "         order_ships  \n",
       "0                1.0  \n",
       "1                0.0  \n",
       "2                0.0  \n",
       "3                0.0  \n",
       "4                0.0  \n",
       "...              ...  \n",
       "1664585          0.0  \n",
       "1664586          0.0  \n",
       "1664587          0.0  \n",
       "1664588          0.0  \n",
       "1664589          0.0  \n",
       "\n",
       "[1664198 rows x 7 columns]"
      ]
     },
     "execution_count": 99,
     "metadata": {},
     "output_type": "execute_result"
    }
   ],
   "source": [
    "ori_reduced"
   ]
  },
  {
   "cell_type": "code",
   "execution_count": null,
   "metadata": {},
   "outputs": [],
   "source": [
    "def cross_val(clf, ori_data, ori_target):\n",
    "    cv = StratifiedKFold(n_splits=5, shuffle=True, random_state=2024)\n",
    "    scores = cross_val_score(estimator=clf, X=ori_data, y=ori_target, cv=cv, scoring='f1')\n",
    "    return scores.mean(), scores.std()\n",
    "\n",
    "cross_val_mean, cross_val_std = [], []\n",
    "\n",
    "cv_mean, cv_std = cross_val(clf, ori_df_reduced, ori_target)\n",
    "cross_val_mean.append(cv_mean)\n",
    "cross_val_std.append(cv_std)\n",
    "\n",
    "print(cv_mean)\n",
    "print(cv_std)"
   ]
  },
  {
   "cell_type": "code",
   "execution_count": 107,
   "metadata": {},
   "outputs": [
    {
     "name": "stdout",
     "output_type": "stream",
     "text": [
      "[16:53:26] WARNING: C:/Users/administrator/workspace/xgboost-win64_release_1.6.0/src/learner.cc:627: \n",
      "Parameters: { \"scale_pos_weigght\" } might not be used.\n",
      "\n",
      "  This could be a false alarm, with some parameters getting used by language bindings but\n",
      "  then being mistakenly passed down to XGBoost core, or some parameter actually being used\n",
      "  but getting flagged wrongly here. Please open an issue if you find any such cases.\n",
      "\n",
      "\n",
      "[16:53:31] WARNING: C:/Users/administrator/workspace/xgboost-win64_release_1.6.0/src/learner.cc:627: \n",
      "Parameters: { \"scale_pos_weigght\" } might not be used.\n",
      "\n",
      "  This could be a false alarm, with some parameters getting used by language bindings but\n",
      "  then being mistakenly passed down to XGBoost core, or some parameter actually being used\n",
      "  but getting flagged wrongly here. Please open an issue if you find any such cases.\n",
      "\n",
      "\n",
      "[16:53:36] WARNING: C:/Users/administrator/workspace/xgboost-win64_release_1.6.0/src/learner.cc:627: \n",
      "Parameters: { \"scale_pos_weigght\" } might not be used.\n",
      "\n",
      "  This could be a false alarm, with some parameters getting used by language bindings but\n",
      "  then being mistakenly passed down to XGBoost core, or some parameter actually being used\n",
      "  but getting flagged wrongly here. Please open an issue if you find any such cases.\n",
      "\n",
      "\n",
      "[16:53:41] WARNING: C:/Users/administrator/workspace/xgboost-win64_release_1.6.0/src/learner.cc:627: \n",
      "Parameters: { \"scale_pos_weigght\" } might not be used.\n",
      "\n",
      "  This could be a false alarm, with some parameters getting used by language bindings but\n",
      "  then being mistakenly passed down to XGBoost core, or some parameter actually being used\n",
      "  but getting flagged wrongly here. Please open an issue if you find any such cases.\n",
      "\n",
      "\n",
      "[16:53:47] WARNING: C:/Users/administrator/workspace/xgboost-win64_release_1.6.0/src/learner.cc:627: \n",
      "Parameters: { \"scale_pos_weigght\" } might not be used.\n",
      "\n",
      "  This could be a false alarm, with some parameters getting used by language bindings but\n",
      "  then being mistakenly passed down to XGBoost core, or some parameter actually being used\n",
      "  but getting flagged wrongly here. Please open an issue if you find any such cases.\n",
      "\n",
      "\n",
      "[16:53:52] WARNING: C:/Users/administrator/workspace/xgboost-win64_release_1.6.0/src/learner.cc:627: \n",
      "Parameters: { \"scale_pos_weigght\" } might not be used.\n",
      "\n",
      "  This could be a false alarm, with some parameters getting used by language bindings but\n",
      "  then being mistakenly passed down to XGBoost core, or some parameter actually being used\n",
      "  but getting flagged wrongly here. Please open an issue if you find any such cases.\n",
      "\n",
      "\n",
      "0.0006605194371172848\n",
      "9.1141343419089e-05\n"
     ]
    }
   ],
   "source": [
    "X_train, X_test, y_train, y_test = train_test_split(ori_reduced.drop(columns='order_ships'), ori_reduced.order_ships, test_size=.2, random_state=2024)\n",
    "scale = sum(y_train == 0) / sum(y_train == 1)\n",
    "clf = XGBClassifier(n_estimators=300,\n",
    "                    max_depth=10,\n",
    "                    learning_rate=0.15,\n",
    "                    tree_method='hist',\n",
    "                    scale_pos_weigght=scale,\n",
    "                    num_class=1).fit(X_train, y_train)\n",
    "\n",
    "cv_mean, cv_std = cross_val(clf, ori_reduced.drop(columns='order_ships'), ori_reduced.order_ships)\n",
    "print(cv_mean)\n",
    "print(cv_std)"
   ]
  },
  {
   "cell_type": "code",
   "execution_count": null,
   "metadata": {},
   "outputs": [],
   "source": []
  }
 ],
 "metadata": {
  "kernelspec": {
   "display_name": "cpar",
   "language": "python",
   "name": "python3"
  },
  "language_info": {
   "codemirror_mode": {
    "name": "ipython",
    "version": 3
   },
   "file_extension": ".py",
   "mimetype": "text/x-python",
   "name": "python",
   "nbconvert_exporter": "python",
   "pygments_lexer": "ipython3",
   "version": "3.7.16"
  }
 },
 "nbformat": 4,
 "nbformat_minor": 2
}
